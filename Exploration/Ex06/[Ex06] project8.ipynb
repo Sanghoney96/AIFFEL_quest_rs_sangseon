{
 "cells": [
  {
   "cell_type": "markdown",
   "id": "fa696735",
   "metadata": {},
   "source": [
    "# [Ex06] 8. 뉴스 요약봇 만들기 [프로젝트]\n",
    "  \n",
    "- [ ] Abstractive 모델 구성을 위한 텍스트 전처리 단계가 체계적으로 진행됨. \n",
    "    - 분석단계, 정제단계, 정규화,불용어제거, 데이터셋분리, 인코딩과정  \n",
    "- [ ] 텍스트 요약모델이 성공적으로 학습. \n",
    "    - train loss와 validation loss가 감소하는 경향을 그래프를 통해 확인  \n",
    "- [ ] Extractive 요약을 시도해 보고 Abstractive 요약 결과 \n",
    "    - 두 요약 결과를 문법완성도 측면과 핵심단어 포함 측면으로 나누어 비교하고 분석 결과를 표로 정리  "
   ]
  },
  {
   "cell_type": "code",
   "execution_count": 1,
   "id": "0f44382d",
   "metadata": {},
   "outputs": [
    {
     "name": "stdout",
     "output_type": "stream",
     "text": [
      "3.6.5\n",
      "2.6.0\n",
      "1.3.3\n",
      "1.2.0\n"
     ]
    }
   ],
   "source": [
    "from importlib.metadata import version\n",
    "import nltk\n",
    "import tensorflow\n",
    "import summa\n",
    "import pandas as pd\n",
    "\n",
    "print(nltk.__version__)\n",
    "print(tensorflow.__version__)\n",
    "print(pd.__version__)\n",
    "print(version('summa'))"
   ]
  },
  {
   "cell_type": "code",
   "execution_count": 2,
   "id": "fb0a5d49",
   "metadata": {},
   "outputs": [
    {
     "name": "stderr",
     "output_type": "stream",
     "text": [
      "[nltk_data] Downloading package stopwords to /aiffel/nltk_data...\n",
      "[nltk_data]   Package stopwords is already up-to-date!\n"
     ]
    },
    {
     "data": {
      "text/plain": [
       "True"
      ]
     },
     "execution_count": 2,
     "metadata": {},
     "output_type": "execute_result"
    }
   ],
   "source": [
    "import nltk\n",
    "nltk.download('stopwords')"
   ]
  },
  {
   "cell_type": "code",
   "execution_count": 3,
   "id": "64dc40b8",
   "metadata": {},
   "outputs": [],
   "source": [
    "import numpy as np\n",
    "import os\n",
    "import re\n",
    "import matplotlib.pyplot as plt\n",
    "from nltk.corpus import stopwords\n",
    "from bs4 import BeautifulSoup \n",
    "from tensorflow.keras.preprocessing.text import Tokenizer \n",
    "from tensorflow.keras.preprocessing.sequence import pad_sequences\n",
    "import urllib.request\n",
    "import warnings\n",
    "warnings.filterwarnings(\"ignore\", category=UserWarning, module='bs4')"
   ]
  },
  {
   "cell_type": "markdown",
   "id": "735f0b75",
   "metadata": {},
   "source": [
    "## 1. 데이터"
   ]
  },
  {
   "cell_type": "code",
   "execution_count": 4,
   "id": "32dc9906",
   "metadata": {},
   "outputs": [],
   "source": [
    "import urllib.request\n",
    "urllib.request.urlretrieve(\"https://raw.githubusercontent.com/sunnysai12345/News_Summary/master/news_summary_more.csv\", filename=\"news_summary_more.csv\")\n",
    "data = pd.read_csv('news_summary_more.csv', encoding='iso-8859-1')"
   ]
  },
  {
   "cell_type": "code",
   "execution_count": 5,
   "id": "425c561d",
   "metadata": {},
   "outputs": [
    {
     "data": {
      "text/html": [
       "<div>\n",
       "<style scoped>\n",
       "    .dataframe tbody tr th:only-of-type {\n",
       "        vertical-align: middle;\n",
       "    }\n",
       "\n",
       "    .dataframe tbody tr th {\n",
       "        vertical-align: top;\n",
       "    }\n",
       "\n",
       "    .dataframe thead th {\n",
       "        text-align: right;\n",
       "    }\n",
       "</style>\n",
       "<table border=\"1\" class=\"dataframe\">\n",
       "  <thead>\n",
       "    <tr style=\"text-align: right;\">\n",
       "      <th></th>\n",
       "      <th>headlines</th>\n",
       "      <th>text</th>\n",
       "    </tr>\n",
       "  </thead>\n",
       "  <tbody>\n",
       "    <tr>\n",
       "      <th>87980</th>\n",
       "      <td>'No Helmet No Petrol' drive begins in Lucknow</td>\n",
       "      <td>The Lucknow Police on Monday began a new drive...</td>\n",
       "    </tr>\n",
       "    <tr>\n",
       "      <th>28488</th>\n",
       "      <td>Messi overtakes Chhetri again, becomes 2nd bes...</td>\n",
       "      <td>Argentina captain Lionel Messi scored his inte...</td>\n",
       "    </tr>\n",
       "    <tr>\n",
       "      <th>93815</th>\n",
       "      <td>India-Australia Test series drew record viewer...</td>\n",
       "      <td>The recently concluded four-match Test series ...</td>\n",
       "    </tr>\n",
       "    <tr>\n",
       "      <th>43226</th>\n",
       "      <td>Make offer to Rakesh to settle Krrish 3 case: ...</td>\n",
       "      <td>The Supreme Court has asked novelist Rupnaraya...</td>\n",
       "    </tr>\n",
       "    <tr>\n",
       "      <th>78483</th>\n",
       "      <td>Deepika Padukone is the best kisser: Ranveer S...</td>\n",
       "      <td>Ranveer Singh has said his rumoured girlfriend...</td>\n",
       "    </tr>\n",
       "    <tr>\n",
       "      <th>46559</th>\n",
       "      <td>Australia's Deputy PM resigns after affair wit...</td>\n",
       "      <td>Australia's Deputy PM Barnaby Joyce has announ...</td>\n",
       "    </tr>\n",
       "    <tr>\n",
       "      <th>70090</th>\n",
       "      <td>Applied for coach post after Shastri said he w...</td>\n",
       "      <td>Former Indian cricketer Virender Sehwag has re...</td>\n",
       "    </tr>\n",
       "    <tr>\n",
       "      <th>84189</th>\n",
       "      <td>Want to live for kids: Mumbai Blasts convict p...</td>\n",
       "      <td>Convicted recently in the 1993 Mumbai Serial B...</td>\n",
       "    </tr>\n",
       "    <tr>\n",
       "      <th>63579</th>\n",
       "      <td>Pak beat SL as they host team for 1st time sin...</td>\n",
       "      <td>Pakistan defeated Sri Lanka on home soil, whil...</td>\n",
       "    </tr>\n",
       "    <tr>\n",
       "      <th>71327</th>\n",
       "      <td>Dawood Ibrahim's brother asked to vacate his M...</td>\n",
       "      <td>Underworld Don Dawood Ibrahim's brother Iqbal ...</td>\n",
       "    </tr>\n",
       "  </tbody>\n",
       "</table>\n",
       "</div>"
      ],
      "text/plain": [
       "                                               headlines  \\\n",
       "87980      'No Helmet No Petrol' drive begins in Lucknow   \n",
       "28488  Messi overtakes Chhetri again, becomes 2nd bes...   \n",
       "93815  India-Australia Test series drew record viewer...   \n",
       "43226  Make offer to Rakesh to settle Krrish 3 case: ...   \n",
       "78483  Deepika Padukone is the best kisser: Ranveer S...   \n",
       "46559  Australia's Deputy PM resigns after affair wit...   \n",
       "70090  Applied for coach post after Shastri said he w...   \n",
       "84189  Want to live for kids: Mumbai Blasts convict p...   \n",
       "63579  Pak beat SL as they host team for 1st time sin...   \n",
       "71327  Dawood Ibrahim's brother asked to vacate his M...   \n",
       "\n",
       "                                                    text  \n",
       "87980  The Lucknow Police on Monday began a new drive...  \n",
       "28488  Argentina captain Lionel Messi scored his inte...  \n",
       "93815  The recently concluded four-match Test series ...  \n",
       "43226  The Supreme Court has asked novelist Rupnaraya...  \n",
       "78483  Ranveer Singh has said his rumoured girlfriend...  \n",
       "46559  Australia's Deputy PM Barnaby Joyce has announ...  \n",
       "70090  Former Indian cricketer Virender Sehwag has re...  \n",
       "84189  Convicted recently in the 1993 Mumbai Serial B...  \n",
       "63579  Pakistan defeated Sri Lanka on home soil, whil...  \n",
       "71327  Underworld Don Dawood Ibrahim's brother Iqbal ...  "
      ]
     },
     "execution_count": 5,
     "metadata": {},
     "output_type": "execute_result"
    }
   ],
   "source": [
    "data.sample(10)"
   ]
  },
  {
   "cell_type": "markdown",
   "id": "bba17ce4",
   "metadata": {},
   "source": [
    "---\n",
    "## 2. 데이터 전처리하기 (추상적 요약)"
   ]
  },
  {
   "cell_type": "code",
   "execution_count": 6,
   "id": "75f6d41e",
   "metadata": {},
   "outputs": [
    {
     "name": "stdout",
     "output_type": "stream",
     "text": [
      "98401\n"
     ]
    }
   ],
   "source": [
    "print(len(data))"
   ]
  },
  {
   "cell_type": "code",
   "execution_count": 7,
   "id": "73377d5a",
   "metadata": {},
   "outputs": [
    {
     "name": "stdout",
     "output_type": "stream",
     "text": [
      "text 열에서 중복을 배제한 유일한 샘플의 수 : 98360\n",
      "headlines 열에서 중복을 배제한 유일한 샘플의 수 : 98280\n"
     ]
    }
   ],
   "source": [
    "print('text 열에서 중복을 배제한 유일한 샘플의 수 :', data['text'].nunique())\n",
    "print('headlines 열에서 중복을 배제한 유일한 샘플의 수 :', data['headlines'].nunique())"
   ]
  },
  {
   "cell_type": "code",
   "execution_count": 8,
   "id": "916a6b02",
   "metadata": {},
   "outputs": [
    {
     "name": "stdout",
     "output_type": "stream",
     "text": [
      "전체 샘플수 : 98360\n"
     ]
    }
   ],
   "source": [
    "data.drop_duplicates(subset = ['text'], inplace=True)\n",
    "print('전체 샘플수 :', (len(data)))"
   ]
  },
  {
   "cell_type": "code",
   "execution_count": 9,
   "id": "d4368928",
   "metadata": {},
   "outputs": [
    {
     "name": "stdout",
     "output_type": "stream",
     "text": [
      "headlines    0\n",
      "text         0\n",
      "dtype: int64\n"
     ]
    }
   ],
   "source": [
    "print(data.isnull().sum())"
   ]
  },
  {
   "cell_type": "markdown",
   "id": "d4693efe",
   "metadata": {},
   "source": [
    "### 정규화 및 불용어제거"
   ]
  },
  {
   "cell_type": "code",
   "execution_count": 10,
   "id": "1badcbb7",
   "metadata": {},
   "outputs": [
    {
     "name": "stdout",
     "output_type": "stream",
     "text": [
      "정규화 사전의 수:  120\n"
     ]
    }
   ],
   "source": [
    "# 정규화\n",
    "contractions = {\"ain't\": \"is not\", \"aren't\": \"are not\",\"can't\": \"cannot\", \"'cause\": \"because\", \"could've\": \"could have\", \"couldn't\": \"could not\",\n",
    "                           \"didn't\": \"did not\",  \"doesn't\": \"does not\", \"don't\": \"do not\", \"hadn't\": \"had not\", \"hasn't\": \"has not\", \"haven't\": \"have not\",\n",
    "                           \"he'd\": \"he would\",\"he'll\": \"he will\", \"he's\": \"he is\", \"how'd\": \"how did\", \"how'd'y\": \"how do you\", \"how'll\": \"how will\", \"how's\": \"how is\",\n",
    "                           \"I'd\": \"I would\", \"I'd've\": \"I would have\", \"I'll\": \"I will\", \"I'll've\": \"I will have\",\"I'm\": \"I am\", \"I've\": \"I have\", \"i'd\": \"i would\",\n",
    "                           \"i'd've\": \"i would have\", \"i'll\": \"i will\",  \"i'll've\": \"i will have\",\"i'm\": \"i am\", \"i've\": \"i have\", \"isn't\": \"is not\", \"it'd\": \"it would\",\n",
    "                           \"it'd've\": \"it would have\", \"it'll\": \"it will\", \"it'll've\": \"it will have\",\"it's\": \"it is\", \"let's\": \"let us\", \"ma'am\": \"madam\",\n",
    "                           \"mayn't\": \"may not\", \"might've\": \"might have\",\"mightn't\": \"might not\",\"mightn't've\": \"might not have\", \"must've\": \"must have\",\n",
    "                           \"mustn't\": \"must not\", \"mustn't've\": \"must not have\", \"needn't\": \"need not\", \"needn't've\": \"need not have\",\"o'clock\": \"of the clock\",\n",
    "                           \"oughtn't\": \"ought not\", \"oughtn't've\": \"ought not have\", \"shan't\": \"shall not\", \"sha'n't\": \"shall not\", \"shan't've\": \"shall not have\",\n",
    "                           \"she'd\": \"she would\", \"she'd've\": \"she would have\", \"she'll\": \"she will\", \"she'll've\": \"she will have\", \"she's\": \"she is\",\n",
    "                           \"should've\": \"should have\", \"shouldn't\": \"should not\", \"shouldn't've\": \"should not have\", \"so've\": \"so have\",\"so's\": \"so as\",\n",
    "                           \"this's\": \"this is\",\"that'd\": \"that would\", \"that'd've\": \"that would have\", \"that's\": \"that is\", \"there'd\": \"there would\",\n",
    "                           \"there'd've\": \"there would have\", \"there's\": \"there is\", \"here's\": \"here is\",\"they'd\": \"they would\", \"they'd've\": \"they would have\",\n",
    "                           \"they'll\": \"they will\", \"they'll've\": \"they will have\", \"they're\": \"they are\", \"they've\": \"they have\", \"to've\": \"to have\",\n",
    "                           \"wasn't\": \"was not\", \"we'd\": \"we would\", \"we'd've\": \"we would have\", \"we'll\": \"we will\", \"we'll've\": \"we will have\", \"we're\": \"we are\",\n",
    "                           \"we've\": \"we have\", \"weren't\": \"were not\", \"what'll\": \"what will\", \"what'll've\": \"what will have\", \"what're\": \"what are\",\n",
    "                           \"what's\": \"what is\", \"what've\": \"what have\", \"when's\": \"when is\", \"when've\": \"when have\", \"where'd\": \"where did\", \"where's\": \"where is\",\n",
    "                           \"where've\": \"where have\", \"who'll\": \"who will\", \"who'll've\": \"who will have\", \"who's\": \"who is\", \"who've\": \"who have\",\n",
    "                           \"why's\": \"why is\", \"why've\": \"why have\", \"will've\": \"will have\", \"won't\": \"will not\", \"won't've\": \"will not have\",\n",
    "                           \"would've\": \"would have\", \"wouldn't\": \"would not\", \"wouldn't've\": \"would not have\", \"y'all\": \"you all\",\n",
    "                           \"y'all'd\": \"you all would\",\"y'all'd've\": \"you all would have\",\"y'all're\": \"you all are\",\"y'all've\": \"you all have\",\n",
    "                           \"you'd\": \"you would\", \"you'd've\": \"you would have\", \"you'll\": \"you will\", \"you'll've\": \"you will have\",\n",
    "                           \"you're\": \"you are\", \"you've\": \"you have\"}\n",
    "\n",
    "print(\"정규화 사전의 수: \", len(contractions))"
   ]
  },
  {
   "cell_type": "code",
   "execution_count": 11,
   "id": "ab952e33",
   "metadata": {},
   "outputs": [
    {
     "name": "stdout",
     "output_type": "stream",
     "text": [
      "불용어 개수 : 179\n",
      "['i', 'me', 'my', 'myself', 'we', 'our', 'ours', 'ourselves', 'you', \"you're\", \"you've\", \"you'll\", \"you'd\", 'your', 'yours', 'yourself', 'yourselves', 'he', 'him', 'his', 'himself', 'she', \"she's\", 'her', 'hers', 'herself', 'it', \"it's\", 'its', 'itself', 'they', 'them', 'their', 'theirs', 'themselves', 'what', 'which', 'who', 'whom', 'this', 'that', \"that'll\", 'these', 'those', 'am', 'is', 'are', 'was', 'were', 'be', 'been', 'being', 'have', 'has', 'had', 'having', 'do', 'does', 'did', 'doing', 'a', 'an', 'the', 'and', 'but', 'if', 'or', 'because', 'as', 'until', 'while', 'of', 'at', 'by', 'for', 'with', 'about', 'against', 'between', 'into', 'through', 'during', 'before', 'after', 'above', 'below', 'to', 'from', 'up', 'down', 'in', 'out', 'on', 'off', 'over', 'under', 'again', 'further', 'then', 'once', 'here', 'there', 'when', 'where', 'why', 'how', 'all', 'any', 'both', 'each', 'few', 'more', 'most', 'other', 'some', 'such', 'no', 'nor', 'not', 'only', 'own', 'same', 'so', 'than', 'too', 'very', 's', 't', 'can', 'will', 'just', 'don', \"don't\", 'should', \"should've\", 'now', 'd', 'll', 'm', 'o', 're', 've', 'y', 'ain', 'aren', \"aren't\", 'couldn', \"couldn't\", 'didn', \"didn't\", 'doesn', \"doesn't\", 'hadn', \"hadn't\", 'hasn', \"hasn't\", 'haven', \"haven't\", 'isn', \"isn't\", 'ma', 'mightn', \"mightn't\", 'mustn', \"mustn't\", 'needn', \"needn't\", 'shan', \"shan't\", 'shouldn', \"shouldn't\", 'wasn', \"wasn't\", 'weren', \"weren't\", 'won', \"won't\", 'wouldn', \"wouldn't\"]\n"
     ]
    }
   ],
   "source": [
    "# 불용어\n",
    "print('불용어 개수 :', len(stopwords.words('english') ))\n",
    "print(stopwords.words('english'))"
   ]
  },
  {
   "cell_type": "code",
   "execution_count": 12,
   "id": "976ed236",
   "metadata": {},
   "outputs": [],
   "source": [
    "# 데이터 전처리 함수\n",
    "def preprocess_sentence(sentence, remove_stopwords=True):\n",
    "    sentence = sentence.lower() # 텍스트 소문자화\n",
    "    sentence = BeautifulSoup(sentence, \"lxml\").text # <br />, <a href = ...> 등의 html 태그 제거\n",
    "    sentence = re.sub(r'\\([^)]*\\)', '', sentence) # 괄호로 닫힌 문자열 (...) 제거 Ex) my husband (and myself!) for => my husband for\n",
    "    sentence = re.sub('\"','', sentence) # 쌍따옴표 \" 제거\n",
    "    sentence = ' '.join([contractions[t] if t in contractions else t for t in sentence.split(\" \")]) # 약어 정규화\n",
    "    sentence = re.sub(r\"'s\\b\",\"\", sentence) # 소유격 제거. Ex) roland's -> roland\n",
    "    sentence = re.sub(\"[^a-zA-Z]\", \" \", sentence) # 영어 외 문자(숫자, 특수문자 등) 공백으로 변환\n",
    "    sentence = re.sub('[m]{2,}', 'mm', sentence) # m이 3개 이상이면 2개로 변경. Ex) ummmmmmm yeah -> umm yeah\n",
    "    \n",
    "    # 불용어 제거 (Text)\n",
    "    if remove_stopwords:\n",
    "        tokens = ' '.join(word for word in sentence.split() if not word in stopwords.words('english') if len(word) > 1)\n",
    "    # 불용어 미제거 (Summary)\n",
    "    else:\n",
    "        tokens = ' '.join(word for word in sentence.split() if len(word) > 1)\n",
    "    return tokens\n"
   ]
  },
  {
   "cell_type": "code",
   "execution_count": 13,
   "id": "acae13eb",
   "metadata": {},
   "outputs": [
    {
     "name": "stdout",
     "output_type": "stream",
     "text": [
      "text:  everything bought great infact ordered twice third ordered wasfor mother father\n",
      "summary: great way to start the day\n"
     ]
    }
   ],
   "source": [
    "temp_text = 'Everything I bought was great, infact I ordered twice and the third ordered was<br />for my mother and father.'\n",
    "temp_summary = 'Great way to start (or finish) the day!!!'\n",
    "\n",
    "print(\"text: \", preprocess_sentence(temp_text))\n",
    "print(\"summary:\", preprocess_sentence(temp_summary, False))  # 불용어를 제거하지 않습니다."
   ]
  },
  {
   "cell_type": "code",
   "execution_count": 14,
   "id": "f8864c3f",
   "metadata": {},
   "outputs": [
    {
     "name": "stdout",
     "output_type": "stream",
     "text": [
      "Text 전처리 후 결과:  ['saurav kant alumnus upgrad iiit pg program machine learning artificial intelligence sr systems engineer infosys almost years work experience program upgrad degree career support helped transition data scientist tech mahindra salary hike upgrad online power learning powered lakh careers', 'kunal shah credit card bill payment platform cred gave users chance win free food swiggy one year pranav kaushik delhi techie bagged reward spending cred coins users get one cred coin per rupee bill paid used avail rewards brands like ixigo bookmyshow ubereats cult fit', 'new zealand defeated india wickets fourth odi hamilton thursday win first match five match odi series india lost international match rohit sharma captaincy consecutive victories dating back march match witnessed india getting seventh lowest total odi cricket history', 'aegon life iterm insurance plan customers enjoy tax benefits premiums paid save taxes plan provides life cover age years also customers options insure critical illnesses disability accidental death benefit rider life cover age years', 'speaking sexual harassment allegations rajkumar hirani sonam kapoor said known hirani many years true metoo movement get derailed metoo movement always believe woman case need reserve judgment added hirani accused assistant worked sanju']\n"
     ]
    }
   ],
   "source": [
    "# 전체 Text 데이터에 대한 전처리 : 10분 이상 시간이 걸릴 수 있습니다. \n",
    "clean_text = []\n",
    "\n",
    "for text in data['text']:\n",
    "    processed_text = preprocess_sentence(text, remove_stopwords=True)  # 불용어 제거 포함\n",
    "    clean_text.append(processed_text)  # 리스트에 저장\n",
    "\n",
    "# 전처리 후 출력\n",
    "print(\"Text 전처리 후 결과: \", clean_text[:5])"
   ]
  },
  {
   "cell_type": "code",
   "execution_count": 15,
   "id": "9a24dd6d",
   "metadata": {},
   "outputs": [
    {
     "name": "stdout",
     "output_type": "stream",
     "text": [
      "Summary 전처리 후 결과:  ['upgrad learner switches to career in ml al with salary hike', 'delhi techie wins free food from swiggy for one year on cred', 'new zealand end rohit sharma led india match winning streak', 'aegon life iterm insurance plan helps customers save tax', 'have known hirani for yrs what if metoo claims are not true sonam']\n"
     ]
    }
   ],
   "source": [
    "# 전체 Summary 데이터에 대한 전처리 : 5분 이상 시간이 걸릴 수 있습니다. \n",
    "clean_summary = []\n",
    "\n",
    "for summary in data['headlines']:\n",
    "    processed_summary = preprocess_sentence(summary, remove_stopwords=False)  # 불용어 제거 X\n",
    "    clean_summary.append(processed_summary)  # 리스트에 저장 \n",
    "\n",
    "print(\"Summary 전처리 후 결과: \", clean_summary[:5])"
   ]
  },
  {
   "cell_type": "code",
   "execution_count": 16,
   "id": "bf23261b",
   "metadata": {},
   "outputs": [],
   "source": [
    "data['Text'] = clean_text\n",
    "data['Summary'] = clean_summary\n",
    "\n",
    "# 빈 값을 Null 값으로 변환\n",
    "data.replace('', np.nan, inplace=True)"
   ]
  },
  {
   "cell_type": "code",
   "execution_count": 17,
   "id": "7ad34731",
   "metadata": {},
   "outputs": [
    {
     "data": {
      "text/plain": [
       "headlines    0\n",
       "text         0\n",
       "Text         0\n",
       "Summary      0\n",
       "dtype: int64"
      ]
     },
     "execution_count": 17,
     "metadata": {},
     "output_type": "execute_result"
    }
   ],
   "source": [
    "data.isnull().sum()"
   ]
  },
  {
   "cell_type": "code",
   "execution_count": 18,
   "id": "75dfb579",
   "metadata": {},
   "outputs": [
    {
     "name": "stdout",
     "output_type": "stream",
     "text": [
      "전체 샘플수 : 98360\n"
     ]
    }
   ],
   "source": [
    "data.dropna(axis=0, inplace=True)\n",
    "print('전체 샘플수 :', (len(data)))"
   ]
  },
  {
   "cell_type": "code",
   "execution_count": 19,
   "id": "8e2171d0",
   "metadata": {},
   "outputs": [
    {
     "name": "stdout",
     "output_type": "stream",
     "text": [
      "텍스트의 최소 길이 : 1\n",
      "텍스트의 최대 길이 : 60\n",
      "텍스트의 평균 길이 : 35.09968483123221\n",
      "요약의 최소 길이 : 1\n",
      "요약의 최대 길이 : 16\n",
      "요약의 평균 길이 : 9.299532330215534\n"
     ]
    },
    {
     "data": {
      "image/png": "[encoded data removed]",
      "text/plain": [
       "<Figure size 432x288 with 2 Axes>"
      ]
     },
     "metadata": {
      "needs_background": "light"
     },
     "output_type": "display_data"
    },
    {
     "data": {
      "image/png": "[encoded data removed]",
      "text/plain": [
       "<Figure size 432x288 with 1 Axes>"
      ]
     },
     "metadata": {
      "needs_background": "light"
     },
     "output_type": "display_data"
    },
    {
     "data": {
      "image/png": "[encoded data removed]",
      "text/plain": [
       "<Figure size 432x288 with 1 Axes>"
      ]
     },
     "metadata": {
      "needs_background": "light"
     },
     "output_type": "display_data"
    }
   ],
   "source": [
    "# 길이 분포 출력\n",
    "import matplotlib.pyplot as plt\n",
    "\n",
    "text_len = [len(s.split()) for s in data['Text']]\n",
    "summary_len = [len(s.split()) for s in data['Summary']]\n",
    "\n",
    "print('텍스트의 최소 길이 : {}'.format(np.min(text_len)))\n",
    "print('텍스트의 최대 길이 : {}'.format(np.max(text_len)))\n",
    "print('텍스트의 평균 길이 : {}'.format(np.mean(text_len)))\n",
    "print('요약의 최소 길이 : {}'.format(np.min(summary_len)))\n",
    "print('요약의 최대 길이 : {}'.format(np.max(summary_len)))\n",
    "print('요약의 평균 길이 : {}'.format(np.mean(summary_len)))\n",
    "\n",
    "plt.subplot(1,2,1)\n",
    "plt.boxplot(text_len)\n",
    "plt.title('Text')\n",
    "plt.subplot(1,2,2)\n",
    "plt.boxplot(summary_len)\n",
    "plt.title('Summary')\n",
    "plt.tight_layout()\n",
    "plt.show()\n",
    "\n",
    "plt.title('Text')\n",
    "plt.hist(text_len, bins = 40)\n",
    "plt.xlabel('length of samples')\n",
    "plt.ylabel('number of samples')\n",
    "plt.show()\n",
    "\n",
    "plt.title('Summary')\n",
    "plt.hist(summary_len, bins = 40)\n",
    "plt.xlabel('length of samples')\n",
    "plt.ylabel('number of samples')\n",
    "plt.show()"
   ]
  },
  {
   "cell_type": "code",
   "execution_count": 20,
   "id": "012303fa",
   "metadata": {},
   "outputs": [],
   "source": [
    "text_max_len = 50\n",
    "summary_max_len = 11"
   ]
  },
  {
   "cell_type": "code",
   "execution_count": 21,
   "id": "6f535e84",
   "metadata": {},
   "outputs": [],
   "source": [
    "def below_threshold_len(max_len, nested_list):\n",
    "    cnt = 0\n",
    "    for s in nested_list:\n",
    "        if(len(s.split()) <= max_len):\n",
    "            cnt = cnt + 1\n",
    "    print('전체 샘플 중 길이가 %s 이하인 샘플의 비율: %s'%(max_len, (cnt / len(nested_list))))"
   ]
  },
  {
   "cell_type": "code",
   "execution_count": 22,
   "id": "7b9539d6",
   "metadata": {},
   "outputs": [
    {
     "name": "stdout",
     "output_type": "stream",
     "text": [
      "전체 샘플 중 길이가 50 이하인 샘플의 비율: 0.9998576657177715\n",
      "전체 샘플 중 길이가 11 이하인 샘플의 비율: 0.9449877999186661\n"
     ]
    }
   ],
   "source": [
    "below_threshold_len(text_max_len, data['Text'])\n",
    "below_threshold_len(summary_max_len,  data['Summary'])"
   ]
  },
  {
   "cell_type": "code",
   "execution_count": 23,
   "id": "e5b4339a",
   "metadata": {},
   "outputs": [
    {
     "name": "stdout",
     "output_type": "stream",
     "text": [
      "전체 샘플수 : 92935\n"
     ]
    }
   ],
   "source": [
    "# 길이를 초과하는 샘플 제외\n",
    "data = data[(data['Text'].apply(lambda x: len(x.split()) <= text_max_len)) & \n",
    "            (data['Summary'].apply(lambda x: len(x.split()) <= summary_max_len))]\n",
    "\n",
    "# 전체 샘플 수 출력\n",
    "print('전체 샘플수 :', len(data))"
   ]
  },
  {
   "cell_type": "code",
   "execution_count": 24,
   "id": "053c4fe1",
   "metadata": {},
   "outputs": [
    {
     "data": {
      "text/html": [
       "<div>\n",
       "<style scoped>\n",
       "    .dataframe tbody tr th:only-of-type {\n",
       "        vertical-align: middle;\n",
       "    }\n",
       "\n",
       "    .dataframe tbody tr th {\n",
       "        vertical-align: top;\n",
       "    }\n",
       "\n",
       "    .dataframe thead th {\n",
       "        text-align: right;\n",
       "    }\n",
       "</style>\n",
       "<table border=\"1\" class=\"dataframe\">\n",
       "  <thead>\n",
       "    <tr style=\"text-align: right;\">\n",
       "      <th></th>\n",
       "      <th>headlines</th>\n",
       "      <th>text</th>\n",
       "      <th>Text</th>\n",
       "      <th>Summary</th>\n",
       "      <th>decoder_input</th>\n",
       "      <th>decoder_target</th>\n",
       "    </tr>\n",
       "  </thead>\n",
       "  <tbody>\n",
       "    <tr>\n",
       "      <th>0</th>\n",
       "      <td>upGrad learner switches to career in ML &amp; Al w...</td>\n",
       "      <td>Saurav Kant, an alumnus of upGrad and IIIT-B's...</td>\n",
       "      <td>saurav kant alumnus upgrad iiit pg program mac...</td>\n",
       "      <td>upgrad learner switches to career in ml al wit...</td>\n",
       "      <td>sostoken upgrad learner switches to career in ...</td>\n",
       "      <td>upgrad learner switches to career in ml al wit...</td>\n",
       "    </tr>\n",
       "    <tr>\n",
       "      <th>2</th>\n",
       "      <td>New Zealand end Rohit Sharma-led India's 12-ma...</td>\n",
       "      <td>New Zealand defeated India by 8 wickets in the...</td>\n",
       "      <td>new zealand defeated india wickets fourth odi ...</td>\n",
       "      <td>new zealand end rohit sharma led india match w...</td>\n",
       "      <td>sostoken new zealand end rohit sharma led indi...</td>\n",
       "      <td>new zealand end rohit sharma led india match w...</td>\n",
       "    </tr>\n",
       "    <tr>\n",
       "      <th>3</th>\n",
       "      <td>Aegon life iTerm insurance plan helps customer...</td>\n",
       "      <td>With Aegon Life iTerm Insurance plan, customer...</td>\n",
       "      <td>aegon life iterm insurance plan customers enjo...</td>\n",
       "      <td>aegon life iterm insurance plan helps customer...</td>\n",
       "      <td>sostoken aegon life iterm insurance plan helps...</td>\n",
       "      <td>aegon life iterm insurance plan helps customer...</td>\n",
       "    </tr>\n",
       "    <tr>\n",
       "      <th>5</th>\n",
       "      <td>Rahat Fateh Ali Khan denies getting notice for...</td>\n",
       "      <td>Pakistani singer Rahat Fateh Ali Khan has deni...</td>\n",
       "      <td>pakistani singer rahat fateh ali khan denied r...</td>\n",
       "      <td>rahat fateh ali khan denies getting notice for...</td>\n",
       "      <td>sostoken rahat fateh ali khan denies getting n...</td>\n",
       "      <td>rahat fateh ali khan denies getting notice for...</td>\n",
       "    </tr>\n",
       "    <tr>\n",
       "      <th>7</th>\n",
       "      <td>Govt directs Alok Verma to join work 1 day bef...</td>\n",
       "      <td>Weeks after ex-CBI Director Alok Verma told th...</td>\n",
       "      <td>weeks ex cbi director alok verma told departme...</td>\n",
       "      <td>govt directs alok verma to join work day befor...</td>\n",
       "      <td>sostoken govt directs alok verma to join work ...</td>\n",
       "      <td>govt directs alok verma to join work day befor...</td>\n",
       "    </tr>\n",
       "  </tbody>\n",
       "</table>\n",
       "</div>"
      ],
      "text/plain": [
       "                                           headlines  \\\n",
       "0  upGrad learner switches to career in ML & Al w...   \n",
       "2  New Zealand end Rohit Sharma-led India's 12-ma...   \n",
       "3  Aegon life iTerm insurance plan helps customer...   \n",
       "5  Rahat Fateh Ali Khan denies getting notice for...   \n",
       "7  Govt directs Alok Verma to join work 1 day bef...   \n",
       "\n",
       "                                                text  \\\n",
       "0  Saurav Kant, an alumnus of upGrad and IIIT-B's...   \n",
       "2  New Zealand defeated India by 8 wickets in the...   \n",
       "3  With Aegon Life iTerm Insurance plan, customer...   \n",
       "5  Pakistani singer Rahat Fateh Ali Khan has deni...   \n",
       "7  Weeks after ex-CBI Director Alok Verma told th...   \n",
       "\n",
       "                                                Text  \\\n",
       "0  saurav kant alumnus upgrad iiit pg program mac...   \n",
       "2  new zealand defeated india wickets fourth odi ...   \n",
       "3  aegon life iterm insurance plan customers enjo...   \n",
       "5  pakistani singer rahat fateh ali khan denied r...   \n",
       "7  weeks ex cbi director alok verma told departme...   \n",
       "\n",
       "                                             Summary  \\\n",
       "0  upgrad learner switches to career in ml al wit...   \n",
       "2  new zealand end rohit sharma led india match w...   \n",
       "3  aegon life iterm insurance plan helps customer...   \n",
       "5  rahat fateh ali khan denies getting notice for...   \n",
       "7  govt directs alok verma to join work day befor...   \n",
       "\n",
       "                                       decoder_input  \\\n",
       "0  sostoken upgrad learner switches to career in ...   \n",
       "2  sostoken new zealand end rohit sharma led indi...   \n",
       "3  sostoken aegon life iterm insurance plan helps...   \n",
       "5  sostoken rahat fateh ali khan denies getting n...   \n",
       "7  sostoken govt directs alok verma to join work ...   \n",
       "\n",
       "                                      decoder_target  \n",
       "0  upgrad learner switches to career in ml al wit...  \n",
       "2  new zealand end rohit sharma led india match w...  \n",
       "3  aegon life iterm insurance plan helps customer...  \n",
       "5  rahat fateh ali khan denies getting notice for...  \n",
       "7  govt directs alok verma to join work day befor...  "
      ]
     },
     "execution_count": 24,
     "metadata": {},
     "output_type": "execute_result"
    }
   ],
   "source": [
    "# 요약 데이터에는 시작 토큰과 종료 토큰을 추가한다.\n",
    "data['decoder_input'] = data['Summary'].apply(lambda x : 'sostoken '+ x)\n",
    "data['decoder_target'] = data['Summary'].apply(lambda x : x + ' eostoken')\n",
    "data.head()"
   ]
  },
  {
   "cell_type": "code",
   "execution_count": 25,
   "id": "dab9d2ba",
   "metadata": {},
   "outputs": [],
   "source": [
    "encoder_input = np.array(data['Text']) # 인코더의 입력\n",
    "decoder_input = np.array(data['decoder_input']) # 디코더의 입력\n",
    "decoder_target = np.array(data['decoder_target']) # 디코더의 레이블"
   ]
  },
  {
   "cell_type": "code",
   "execution_count": 26,
   "id": "5e8d0ff9",
   "metadata": {},
   "outputs": [
    {
     "name": "stdout",
     "output_type": "stream",
     "text": [
      "[71101 65104 27214 ... 13818 39396  7172]\n"
     ]
    }
   ],
   "source": [
    "indices = np.arange(encoder_input.shape[0])\n",
    "np.random.shuffle(indices)\n",
    "print(indices)"
   ]
  },
  {
   "cell_type": "code",
   "execution_count": 27,
   "id": "e9d6d43b",
   "metadata": {},
   "outputs": [],
   "source": [
    "encoder_input = encoder_input[indices]\n",
    "decoder_input = decoder_input[indices]\n",
    "decoder_target = decoder_target[indices]"
   ]
  },
  {
   "cell_type": "markdown",
   "id": "fa0432e1",
   "metadata": {},
   "source": [
    "### 데이터셋 분리"
   ]
  },
  {
   "cell_type": "code",
   "execution_count": 28,
   "id": "7ca8ac98",
   "metadata": {},
   "outputs": [
    {
     "name": "stdout",
     "output_type": "stream",
     "text": [
      "테스트 데이터의 수 : 18587\n"
     ]
    }
   ],
   "source": [
    "n_of_val = int(len(encoder_input)*0.2)\n",
    "print('테스트 데이터의 수 :', n_of_val)"
   ]
  },
  {
   "cell_type": "code",
   "execution_count": 29,
   "id": "4c992828",
   "metadata": {},
   "outputs": [
    {
     "name": "stdout",
     "output_type": "stream",
     "text": [
      "훈련 데이터의 개수 : 74348\n",
      "훈련 레이블의 개수 : 74348\n",
      "테스트 데이터의 개수 : 18587\n",
      "테스트 레이블의 개수 : 18587\n"
     ]
    }
   ],
   "source": [
    "encoder_input_train = encoder_input[:-n_of_val]\n",
    "decoder_input_train = decoder_input[:-n_of_val]\n",
    "decoder_target_train = decoder_target[:-n_of_val]\n",
    "\n",
    "encoder_input_test = encoder_input[-n_of_val:]\n",
    "decoder_input_test = decoder_input[-n_of_val:]\n",
    "decoder_target_test = decoder_target[-n_of_val:]\n",
    "\n",
    "print('훈련 데이터의 개수 :', len(encoder_input_train))\n",
    "print('훈련 레이블의 개수 :', len(decoder_input_train))\n",
    "print('테스트 데이터의 개수 :', len(encoder_input_test))\n",
    "print('테스트 레이블의 개수 :', len(decoder_input_test))"
   ]
  },
  {
   "cell_type": "code",
   "execution_count": 30,
   "id": "27c5c07f",
   "metadata": {},
   "outputs": [],
   "source": [
    "src_tokenizer = Tokenizer() # 토크나이저 정의\n",
    "src_tokenizer.fit_on_texts(encoder_input_train) # 입력된 데이터로부터 단어 집합 생성"
   ]
  },
  {
   "cell_type": "code",
   "execution_count": 31,
   "id": "d3b33bc0",
   "metadata": {},
   "outputs": [
    {
     "name": "stdout",
     "output_type": "stream",
     "text": [
      "단어 집합(vocabulary)의 크기 : 68330\n",
      "등장 빈도가 6번 이하인 희귀 단어의 수: 46627\n",
      "단어 집합에서 희귀 단어를 제외시킬 경우의 단어 집합의 크기 21703\n",
      "단어 집합에서 희귀 단어의 비율: 68.23796282745501\n",
      "전체 등장 빈도에서 희귀 단어 등장 빈도 비율: 3.6086952191769175\n"
     ]
    }
   ],
   "source": [
    "threshold = 7\n",
    "total_cnt = len(src_tokenizer.word_index) # 단어의 수\n",
    "rare_cnt = 0 # 등장 빈도수가 threshold보다 작은 단어의 개수를 카운트\n",
    "total_freq = 0 # 훈련 데이터의 전체 단어 빈도수 총 합\n",
    "rare_freq = 0 # 등장 빈도수가 threshold보다 작은 단어의 등장 빈도수의 총 합\n",
    "\n",
    "# 단어와 빈도수의 쌍(pair)을 key와 value로 받는다.\n",
    "for key, value in src_tokenizer.word_counts.items():\n",
    "    total_freq = total_freq + value\n",
    "\n",
    "    # 단어의 등장 빈도수가 threshold보다 작으면\n",
    "    if(value < threshold):\n",
    "        rare_cnt = rare_cnt + 1\n",
    "        rare_freq = rare_freq + value\n",
    "\n",
    "print('단어 집합(vocabulary)의 크기 :', total_cnt)\n",
    "print('등장 빈도가 %s번 이하인 희귀 단어의 수: %s'%(threshold - 1, rare_cnt))\n",
    "print('단어 집합에서 희귀 단어를 제외시킬 경우의 단어 집합의 크기 %s'%(total_cnt - rare_cnt))\n",
    "print(\"단어 집합에서 희귀 단어의 비율:\", (rare_cnt / total_cnt)*100)\n",
    "print(\"전체 등장 빈도에서 희귀 단어 등장 빈도 비율:\", (rare_freq / total_freq)*100)"
   ]
  },
  {
   "cell_type": "code",
   "execution_count": 32,
   "id": "1cfb8524",
   "metadata": {},
   "outputs": [],
   "source": [
    "src_vocab = 11000\n",
    "src_tokenizer = Tokenizer(num_words=src_vocab) # 단어 집합의 크기를 8,000으로 제한\n",
    "src_tokenizer.fit_on_texts(encoder_input_train) # 단어 집합 재생성"
   ]
  },
  {
   "cell_type": "code",
   "execution_count": 33,
   "id": "a7a3e8c2",
   "metadata": {},
   "outputs": [
    {
     "name": "stdout",
     "output_type": "stream",
     "text": [
      "[[383, 515, 46, 14, 4533, 604, 156, 14, 121, 50, 26, 60, 356, 5565, 67, 533, 22, 628, 7012, 2225, 753, 1866, 7762, 117, 27, 80, 6410, 49, 30, 38, 967, 11, 8020, 7907, 1304, 1402, 1859], [3399, 4709, 83, 280, 242, 53, 98, 4, 228, 2995, 73, 2019, 2321, 35, 2610, 197, 3399, 1, 203, 1039, 342, 5657, 6930, 35, 6829, 299], [543, 705, 1187, 1423, 2190, 4574, 4680, 1490, 434, 87, 95, 169, 382, 3194, 168, 427, 6262, 880, 2996, 57, 728, 6931, 4, 1724, 427, 3989, 622, 543, 95, 821, 6047, 427, 2896]]\n"
     ]
    }
   ],
   "source": [
    "# 텍스트 시퀀스를 정수 시퀀스로 변환\n",
    "encoder_input_train = src_tokenizer.texts_to_sequences(encoder_input_train) \n",
    "encoder_input_test = src_tokenizer.texts_to_sequences(encoder_input_test)\n",
    "\n",
    "# 잘 진행되었는지 샘플 출력\n",
    "print(encoder_input_train[:3])"
   ]
  },
  {
   "cell_type": "code",
   "execution_count": 34,
   "id": "a49238fe",
   "metadata": {},
   "outputs": [],
   "source": [
    "tar_tokenizer = Tokenizer()\n",
    "tar_tokenizer.fit_on_texts(decoder_input_train)"
   ]
  },
  {
   "cell_type": "code",
   "execution_count": 35,
   "id": "47e30cc9",
   "metadata": {},
   "outputs": [
    {
     "name": "stdout",
     "output_type": "stream",
     "text": [
      "단어 집합(vocabulary)의 크기 : 29711\n",
      "등장 빈도가 5번 이하인 희귀 단어의 수: 19565\n",
      "단어 집합에서 희귀 단어를 제외시킬 경우의 단어 집합의 크기 10146\n",
      "단어 집합에서 희귀 단어의 비율: 65.85103160445627\n",
      "전체 등장 빈도에서 희귀 단어 등장 빈도 비율: 4.963255311181169\n"
     ]
    }
   ],
   "source": [
    "threshold = 6\n",
    "total_cnt = len(tar_tokenizer.word_index) # 단어의 수\n",
    "rare_cnt = 0 # 등장 빈도수가 threshold보다 작은 단어의 개수를 카운트\n",
    "total_freq = 0 # 훈련 데이터의 전체 단어 빈도수 총 합\n",
    "rare_freq = 0 # 등장 빈도수가 threshold보다 작은 단어의 등장 빈도수의 총 합\n",
    "\n",
    "# 단어와 빈도수의 쌍(pair)을 key와 value로 받는다.\n",
    "for key, value in tar_tokenizer.word_counts.items():\n",
    "    total_freq = total_freq + value\n",
    "\n",
    "    # 단어의 등장 빈도수가 threshold보다 작으면\n",
    "    if(value < threshold):\n",
    "        rare_cnt = rare_cnt + 1\n",
    "        rare_freq = rare_freq + value\n",
    "\n",
    "print('단어 집합(vocabulary)의 크기 :', total_cnt)\n",
    "print('등장 빈도가 %s번 이하인 희귀 단어의 수: %s'%(threshold - 1, rare_cnt))\n",
    "print('단어 집합에서 희귀 단어를 제외시킬 경우의 단어 집합의 크기 %s'%(total_cnt - rare_cnt))\n",
    "print(\"단어 집합에서 희귀 단어의 비율:\", (rare_cnt / total_cnt)*100)\n",
    "print(\"전체 등장 빈도에서 희귀 단어 등장 빈도 비율:\", (rare_freq / total_freq)*100)"
   ]
  },
  {
   "cell_type": "code",
   "execution_count": 36,
   "id": "e5029508",
   "metadata": {},
   "outputs": [
    {
     "name": "stdout",
     "output_type": "stream",
     "text": [
      "input\n",
      "input  [[1, 548, 873, 39, 939, 23, 41, 279, 1313, 441], [1, 34, 529, 173, 22, 192, 17, 55, 79, 1743], [1, 4082, 690, 451, 101, 93, 24, 217, 7, 1548, 234], [1, 4344, 1853, 2153, 24, 3524, 530], [1, 3525, 4480, 1029, 190, 3852, 690, 133]]\n",
      "target\n",
      "decoder  [[548, 873, 39, 939, 23, 41, 279, 1313, 441, 2], [34, 529, 173, 22, 192, 17, 55, 79, 1743, 2], [4082, 690, 451, 101, 93, 24, 217, 7, 1548, 234, 2], [4344, 1853, 2153, 24, 3524, 530, 2], [3525, 4480, 1029, 190, 3852, 690, 133, 2]]\n"
     ]
    }
   ],
   "source": [
    "tar_vocab = 5000\n",
    "tar_tokenizer = Tokenizer(num_words=tar_vocab) \n",
    "tar_tokenizer.fit_on_texts(decoder_input_train)\n",
    "tar_tokenizer.fit_on_texts(decoder_target_train)\n",
    "\n",
    "# 텍스트 시퀀스를 정수 시퀀스로 변환\n",
    "decoder_input_train = tar_tokenizer.texts_to_sequences(decoder_input_train) \n",
    "decoder_target_train = tar_tokenizer.texts_to_sequences(decoder_target_train)\n",
    "decoder_input_test = tar_tokenizer.texts_to_sequences(decoder_input_test)\n",
    "decoder_target_test = tar_tokenizer.texts_to_sequences(decoder_target_test)\n",
    "\n",
    "# 잘 변환되었는지 확인\n",
    "print('input')\n",
    "print('input ',decoder_input_train[:5])\n",
    "print('target')\n",
    "print('decoder ',decoder_target_train[:5])"
   ]
  },
  {
   "cell_type": "code",
   "execution_count": 37,
   "id": "f8cb5e37",
   "metadata": {},
   "outputs": [
    {
     "name": "stdout",
     "output_type": "stream",
     "text": [
      "삭제할 훈련 데이터의 개수 : 2\n",
      "삭제할 테스트 데이터의 개수 : 0\n",
      "훈련 데이터의 개수 : 74346\n",
      "훈련 레이블의 개수 : 74346\n",
      "테스트 데이터의 개수 : 18587\n",
      "테스트 레이블의 개수 : 18587\n"
     ]
    }
   ],
   "source": [
    "drop_train = [index for index, sentence in enumerate(decoder_input_train) if len(sentence) == 1]\n",
    "drop_test = [index for index, sentence in enumerate(decoder_input_test) if len(sentence) == 1]\n",
    "\n",
    "print('삭제할 훈련 데이터의 개수 :', len(drop_train))\n",
    "print('삭제할 테스트 데이터의 개수 :', len(drop_test))\n",
    "\n",
    "encoder_input_train = [sentence for index, sentence in enumerate(encoder_input_train) if index not in drop_train]\n",
    "decoder_input_train = [sentence for index, sentence in enumerate(decoder_input_train) if index not in drop_train]\n",
    "decoder_target_train = [sentence for index, sentence in enumerate(decoder_target_train) if index not in drop_train]\n",
    "\n",
    "encoder_input_test = [sentence for index, sentence in enumerate(encoder_input_test) if index not in drop_test]\n",
    "decoder_input_test = [sentence for index, sentence in enumerate(decoder_input_test) if index not in drop_test]\n",
    "decoder_target_test = [sentence for index, sentence in enumerate(decoder_target_test) if index not in drop_test]\n",
    "\n",
    "print('훈련 데이터의 개수 :', len(encoder_input_train))\n",
    "print('훈련 레이블의 개수 :', len(decoder_input_train))\n",
    "print('테스트 데이터의 개수 :', len(encoder_input_test))\n",
    "print('테스트 레이블의 개수 :', len(decoder_input_test))"
   ]
  },
  {
   "cell_type": "code",
   "execution_count": 38,
   "id": "165dea79",
   "metadata": {},
   "outputs": [],
   "source": [
    "# padding에서 pre를 활용.\n",
    "encoder_input_train = pad_sequences(encoder_input_train, maxlen=text_max_len, padding='post')\n",
    "encoder_input_test = pad_sequences(encoder_input_test, maxlen=text_max_len, padding='post')\n",
    "decoder_input_train = pad_sequences(decoder_input_train, maxlen=summary_max_len, padding='post')\n",
    "decoder_target_train = pad_sequences(decoder_target_train, maxlen=summary_max_len, padding='post')\n",
    "decoder_input_test = pad_sequences(decoder_input_test, maxlen=summary_max_len, padding='post')\n",
    "decoder_target_test = pad_sequences(decoder_target_test, maxlen=summary_max_len, padding='post')"
   ]
  },
  {
   "cell_type": "markdown",
   "id": "df45c9ba",
   "metadata": {},
   "source": [
    "### 인코더 과정"
   ]
  },
  {
   "cell_type": "code",
   "execution_count": 39,
   "id": "05142d4c",
   "metadata": {},
   "outputs": [],
   "source": [
    "from tensorflow.keras.layers import Input, LSTM, Embedding, Dense, Concatenate, TimeDistributed\n",
    "from tensorflow.keras.models import Model\n",
    "from tensorflow.keras.callbacks import EarlyStopping, ModelCheckpoint\n",
    "\n",
    "\n",
    "# 인코더 설계 시작\n",
    "embedding_dim = 128\n",
    "hidden_size = 256\n",
    "\n",
    "# 인코더\n",
    "encoder_inputs = Input(shape=(text_max_len,))\n",
    "\n",
    "# 인코더의 임베딩 층\n",
    "enc_emb = Embedding(src_vocab, embedding_dim)(encoder_inputs)\n",
    "\n",
    "# 인코더의 LSTM 1\n",
    "# encoder_lstm1 = LSTM(hidden_size, return_sequences=True, return_state=True ,dropout = 0.4, recurrent_dropout = 0.4)\n",
    "encoder_lstm1 = LSTM(hidden_size, return_sequences=True, return_state=True ,dropout = 0.4)\n",
    "encoder_output1, state_h1, state_c1 = encoder_lstm1(enc_emb)\n",
    "\n",
    "# 인코더의 LSTM 2\n",
    "encoder_lstm2 = LSTM(hidden_size, return_sequences=True, return_state=True ,dropout = 0.4)\n",
    "encoder_output2, state_h2, state_c2 = encoder_lstm2(enc_emb)\n",
    "\n",
    "# 인코더의 LSTM 3\n",
    "encoder_lstm3 = LSTM(hidden_size, return_sequences=True, return_state=True ,dropout = 0.4)\n",
    "encoder_outputs, state_h3, state_c3 = encoder_lstm3(enc_emb)"
   ]
  },
  {
   "cell_type": "markdown",
   "id": "4ced14ce",
   "metadata": {},
   "source": [
    "- 인코더에 lstm 모델을 3가지 써야 되는가..\n",
    "\n",
    "+ 주말에 lstm말고 다른 모델도 적용해보자!\n"
   ]
  },
  {
   "cell_type": "code",
   "execution_count": 40,
   "id": "c97d137b",
   "metadata": {},
   "outputs": [],
   "source": [
    "# 디코더 설계\n",
    "decoder_inputs = Input(shape=(None,))\n",
    "\n",
    "# 디코더의 임베딩 층\n",
    "dec_emb_layer = Embedding(tar_vocab, embedding_dim)\n",
    "dec_emb = dec_emb_layer(decoder_inputs)\n",
    "\n",
    "# 디코더의 LSTM\n",
    "# decoder_lstm = LSTM(hidden_size, return_sequences=True, return_state=True, dropout=0.4, recurrent_dropout=0.2)\n",
    "decoder_lstm = LSTM(hidden_size, return_sequences=True, return_state=True, dropout=0.4)\n",
    "decoder_outputs, _, _ = decoder_lstm(dec_emb, initial_state=[state_h3, state_c3]) # lstm3의 상태를 사용."
   ]
  },
  {
   "cell_type": "code",
   "execution_count": 41,
   "id": "2c95d7e6",
   "metadata": {},
   "outputs": [
    {
     "name": "stdout",
     "output_type": "stream",
     "text": [
      "Model: \"model\"\n",
      "__________________________________________________________________________________________________\n",
      "Layer (type)                    Output Shape         Param #     Connected to                     \n",
      "==================================================================================================\n",
      "input_1 (InputLayer)            [(None, 50)]         0                                            \n",
      "__________________________________________________________________________________________________\n",
      "input_2 (InputLayer)            [(None, None)]       0                                            \n",
      "__________________________________________________________________________________________________\n",
      "embedding (Embedding)           (None, 50, 128)      1408000     input_1[0][0]                    \n",
      "__________________________________________________________________________________________________\n",
      "embedding_1 (Embedding)         (None, None, 128)    640000      input_2[0][0]                    \n",
      "__________________________________________________________________________________________________\n",
      "lstm_2 (LSTM)                   [(None, 50, 256), (N 394240      embedding[0][0]                  \n",
      "__________________________________________________________________________________________________\n",
      "lstm_3 (LSTM)                   [(None, None, 256),  394240      embedding_1[0][0]                \n",
      "                                                                 lstm_2[0][1]                     \n",
      "                                                                 lstm_2[0][2]                     \n",
      "__________________________________________________________________________________________________\n",
      "dense (Dense)                   (None, None, 5000)   1285000     lstm_3[0][0]                     \n",
      "==================================================================================================\n",
      "Total params: 4,121,480\n",
      "Trainable params: 4,121,480\n",
      "Non-trainable params: 0\n",
      "__________________________________________________________________________________________________\n"
     ]
    }
   ],
   "source": [
    "# 디코더의 출력층\n",
    "decoder_softmax_layer = Dense(tar_vocab, activation='softmax')\n",
    "decoder_softmax_outputs = decoder_softmax_layer(decoder_outputs) \n",
    "\n",
    "# 모델 정의\n",
    "model = Model([encoder_inputs, decoder_inputs], decoder_softmax_outputs)\n",
    "model.summary()"
   ]
  },
  {
   "cell_type": "markdown",
   "id": "5b877b1c",
   "metadata": {},
   "source": [
    "---\n",
    "## 3. 어텐션 메커니즘 사용하기 (추상적 요약)"
   ]
  },
  {
   "cell_type": "code",
   "execution_count": 42,
   "id": "694e6d09",
   "metadata": {},
   "outputs": [
    {
     "name": "stdout",
     "output_type": "stream",
     "text": [
      "Model: \"model_1\"\n",
      "__________________________________________________________________________________________________\n",
      "Layer (type)                    Output Shape         Param #     Connected to                     \n",
      "==================================================================================================\n",
      "input_1 (InputLayer)            [(None, 50)]         0                                            \n",
      "__________________________________________________________________________________________________\n",
      "input_2 (InputLayer)            [(None, None)]       0                                            \n",
      "__________________________________________________________________________________________________\n",
      "embedding (Embedding)           (None, 50, 128)      1408000     input_1[0][0]                    \n",
      "__________________________________________________________________________________________________\n",
      "embedding_1 (Embedding)         (None, None, 128)    640000      input_2[0][0]                    \n",
      "__________________________________________________________________________________________________\n",
      "lstm_2 (LSTM)                   [(None, 50, 256), (N 394240      embedding[0][0]                  \n",
      "__________________________________________________________________________________________________\n",
      "lstm_3 (LSTM)                   [(None, None, 256),  394240      embedding_1[0][0]                \n",
      "                                                                 lstm_2[0][1]                     \n",
      "                                                                 lstm_2[0][2]                     \n",
      "__________________________________________________________________________________________________\n",
      "attention_layer (AdditiveAttent (None, None, 256)    256         lstm_3[0][0]                     \n",
      "                                                                 lstm_2[0][0]                     \n",
      "__________________________________________________________________________________________________\n",
      "concat_layer (Concatenate)      (None, None, 512)    0           lstm_3[0][0]                     \n",
      "                                                                 attention_layer[0][0]            \n",
      "__________________________________________________________________________________________________\n",
      "dense_1 (Dense)                 (None, None, 5000)   2565000     concat_layer[0][0]               \n",
      "==================================================================================================\n",
      "Total params: 5,401,736\n",
      "Trainable params: 5,401,736\n",
      "Non-trainable params: 0\n",
      "__________________________________________________________________________________________________\n"
     ]
    }
   ],
   "source": [
    "from tensorflow.keras.layers import AdditiveAttention\n",
    "\n",
    "# 어텐션 층(어텐션 함수)\n",
    "attn_layer = AdditiveAttention(name='attention_layer')\n",
    "\n",
    "# 인코더와 디코더의 모든 time step의 hidden state를 어텐션 층에 전달하고 결과를 리턴\n",
    "attn_out = attn_layer([decoder_outputs, encoder_outputs])  \n",
    "\n",
    "# 어텐션의 결과와 디코더의 hidden state들을 연결\n",
    "decoder_concat_input = Concatenate(axis=-1, name='concat_layer')([decoder_outputs, attn_out])\n",
    "\n",
    "# 디코더의 출력층\n",
    "decoder_softmax_layer = Dense(tar_vocab, activation='softmax')\n",
    "decoder_softmax_outputs = decoder_softmax_layer(decoder_concat_input)\n",
    "\n",
    "# 모델 정의\n",
    "model = Model([encoder_inputs, decoder_inputs], decoder_softmax_outputs)\n",
    "model.summary()"
   ]
  },
  {
   "cell_type": "code",
   "execution_count": 43,
   "id": "19a4ff14",
   "metadata": {},
   "outputs": [
    {
     "name": "stdout",
     "output_type": "stream",
     "text": [
      "Epoch 1/50\n",
      "291/291 [==============================] - 19s 50ms/step - loss: 5.3428 - val_loss: 4.9967\n",
      "Epoch 2/50\n",
      "291/291 [==============================] - 14s 48ms/step - loss: 4.8210 - val_loss: 4.6333\n",
      "Epoch 3/50\n",
      "291/291 [==============================] - 14s 48ms/step - loss: 4.4680 - val_loss: 4.3203\n",
      "Epoch 4/50\n",
      "291/291 [==============================] - 14s 49ms/step - loss: 4.1829 - val_loss: 4.1185\n",
      "Epoch 5/50\n",
      "291/291 [==============================] - 14s 50ms/step - loss: 3.9646 - val_loss: 3.9609\n",
      "Epoch 6/50\n",
      "291/291 [==============================] - 15s 50ms/step - loss: 3.7945 - val_loss: 3.8465\n",
      "Epoch 7/50\n",
      "291/291 [==============================] - 15s 51ms/step - loss: 3.6513 - val_loss: 3.7562\n",
      "Epoch 8/50\n",
      "291/291 [==============================] - 15s 52ms/step - loss: 3.5263 - val_loss: 3.6905\n",
      "Epoch 9/50\n",
      "291/291 [==============================] - 15s 52ms/step - loss: 3.4155 - val_loss: 3.6174\n",
      "Epoch 10/50\n",
      "291/291 [==============================] - 15s 52ms/step - loss: 3.3156 - val_loss: 3.5637\n",
      "Epoch 11/50\n",
      "291/291 [==============================] - 15s 52ms/step - loss: 3.2231 - val_loss: 3.5150\n",
      "Epoch 12/50\n",
      "291/291 [==============================] - 15s 52ms/step - loss: 3.1377 - val_loss: 3.4885\n",
      "Epoch 13/50\n",
      "291/291 [==============================] - 15s 52ms/step - loss: 3.0574 - val_loss: 3.4507\n",
      "Epoch 14/50\n",
      "291/291 [==============================] - 15s 52ms/step - loss: 2.9843 - val_loss: 3.4133\n",
      "Epoch 15/50\n",
      "291/291 [==============================] - 15s 52ms/step - loss: 2.9136 - val_loss: 3.3838\n",
      "Epoch 16/50\n",
      "291/291 [==============================] - 15s 52ms/step - loss: 2.8493 - val_loss: 3.3671\n",
      "Epoch 17/50\n",
      "291/291 [==============================] - 15s 52ms/step - loss: 2.7885 - val_loss: 3.3518\n",
      "Epoch 18/50\n",
      "291/291 [==============================] - 15s 52ms/step - loss: 2.7319 - val_loss: 3.3312\n",
      "Epoch 19/50\n",
      "291/291 [==============================] - 15s 52ms/step - loss: 2.6773 - val_loss: 3.3163\n",
      "Epoch 20/50\n",
      "291/291 [==============================] - 15s 52ms/step - loss: 2.6259 - val_loss: 3.3120\n",
      "Epoch 21/50\n",
      "291/291 [==============================] - 15s 52ms/step - loss: 2.5774 - val_loss: 3.2960\n",
      "Epoch 22/50\n",
      "291/291 [==============================] - 15s 52ms/step - loss: 2.5321 - val_loss: 3.2862\n",
      "Epoch 23/50\n",
      "291/291 [==============================] - 15s 52ms/step - loss: 2.4890 - val_loss: 3.2828\n",
      "Epoch 24/50\n",
      "291/291 [==============================] - 15s 52ms/step - loss: 2.4452 - val_loss: 3.2746\n",
      "Epoch 25/50\n",
      "291/291 [==============================] - 15s 52ms/step - loss: 2.4074 - val_loss: 3.2692\n",
      "Epoch 26/50\n",
      "291/291 [==============================] - 15s 52ms/step - loss: 2.3702 - val_loss: 3.2600\n",
      "Epoch 27/50\n",
      "291/291 [==============================] - 15s 52ms/step - loss: 2.3342 - val_loss: 3.2668\n",
      "Epoch 28/50\n",
      "291/291 [==============================] - 15s 52ms/step - loss: 2.2997 - val_loss: 3.2530\n",
      "Epoch 29/50\n",
      "291/291 [==============================] - 15s 52ms/step - loss: 2.2658 - val_loss: 3.2593\n",
      "Epoch 30/50\n",
      "291/291 [==============================] - 15s 52ms/step - loss: 2.2350 - val_loss: 3.2590\n",
      "Epoch 00030: early stopping\n"
     ]
    }
   ],
   "source": [
    "#val_loss을 관찰하다가, 검증 데이터의 손실이 줄어들지 않고 증가하는 현상이 2회(patience=2) 관측되면 학습을 멈추도록 설정\n",
    "\n",
    "model.compile(optimizer='rmsprop', loss='sparse_categorical_crossentropy')\n",
    "es = EarlyStopping(monitor='val_loss', patience=2, verbose=1)\n",
    "history = model.fit(x=[encoder_input_train, decoder_input_train], y=decoder_target_train, \\\n",
    "          validation_data=([encoder_input_test, decoder_input_test], decoder_target_test), \\\n",
    "          batch_size=256, callbacks=[es], epochs=50)"
   ]
  },
  {
   "cell_type": "code",
   "execution_count": 53,
   "id": "c1c86073",
   "metadata": {},
   "outputs": [
    {
     "data": {
      "image/png": "[encoded data removed]",
      "text/plain": [
       "<Figure size 432x288 with 1 Axes>"
      ]
     },
     "metadata": {
      "needs_background": "light"
     },
     "output_type": "display_data"
    }
   ],
   "source": [
    "plt.plot(history.history['loss'], label='train')\n",
    "plt.plot(history.history['val_loss'], label='test')\n",
    "plt.legend()\n",
    "plt.show()"
   ]
  },
  {
   "cell_type": "code",
   "execution_count": 54,
   "id": "23def3ef",
   "metadata": {},
   "outputs": [],
   "source": [
    "src_index_to_word = src_tokenizer.index_word # 원문 단어 집합에서 정수 -> 단어를 얻음\n",
    "tar_word_to_index = tar_tokenizer.word_index # 요약 단어 집합에서 단어 -> 정수를 얻음\n",
    "tar_index_to_word = tar_tokenizer.index_word # 요약 단어 집합에서 정수 -> 단어를 얻음"
   ]
  },
  {
   "cell_type": "code",
   "execution_count": 55,
   "id": "bcbb1aea",
   "metadata": {},
   "outputs": [],
   "source": [
    "# 인코더 설계\n",
    "encoder_model = Model(inputs=encoder_inputs, outputs=[encoder_outputs, state_h3, state_c3])\n",
    "\n",
    "# 이전 시점의 상태들을 저장하는 텐서\n",
    "decoder_state_input_h = Input(shape=(hidden_size,))\n",
    "decoder_state_input_c = Input(shape=(hidden_size,))\n",
    "\n",
    "dec_emb2 = dec_emb_layer(decoder_inputs)\n",
    "\n",
    "# 문장의 다음 단어를 예측하기 위해서 초기 상태(initial_state)를 이전 시점의 상태로 사용. 이는 뒤의 함수 decode_sequence()에 구현\n",
    "# 훈련 과정에서와 달리 LSTM의 리턴하는 은닉 상태와 셀 상태인 state_h와 state_c를 버리지 않음.\n",
    "decoder_outputs2, state_h2, state_c2 = decoder_lstm(dec_emb2, initial_state=[decoder_state_input_h, decoder_state_input_c])"
   ]
  },
  {
   "cell_type": "code",
   "execution_count": 56,
   "id": "d74879a3",
   "metadata": {},
   "outputs": [],
   "source": [
    "# 어텐션 함수\n",
    "decoder_hidden_state_input = Input(shape=(text_max_len, hidden_size))\n",
    "attn_out_inf = attn_layer([decoder_outputs2, decoder_hidden_state_input])\n",
    "decoder_inf_concat = Concatenate(axis=-1, name='concat')([decoder_outputs2, attn_out_inf])\n",
    "\n",
    "# 디코더의 출력층\n",
    "decoder_outputs2 = decoder_softmax_layer(decoder_inf_concat) \n",
    "\n",
    "# 최종 디코더 모델\n",
    "decoder_model = Model(\n",
    "    [decoder_inputs] + [decoder_hidden_state_input,decoder_state_input_h, decoder_state_input_c],\n",
    "    [decoder_outputs2] + [state_h2, state_c2])"
   ]
  },
  {
   "cell_type": "code",
   "execution_count": 57,
   "id": "d6d255d2",
   "metadata": {},
   "outputs": [],
   "source": [
    "def decode_sequence(input_seq):\n",
    "    # 입력으로부터 인코더의 상태를 얻음\n",
    "    e_out, e_h, e_c = encoder_model.predict(input_seq)\n",
    "\n",
    "     # <SOS>에 해당하는 토큰 생성\n",
    "    target_seq = np.zeros((1,1))\n",
    "    target_seq[0, 0] = tar_word_to_index['sostoken']\n",
    "\n",
    "    stop_condition = False\n",
    "    decoded_sentence = ''\n",
    "    while not stop_condition: # stop_condition이 True가 될 때까지 루프 반복\n",
    "\n",
    "        output_tokens, h, c = decoder_model.predict([target_seq] + [e_out, e_h, e_c])\n",
    "        sampled_token_index = np.argmax(output_tokens[0, -1, :])\n",
    "        sampled_token = tar_index_to_word[sampled_token_index]\n",
    "\n",
    "        if (sampled_token!='eostoken'):\n",
    "            decoded_sentence += ' '+sampled_token\n",
    "\n",
    "        #  <eos>에 도달하거나 최대 길이를 넘으면 중단.\n",
    "        if (sampled_token == 'eostoken'  or len(decoded_sentence.split()) >= (summary_max_len-1)):\n",
    "            stop_condition = True\n",
    "\n",
    "        # 길이가 1인 타겟 시퀀스를 업데이트\n",
    "        target_seq = np.zeros((1,1))\n",
    "        target_seq[0, 0] = sampled_token_index\n",
    "\n",
    "        # 상태를 업데이트 합니다.\n",
    "        e_h, e_c = h, c\n",
    "\n",
    "    return decoded_sentence"
   ]
  },
  {
   "cell_type": "code",
   "execution_count": 58,
   "id": "53b7b0a9",
   "metadata": {},
   "outputs": [],
   "source": [
    "# 원문의 정수 시퀀스를 텍스트 시퀀스로 변환\n",
    "def seq2text(input_seq):\n",
    "    temp=''\n",
    "    for i in input_seq:\n",
    "        if (i!=0):\n",
    "            temp = temp + src_index_to_word.get(i,'') +' '\n",
    "    return temp\n",
    "\n",
    "# 요약문의 정수 시퀀스를 텍스트 시퀀스로 변환\n",
    "def seq2summary(input_seq):\n",
    "    temp = ''\n",
    "    for i in input_seq:\n",
    "        # 패딩(0), 시작 토큰(sostoken), 종료 토큰(eostoken) 제외\n",
    "        if i != 0 and i != tar_word_to_index.get('sostoken', -1) and i != tar_word_to_index.get('eostoken', -1):\n",
    "            temp += tar_index_to_word.get(i, '') + ' '  # KeyError 방지\n",
    "    return temp.strip()"
   ]
  },
  {
   "cell_type": "markdown",
   "id": "16147839",
   "metadata": {},
   "source": [
    "---\n",
    "## 4. 실제 결과와 요약문 비교하기 (추상적 요약)"
   ]
  },
  {
   "cell_type": "code",
   "execution_count": 59,
   "id": "e74e9f0a",
   "metadata": {
    "scrolled": false
   },
   "outputs": [
    {
     "name": "stdout",
     "output_type": "stream",
     "text": [
      "원문 : actress kumar played role sridevi sister film english passed away battling stage four cancer sister singer tweeted life never also starred films like tv series like hotel bombay talking \n",
      "실제 요약 : english actress passes away due to cancer\n",
      "예측 요약 :  sridevi demise of sridevi demise\n",
      "\n",
      "\n",
      "원문 : trs chief chandrashekar rao sworn chief minister telangana december unanimously elected leader state legislative party ceremony take place raj bhavan tentatively scheduled pm rao never lost election since \n",
      "실제 요약 : rao to be sworn in as telangana cm on december\n",
      "예측 요약 :  sworn in as national chief as cm\n",
      "\n",
      "\n",
      "원문 : child special court wednesday acquitted bus conductor accused murder seven year old gurugram school gurugram police claimed conductor murdered victim trying sexually assault later page chargesheet filed cbi named year old student prime accused case \n",
      "실제 요약 : bus conductor acquitted in gurugram school murder case\n",
      "예측 요약 :  gurugram cops arrest for rape accused of gurugram police\n",
      "\n",
      "\n",
      "원문 : india trade deficit billion february billion previous month government data showed thursday imports month february stood billion whereas exports stood billion rising rise imports led higher crude oil prices government added \n",
      "실제 요약 : india trade deficit to billion in february\n",
      "예측 요약 :  india trade deficit to billion in\n",
      "\n",
      "\n",
      "원문 : carmaker martin building first apartment block united states miami prices ranging million storey tower feature total two movie theatres spa virtual golf room infinity pool expected completed \n",
      "실제 요약 : martin building apartment block with movie pool\n",
      "예측 요약 :  first ever building was the first weekend\n",
      "\n",
      "\n",
      "원문 : irish newspaper herald reporting everton star transfer manchester united used photograph english hip artist instead belgian international reacting newspaper mistake user tweeted full marks cutting edge journalism notably united everton agreed million transfer fee \n",
      "실제 요약 : irish newspaper mistakes singer for new man united player\n",
      "예측 요약 :  player slammed for making fake photo of pm modi\n",
      "\n",
      "\n",
      "원문 : indian army giving reply pakistan ceasefire violations firing ten bullets every pakistani bullet across line control deputy cm singh said saturday giving reply language better understand added comes woman died ceasefire violation saturday \n",
      "실제 요약 : for every pak bullet india with deputy cm\n",
      "예측 요약 :  pak soldier killed in ceasefire violation by pak\n",
      "\n",
      "\n",
      "원문 : former french president statement rafale deal affect ties india france junior foreign minister jean said remarks help anyone help france added quoted saying india proposed anil ambani reliance defence partner dassault aviation rafale deal \n",
      "실제 요약 : rafale statement can affect india ties france\n",
      "예측 요약 :  india is french prez macron\n",
      "\n",
      "\n",
      "원문 : government earned crore revenue visa scheme since launch home ministry officials said foreign tourists visiting india visas offered citizens countries stay days home ministry officials said visa scheme availed lakh tourists \n",
      "실제 요약 : govt earns crore from visas since\n",
      "예측 요약 :  govt to provide to foreign ministry to check indians\n",
      "\n",
      "\n",
      "원문 : ahead planned russian soyuz rocket launch december female us astronaut said looking forward riding rocket looking forward getting space mission first soyuz launch since mission earlier october would got soyuz rocket next day added \n",
      "실제 요약 : looking forward to riding russian rocket female us astronaut\n",
      "예측 요약 :  launch launch launch launch for the first time\n",
      "\n",
      "\n",
      "원문 : former rbi governor raghuram rajan said gdp growth enough create good jobs crore people joining india workforce every year move maybe added quickly india achieve growth rajan said could happen lok sabha elections reforms unlikely till \n",
      "실제 요약 : growth cannot create enough jobs for india rajan\n",
      "예측 요약 :  india gdp to grow to economy rajan\n",
      "\n",
      "\n",
      "원문 : advertisement kalyan jewellers featuring amitabh bachchan daughter shweta nanda slammed bank union india bank officers confederation referred advertisement disgusting derogatory union added advertisement aimed create banking system advertisement allegedly shows characters bank employees \n",
      "실제 요약 : big ad slammed over of bank staff\n",
      "예측 요약 :  amitabh bachchan slams amazon for calling her daughter\n",
      "\n",
      "\n",
      "원문 : oneplus emerged trusted smartphone brand india survey capturing consumer preferences around smartphone brands revealed report stated oneplus users satisfied phones satisfied availability spare parts problem resolution moreover oneplus ranked second behind premium smartphone segment \n",
      "실제 요약 : oneplus most smartphone brand in india report\n",
      "예측 요약 :  oneplus to launch smartphone with oneplus\n",
      "\n",
      "\n",
      "원문 : talking deepika padukone ranveer singh wedding take place november manish malhotra said love ranveer deepika course wish best talking priyanka chopra nick jonas wedding reportedly take place december manish said wish happiness world \n",
      "실제 요약 : manish wishes deepika ranveer priyanka nick ahead of wedding\n",
      "예측 요약 :  deepika ranveer is the front of someone ranveer\n",
      "\n",
      "\n",
      "원문 : wire border built along hungary borders reduced illegal migration country almost since officials said hungary started building migration crisis europe system technical barriers key success border security officials added \n",
      "실제 요약 : reduced illegal by\n",
      "예측 요약 :  in pictures of sea\n",
      "\n",
      "\n",
      "원문 : employee coffee day outlet jaipur priyanka filed fir customer named verma slapped accused verma harassment calling earlier widely shared video showed slapping verma taking video found outlet fridge \n",
      "실제 요약 : employee files fir against customer she slapped\n",
      "예측 요약 :  fir against woman who tried to remove him\n",
      "\n",
      "\n",
      "원문 : former arsenal manchester city midfielder handed six month ban football undergoing treatment los angeles received form water contained components breached rules set world anti doping agency currently without club \n",
      "실제 요약 : footballer given month doping ban for put years ago\n",
      "예측 요약 :  football ban on in south africa\n",
      "\n",
      "\n",
      "원문 : australian cricketer ben cutting girlfriend credited afghanistan cricketer rashid khan keeping cutting participating afghanistan premier league tweeted photo cutting wrote official send spy \n",
      "실제 요약 : rashid helps australian cricketer girlfriend spy on him\n",
      "예측 요약 :  afghanistan rashid khan has the player\n",
      "\n",
      "\n",
      "원문 : chinese gay dating app stopped new users registration week report claimed users caught aids causing virus hiv going dates teenagers even hosted live streaming many gay teenagers sex app report added juvenile users posing adults \n",
      "실제 요약 : chinese gay dating app stops new users after hiv report\n",
      "예측 요약 :  dating app dating users for dating\n",
      "\n",
      "\n",
      "원문 : ludhiana court wednesday sentenced youth life imprisonment causing death year old co worker pipe tyre workshop victim mother lodged complaint another employee workshop told son seriously injured could brought home \n",
      "실제 요약 : youth causes boy death by in jailed\n",
      "예측 요약 :  man sentenced to death for raping yr old in jail\n",
      "\n",
      "\n",
      "원문 : chennai super kings announced comeback ipl next year tweeting news official handle monday csk congratulated newly crowned champions mumbai indians win final wrote next summer meanwhile gujarat lions year runners rising pune supergiant feature tournament next season \n",
      "실제 요약 : chennai super kings announce return to ipl\n",
      "예측 요약 :  csk releases final after csk csk win\n",
      "\n",
      "\n",
      "원문 : england third tier football club knocked current premier league table toppers manchester city fa cup fifth round monday manchester city lost match defender sent th minute following loss city forward sergio ag got involved scuffle home fan \n",
      "실제 요약 : rd team beats top league leaders man city\n",
      "예측 요약 :  arsenal lose to man utd lose\n",
      "\n",
      "\n",
      "원문 : two people arrested entering delhi airport using fake tickets first instance passenger named honey verma entered terminal building see parents travelling chinese city second instance foreign passenger named entered airport see moscow bound mother \n",
      "실제 요약 : two held for entering delhi airport with fake tickets\n",
      "예측 요약 :  man arrested for using fake to public\n",
      "\n",
      "\n",
      "원문 : uk based startup created home sized urine test similar pregnancy test analysed accompanying app provide immediate results urine test electronic components involved launch uk april also plans screen diabetes products india co founder andrew revealed \n",
      "실제 요약 : uk startup creates sized urine test for use at home\n"
     ]
    },
    {
     "name": "stdout",
     "output_type": "stream",
     "text": [
      "예측 요약 :  researchers test to test\n",
      "\n",
      "\n",
      "원문 : krishna bihari ashram uttar pradesh started making using old newspapers paper waste distributing free cost people give money asking take initiative forward bihari said one bihari said made almost far \n",
      "실제 요약 : uttar pradesh man makes pens from paper\n",
      "예측 요약 :  village uses to make up to clean up village\n",
      "\n",
      "\n",
      "원문 : former england football team captain david beckham major league soccer franchise would called inter miami full name team club de miami strong spanish speaking community within population florida city talking team beckham said wanted south american \n",
      "실제 요약 : us based football club to be called\n",
      "예측 요약 :  david warner named as player for\n",
      "\n",
      "\n",
      "원문 : fugitive liquor baron vijay mallya tweeted young champions congratulating congress leaders sachin pilot victory rajasthan jyotiraditya scindia party win madhya pradesh meanwhile year old pilot year old scindia said senior party leaders ashok gehlot kamal nath chief ministerial respective states \n",
      "실제 요약 : mallya congratulates pilot before selection of cm faces\n",
      "예측 요약 :  mallya raj team india to take oath as cong\n",
      "\n",
      "\n",
      "원문 : manager retail store china forced employees tear yuan notes punishment meeting daily targets handing flyers manager claimed wanted teach employees waste company resources manager fined yuan destruction yuan offence \n",
      "실제 요약 : manager forces staff to money for poor performance\n",
      "예측 요약 :  chinese bank worker forced to pay for stealing\n",
      "\n",
      "\n",
      "원문 : real madrid forward cristiano ronaldo former teammate former manchester united defender brown signed indian super league side kerala cannot wait play front one best fans world kerala see soon excited tweeted year old defender brown played matches manchester united \n",
      "실제 요약 : cristiano ronaldo ex teammate joins indian super league\n",
      "예측 요약 :  ronaldo leaves for hitting yr old in ipl\n",
      "\n",
      "\n",
      "원문 : trailer horror film see evil starring real life siblings huma qureshi saqib saleem onscreen sister brother duo released hindi adaptation hollywood film oculus scheduled release june directed raman also stars adil hussain lisa ray rhea chakraborty \n",
      "실제 요약 : trailer of huma her brother film released\n",
      "예측 요약 :  trailer of jennifer starrer released\n",
      "\n",
      "\n",
      "원문 : us president donald trump russian president vladimir putin turkish president tayyip behave like former european parliament president martin said also urged eu respond strongly democracy three nations german chancellor candidate earlier accused trump western values international cooperation \n",
      "실제 요약 : trump putin like ex eu prez\n",
      "예측 요약 :  trump calls for prez putin\n",
      "\n",
      "\n",
      "원문 : addressing gathering police crime victims long island friday us president donald trump suggested officers nice dealing suspects treatment people custody speaking officers protect suspects heads putting police cars trump called criminals animals \n",
      "실제 요약 : do not be too to suspects trump to police\n",
      "예측 요약 :  trump urges us to help to kill trump attack\n",
      "\n",
      "\n",
      "원문 : pakistan planned nuclear attack india kargil war preparing nuclear deployment stopped us president bill clinton according former cia analyst bruce pakistan pm nawaz sharif reportedly called clinton asking help said us would help pakistan withdrew troops \n",
      "실제 요약 : pakistan planned nuclear attack on india during kargil war\n",
      "예측 요약 :  india will never be war with pakistan pakistan\n",
      "\n",
      "\n",
      "원문 : users whatsapp status feature launched less three months ago surpassed total number daily active users snapchat whatsapp status feature used crore people snapchat used crore users worldwide launched february whatsapp status allows users put pictures videos status \n",
      "실제 요약 : whatsapp status users snapchat users in months\n",
      "예측 요약 :  whatsapp rolls out feature in number\n",
      "\n",
      "\n",
      "원문 : wake standoff indian chinese troops along line actual control sikkim chinese state media wednesday said time indian side needs taught rules india said china must force indian troops indian side means necessary \n",
      "실제 요약 : india needs to be rules chinese media on dispute\n",
      "예측 요약 :  chinese army to take chinese troops from chinese\n",
      "\n",
      "\n",
      "원문 : maharashtra government decided hire public relations officers one ministers estimated cost lakh per year state approved hiring public relations minister government schemes policies several newspapers tv channels besides giving various issues government order stated \n",
      "실제 요약 : all maharashtra ministers to get public relations officer\n",
      "예측 요약 :  maha govt plans to budget budget\n",
      "\n",
      "\n",
      "원문 : filmmaker karan johar said mother twin children yash mother father added talking moment saw children first time said even realise tears rolling face \n",
      "실제 요약 : am the mother to my children karan johar\n",
      "예측 요약 :  my mother is my mother mother johar\n",
      "\n",
      "\n",
      "원문 : former australian captain ricky ponting said indian wicket keeper rishabh pant make test centuries former indian captain wicket keeper ms dhoni got really good game sense well way bats sort another adam gilchrist ponting added year old indian wicket keeper \n",
      "실제 요약 : pant will make lot more test tons than ms dhoni\n",
      "예측 요약 :  ashwin picks his st test squad for\n",
      "\n",
      "\n",
      "원문 : government told supreme court friday asked cbse consider installing schools curb access websites child pornographic content centre told sc blocked around websites hosting child pornography last month court asked centre file status report within two days \n",
      "실제 요약 : cbse asked to install to block porn sites in schools\n",
      "예측 요약 :  centre asks schools to stop child content content\n",
      "\n",
      "\n",
      "원문 : speaking character jon snow hbo television series game thrones actor kit said bit looks violence added think happiness strange term associate jon odd sense happy \n",
      "실제 요약 : my got character snow bit of kit\n",
      "예측 요약 :  got to be as actors\n",
      "\n",
      "\n",
      "원문 : pakistan born london terrorist butt last saturday london bridge attack trying land job firm provides security wimbledon sporting events year old previously worked six months london underground metro quitting october butt aides rammed high speed van pedestrians london bridge \n",
      "실제 요약 : pak born london terrorist was trying for job at wimbledon\n",
      "예측 요약 :  british terrorist born in london attack report\n",
      "\n",
      "\n",
      "원문 : team scientists canada developed blood test detect cancer earliest stages liquid artificial intelligence applied machine learning identify presence type cancer derived dna within blood samples team said successfully matched tumours blood samples different cancer types \n",
      "실제 요약 : blood test that can detect cancer using ai developed\n",
      "예측 요약 :  cancer blood test cancer to make cancer\n",
      "\n",
      "\n",
      "원문 : delhi traffic police said would take action pooja man complained twitter rode scooter without wearing helmet delhi traffic police picture pooja latest video song ka shooter complainant shared details traffic violation took place \n",
      "실제 요약 : delhi traffic police to take action against pooja\n",
      "예측 요약 :  delhi police files complaint against delhi police over traffic\n",
      "\n",
      "\n",
      "원문 : denying dating rumours bigg boss winner tv actress bigg boss contestant punjabi said dear friend added falls love anyone would happy let everyone know rumours started met party last year \n",
      "실제 요약 : is friend punjabi on dating rumours\n",
      "예측 요약 :  bigg boss contestant denies rumour of dating bigg boss\n",
      "\n",
      "\n",
      "원문 : goa health minister rane said could share update ailing chief minister manohar parrikar current condition chief minister family give information minister added parrikar different hospitals since february detected advanced pancreatic cancer \n",
      "실제 요약 : cannot give cm parrikar health details goa health minister\n",
      "예측 요약 :  goa cm parrikar to be in months\n",
      "\n",
      "\n",
      "원문 : pledge stop offering single use plastic bags australia two largest prevented introduction estimated billion bags environment consumption plastic bags reduced nationwide within three months ban according national retail association however started selling thick bags \n",
      "실제 요약 : australia sees in plastic bag use in months of ban\n",
      "예측 요약 :  lakh fine for drinking in us\n",
      "\n",
      "\n",
      "원문 : us backed iraqi forces almost western mosul islamic state group militant group controls square kilometres military officials said tuesday adding militants completely surrounded city resources destroyed officials said enemy total defeat mosul \n",
      "실제 요약 : isis holds only in iraq officials\n",
      "예측 요약 :  us troops to control islamic in mosul\n",
      "\n",
      "\n",
      "원문 : days announcing resignation bjp primary membership ladakh mp said false promises decisions reason behind decision denied reports desire pursue spiritual life earlier bjp chief raina said year old leader resigned house party pursue spiritual life \n",
      "실제 요약 : quit bjp due to false promises not mp\n"
     ]
    },
    {
     "name": "stdout",
     "output_type": "stream",
     "text": [
      "예측 요약 :  am not to join bjp mp\n",
      "\n",
      "\n",
      "원문 : johnson johnson lawsuit california woman claimed developed cancer exposed company based products company statement said powder around since contain people filed cases company causing cancer \n",
      "실제 요약 : wins california lawsuit over cancer\n",
      "예측 요약 :  startup claims to sue us for cancer\n",
      "\n",
      "\n",
      "원문 : picture girl grandmother went viral social media girl seen crying finding grandmother old age home elderly lady reportedly left girl parents however picture grandmother recently said lived old age home \n",
      "실제 요약 : what is real story of crying viral pic\n",
      "예측 요약 :  picture of newborn girl from up goes viral\n",
      "\n",
      "\n"
     ]
    }
   ],
   "source": [
    "for i in range(50, 100):\n",
    "    print(\"원문 :\", seq2text(encoder_input_test[i]))\n",
    "    print(\"실제 요약 :\", seq2summary(decoder_input_test[i]))\n",
    "    print(\"예측 요약 :\", decode_sequence(encoder_input_test[i].reshape(1, text_max_len)))\n",
    "    print(\"\\n\")"
   ]
  },
  {
   "cell_type": "code",
   "execution_count": null,
   "id": "6b4d99bd",
   "metadata": {},
   "outputs": [],
   "source": []
  },
  {
   "cell_type": "markdown",
   "id": "0c676548",
   "metadata": {},
   "source": [
    "---\n",
    "## 5. Summa을 이용해서 추출적 요약해보기"
   ]
  },
  {
   "cell_type": "code",
   "execution_count": 61,
   "id": "f556f0b6",
   "metadata": {},
   "outputs": [],
   "source": [
    "from summa.summarizer import summarize"
   ]
  },
  {
   "cell_type": "code",
   "execution_count": 62,
   "id": "ac105551",
   "metadata": {},
   "outputs": [
    {
     "name": "stdout",
     "output_type": "stream",
     "text": [
      "Saurav Kant, an alumnus of upGrad and IIIT-B's PG Program in Machine learning and Artificial Intelligence, was a Sr Systems Engineer at Infosys with almost 5 years of work experience. The program and upGrad's 360-degree career support helped him transition to a Data Scientist at Tech Mahindra with 90% salary hike. upGrad's Online Power Learning has powered 3 lakh+ careers.\n"
     ]
    }
   ],
   "source": [
    "# 'text' 열에서 첫 번째 기사 추출\n",
    "article = data['text'][0]\n",
    "print(article)"
   ]
  },
  {
   "cell_type": "code",
   "execution_count": 75,
   "id": "badc7505",
   "metadata": {},
   "outputs": [
    {
     "name": "stdout",
     "output_type": "stream",
     "text": [
      "Weeks after ex-CBI Director Alok Verma told the Department of Personnel and Training to consider him retired, the Home Ministry asked him to join work on the last day of his fixed tenure as Director on Thursday.\n"
     ]
    }
   ],
   "source": [
    "summary = summarize(article, ratio=0.5)  # 원문의 50% 길이로 요약\n",
    "print(summary)"
   ]
  },
  {
   "cell_type": "code",
   "execution_count": 76,
   "id": "615f5795",
   "metadata": {},
   "outputs": [
    {
     "name": "stdout",
     "output_type": "stream",
     "text": [
      "Original Article 1:\n",
      " Saurav Kant, an alumnus of upGrad and IIIT-B's PG Program in Machine learning and Artificial Intelligence, was a Sr Systems Engineer at Infosys with almost 5 years of work experience. The program and upGrad's 360-degree career support helped him transition to a Data Scientist at Tech Mahindra with 90% salary hike. upGrad's Online Power Learning has powered 3 lakh+ careers.\n",
      "Summary 1:\n",
      " upGrad's Online Power Learning has powered 3 lakh+ careers.\n",
      "\n",
      "================================================================================\n",
      "\n",
      "Original Article 2:\n",
      " New Zealand defeated India by 8 wickets in the fourth ODI at Hamilton on Thursday to win their first match of the five-match ODI series. India lost an international match under Rohit Sharma's captaincy after 12 consecutive victories dating back to March 2018. The match witnessed India getting all out for 92, their seventh lowest total in ODI cricket history.\n",
      "Summary 2:\n",
      " The match witnessed India getting all out for 92, their seventh lowest total in ODI cricket history.\n",
      "\n",
      "================================================================================\n",
      "\n",
      "Original Article 3:\n",
      " With Aegon Life iTerm Insurance plan, customers can enjoy tax benefits on your premiums paid and save up to Ã¢ÂÂ¹46,800^ on taxes. The plan provides life cover up to the age of 100 years. Also, customers have options to insure against Critical Illnesses, Disability and Accidental Death Benefit Rider with a life cover up to the age of 80 years.\n",
      "Summary 3:\n",
      " Also, customers have options to insure against Critical Illnesses, Disability and Accidental Death Benefit Rider with a life cover up to the age of 80 years.\n",
      "\n",
      "================================================================================\n",
      "\n",
      "Original Article 4:\n",
      " Pakistani singer Rahat Fateh Ali Khan has denied receiving any notice from the Enforcement Directorate over allegedly smuggling foreign currency out of India. \"It would have been better if the authorities would have served the notice first if any and then publicised this,\" reads a press release issued on behalf of Rahat. The statement further called the allegation \"bizarre\".\n",
      "Summary 4:\n",
      " Pakistani singer Rahat Fateh Ali Khan has denied receiving any notice from the Enforcement Directorate over allegedly smuggling foreign currency out of India.\n",
      "\n",
      "================================================================================\n",
      "\n",
      "Original Article 5:\n",
      " Weeks after ex-CBI Director Alok Verma told the Department of Personnel and Training to consider him retired, the Home Ministry asked him to join work on the last day of his fixed tenure as Director on Thursday. The ministry directed him to immediately join as DG, Fire Services, the post he was transferred to after his removal as CBI chief.\n",
      "Summary 5:\n",
      " Weeks after ex-CBI Director Alok Verma told the Department of Personnel and Training to consider him retired, the Home Ministry asked him to join work on the last day of his fixed tenure as Director on Thursday.\n",
      "\n",
      "================================================================================\n",
      "\n"
     ]
    }
   ],
   "source": [
    "# 첫 5개의 기사에 대해 요약 수행\n",
    "for i in range(5):\n",
    "    article = data.iloc[i]['text']  # .iloc[] 사용\n",
    "    summary = summarize(article, ratio=0.5)\n",
    "    \n",
    "    print(f\"Original Article {i+1}:\\n\", article)\n",
    "    print(f\"Summary {i+1}:\\n\", summary)\n",
    "    print(\"\\n\" + \"=\"*80 + \"\\n\")"
   ]
  },
  {
   "cell_type": "code",
   "execution_count": 86,
   "id": "7e0d0571",
   "metadata": {},
   "outputs": [
    {
     "name": "stdout",
     "output_type": "stream",
     "text": [
      "원문 51:\n",
      " Banned cricketer Sreesanth has told Supreme Court he initially confessed to Delhi Police about his alleged involvement in 2013 IPL spot-fixing scandal to escape continuous police torture. Sreesanth further said the bookie tried dragging him into spot-fixing but he didn't fall for it. Citing Sreesanth not informing BCCI about fixing approach, the apex court said Sreesanth's conduct \"wasn't good\".\n",
      "요약문 51:\n",
      " Sreesanth further said the bookie tried dragging him into spot-fixing but he didn't fall for it.\n",
      "\n",
      "================================================================================\n",
      "\n",
      "원문 52:\n",
      " The Finance Ministry on Wednesday said the government will present an Interim Budget on February 1. The clarification came amid speculations that a full Budget may be presented during the session. The government recently assigned Piyush Goyal temporary additional charge of the Finance and Corporate Affairs ministries in the absence of Arun Jaitley, who is in the US for treatment.\n",
      "요약문 52:\n",
      " The Finance Ministry on Wednesday said the government will present an Interim Budget on February 1.\n",
      "\n",
      "================================================================================\n",
      "\n",
      "원문 53:\n",
      " US President Donald Trump on Wednesday called his country's top intelligence chiefs \"naive\" and \"wrong\" on Iran and added that they should perhaps \"go back to school\". Trump claimed Iran is testing rockets, calling the country \"a source of potential danger and conflict\". Top US intelligence officials on Tuesday said that Iran isn't currently taking steps towards building nuclear weapons.\n",
      "요약문 53:\n",
      " US President Donald Trump on Wednesday called his country's top intelligence chiefs \"naive\" and \"wrong\" on Iran and added that they should perhaps \"go back to school\".\n",
      "\n",
      "================================================================================\n",
      "\n",
      "원문 54:\n",
      " A senior priest at the Vatican who handled cases of sexual abuse has quit after being accused of sexual abuse by a former nun. The accused priest claimed he is innocent and said he would consider taking legal action. The Vatican said in a statement that a Church investigation of the case was underway.\n",
      "요약문 54:\n",
      " A senior priest at the Vatican who handled cases of sexual abuse has quit after being accused of sexual abuse by a former nun.\n",
      "\n",
      "================================================================================\n",
      "\n",
      "원문 55:\n",
      " A 22-year-old writer turned down a job offer, claiming she was bullied to the point of tears during her two-hour interview by a UK company's CEO. Olivia Bland added the \"brutal\" interview brought back painful memories of her abusive relationship. \"I am so sorry that anyone has been hurt, it is never my intent,\" Web Applications CEO Craig Dean replied. \n",
      "요약문 55:\n",
      " A 22-year-old writer turned down a job offer, claiming she was bullied to the point of tears during her two-hour interview by a UK company's CEO.\n",
      "\n",
      "================================================================================\n",
      "\n",
      "원문 56:\n",
      " Noida Police has arrested Sector 20 station in-charge Manoj Pant and three journalists for allegedly extorting money from a call centre owner for removing his name from an FIR. The four were caught while taking bribe money of Ã¢ÂÂ¹8 lakh, police said. Pant was the lead investigator in the Paytm extortion case involving Founder Vijay Shekhar Sharma's secretary Sonia Dhawan.\n",
      "요약문 56:\n",
      " Noida Police has arrested Sector 20 station in-charge Manoj Pant and three journalists for allegedly extorting money from a call centre owner for removing his name from an FIR.\n",
      "\n",
      "================================================================================\n",
      "\n",
      "원문 57:\n",
      " Airtel on Wednesday said that Qatar's sovereign wealth fund Qatar Investment Authority will invest $200 million through a primary equity issuance in Airtel Africa. India's second-largest telecom operator's Africa unit recently raised $1.25 billion from six investors. Airtel Africa, the holding company for Airtel's operations in 14 African countries, is preparing for an initial public offering.\n",
      "요약문 57:\n",
      " Airtel Africa, the holding company for Airtel's operations in 14 African countries, is preparing for an initial public offering.\n",
      "\n",
      "================================================================================\n",
      "\n",
      "원문 58:\n",
      " Actor Shreyas Talpade said that 'Golmaal' filmmaker Rohit Shetty is still working on the script for the fifth instalment of the 'Golmaal' film franchise. \"He was telling us the other day that he...cracked some story. Once he's done with the...scripting, he'll take a call,Ã¢ÂÂ the actor added. The series features Shreyas along with Ajay Devgn, Arshad Warsi and Tusshar Kapoor.\n",
      "요약문 58:\n",
      " Actor Shreyas Talpade said that 'Golmaal' filmmaker Rohit Shetty is still working on the script for the fifth instalment of the 'Golmaal' film franchise.\n",
      "Once he's done with the...scripting, he'll take a call,Ã¢ÂÂ the actor added.\n",
      "\n",
      "================================================================================\n",
      "\n",
      "원문 59:\n",
      " A 72-year-old man named Terry Sanderson has sued 'Avengers' actress Gwyneth Paltrow for allegedly crashing into him while skiing, and is seeking $3.1 million (over Ã¢ÂÂ¹22 crore) in damages. The lawsuit states the actress got up and skied away after knocking the man down, leaving him with broken ribs. The incident reportedly took place in 2016 in Utah, US. \n",
      "요약문 59:\n",
      " A 72-year-old man named Terry Sanderson has sued 'Avengers' actress Gwyneth Paltrow for allegedly crashing into him while skiing, and is seeking $3.1 million (over Ã¢ÂÂ¹22 crore) in damages.\n",
      "\n",
      "================================================================================\n",
      "\n",
      "원문 60:\n",
      " Yami Gautam was felicitated by Border Security Force (BSF) in Amritsar for her performance in 'Uri: The Surgical Strike'. \"BSF is the first line of defence of our country and it gives me...pride to have met them,\" Yami said. The film, which also stars Vicky Kaushal, is based on the Indian Army's surgical strike operation which took place in 2016.\n",
      "요약문 60:\n",
      " Yami Gautam was felicitated by Border Security Force (BSF) in Amritsar for her performance in 'Uri: The Surgical Strike'.\n",
      "\n",
      "================================================================================\n",
      "\n",
      "원문 61:\n",
      " Social media giant Facebook has hired privacy critic Nate Cardozo, formerly the top legal counsel for US privacy watchdog EFF, as a privacy policy manager for WhatsApp. Cardozo had called Facebook a \"faceless corporation\" whose business model depends on user's confusion and indifference about privacy, in October 2015. Facebook has also hired attorney Robyn Greene as its privacy policy manager.\n",
      "요약문 61:\n",
      " Social media giant Facebook has hired privacy critic Nate Cardozo, formerly the top legal counsel for US privacy watchdog EFF, as a privacy policy manager for WhatsApp. Cardozo had called Facebook a \"faceless corporation\" whose business model depends on user's confusion and indifference about privacy, in October 2015.\n",
      "\n",
      "================================================================================\n",
      "\n",
      "원문 62:\n",
      " Apple CEO Tim Cook said the company plans to lower some iPhones' prices in markets with currencies that weakened against the US dollar in the past year. \"WeÃ¢ÂÂve decided to go back to (iPhone prices) more commensurate with...local prices...a year ago,\" Cook added. The price cuts, in hopes of increasing sales, are reportedly occurring for second time in 12 years.\n",
      "요약문 62:\n",
      " \"WeÃ¢ÂÂve decided to go back to (iPhone prices) more commensurate with...local prices...a year ago,\" Cook added.\n",
      "\n",
      "================================================================================\n",
      "\n",
      "원문 63:\n",
      " Scientists in Australia's Flinders University are testing a wetsuit prototype that could protect its wearer after a shark attack. The suit, made of synthetic material similar to the material used in bulletproof vests, could help reduce blood loss after a shark attack. \"The majority of fatalities from shark bites is due to blood loss...shock from blood loss,\" a scientist said.\n",
      "요약문 63:\n",
      " \"The majority of fatalities from shark bites is due to blood loss...shock from blood loss,\" a scientist said.\n",
      "\n",
      "================================================================================\n",
      "\n",
      "원문 64:\n",
      " BJP President Amit Shah on Wednesday took a dig at the Opposition parties saying that the 'mahagathbandhan' for the Opposition is 4B - \"Bua-Bhatija-Bhai-Behen\". He added that 4B for the BJP meant \"Badhta Bharat, Banta Bharat\". He said Opposition's government cannot take the country ahead and \"only Modiji can provide a 'mazboot' (strong) government\".\n",
      "요약문 64:\n",
      " BJP President Amit Shah on Wednesday took a dig at the Opposition parties saying that the 'mahagathbandhan' for the Opposition is 4B - \"Bua-Bhatija-Bhai-Behen\".\n",
      "\n",
      "================================================================================\n",
      "\n",
      "원문 65:\n",
      " German automaker Volkswagen Group has retained the car industry's top spot in global sales, beating its Japanese rival Toyota. Volkswagen's sales, including its MAN and Scania heavy trucks and buses, rose 0.9% to 10.83 million in 2018, the company had said. Toyota came second with around 10.6 million deliveries, including its affiliated brands Daihatsu and Hino, in 2018.\n",
      "요약문 65:\n",
      " Volkswagen's sales, including its MAN and Scania heavy trucks and buses, rose 0.9% to 10.83 million in 2018, the company had said.\n",
      "\n",
      "================================================================================\n",
      "\n",
      "원문 66:\n",
      " Ousted Nissan Chairman Carlos Ghosn has said his arrest over alleged financial misconduct was led by \"plot and treason\" by the Japanese carmaker's executives who opposed its deeper integration with Renault and Mitsubishi. Ghosn added he had discussed the integration plans with Nissan's CEO in September, a month before his arrest. He further said he wouldn't flee if granted bail.\n",
      "요약문 66:\n",
      " Ousted Nissan Chairman Carlos Ghosn has said his arrest over alleged financial misconduct was led by \"plot and treason\" by the Japanese carmaker's executives who opposed its deeper integration with Renault and Mitsubishi.\n",
      "\n",
      "================================================================================\n",
      "\n",
      "원문 67:\n",
      " The government has cut down customs duty on import of parts and components for electric vehicles to 10-15%, down from the previous 15-30%. The Central Board of Indirect Taxes and Customs said disassembled parts will attract 10% duty, whereas 15% will be levied on pre-assembled packs. However, fully built electric vehicles will continue to attract 25% import duty.\n",
      "요약문 67:\n",
      " The government has cut down customs duty on import of parts and components for electric vehicles to 10-15%, down from the previous 15-30%.\n",
      "\n",
      "================================================================================\n",
      "\n",
      "원문 68:\n",
      " Government officials on Wednesday said that a swine flu outbreak has killed 76 people this year in Rajasthan. Colder weather has worsened the seasonal outbreak of the H1N1 virus in the country, officials added. Rajasthan recorded more than a third of all swine flu deaths in India with Jodhpur being the worst affected area in the state, officials said.\n",
      "요약문 68:\n",
      " Government officials on Wednesday said that a swine flu outbreak has killed 76 people this year in Rajasthan.\n",
      "\n",
      "================================================================================\n",
      "\n",
      "원문 69:\n",
      " North Korea is \"unlikely to completely give up its nuclear weapons and production capabilities\", Director of US' National Intelligence, Daniel Coats, said. \"North Korean leaders view nuclear arms as critical to regime survival,\" he added. His statements come despite North Korea's agreement with the US at the Singapore summit last year to denuclearise the Korean Peninsula. \n",
      "요약문 69:\n",
      " \"North Korean leaders view nuclear arms as critical to regime survival,\" he added.\n",
      "\n",
      "================================================================================\n",
      "\n",
      "원문 70:\n",
      " Jet Airways on Wednesday denied it was directed by GE Capital Aviation Services to ground its aircraft due to non-payment of dues. The airline said it's in the process of delivering three aircraft to lessors due to the expiry of lease terms. Further, three aircraft have been temporarily grounded to carry out an engine normalisation exercise, it added.\n",
      "요약문 70:\n",
      " Further, three aircraft have been temporarily grounded to carry out an engine normalisation exercise, it added.\n",
      "\n",
      "================================================================================\n",
      "\n",
      "원문 71:\n",
      " Sri Lanka all-rounder Thisara Perera has written to Sri Lanka Cricket CEO Ashley de Silva, asking the board to intervene after ODI captain Lasith Malinga's wife Tanya targeted him on Facebook. Tanya accused Perera of meeting country's Sports Minister to secure his place in the team. \"We've become laughing stock of whole country...because of one person's personal vendetta,\" Perera wrote.\n",
      "요약문 71:\n",
      " Tanya accused Perera of meeting country's Sports Minister to secure his place in the team.\n",
      "\n",
      "================================================================================\n",
      "\n",
      "원문 72:\n",
      " Prime Minister Narendra Modi stopped his speech at the inauguration of the new terminal building at Surat airport after observing that a cameraman had fainted. PM Modi then asked his officers to urgently arrange for an ambulance for the cameraman. \"It's good that PM was paying attention to his surroundings during his speech,\" the cameraman later said from a hospital. \n",
      "요약문 72:\n",
      " PM Modi then asked his officers to urgently arrange for an ambulance for the cameraman.\n",
      "\n",
      "================================================================================\n",
      "\n",
      "원문 73:\n",
      " A couple got divorced minutes after their wedding ceremony got over in Gujarat's Gondal as a disagreement broke out and relatives from both sides started throwing dishes at each other during lunch. The advocates representing both sides arrived at the marriage hall and got the couple divorced within minutes. The couple even reportedly returned the gifts exchanged during the ceremony.\n",
      "요약문 73:\n",
      " A couple got divorced minutes after their wedding ceremony got over in Gujarat's Gondal as a disagreement broke out and relatives from both sides started throwing dishes at each other during lunch.\n",
      "\n",
      "================================================================================\n",
      "\n",
      "원문 74:\n",
      " Gujarat Education Minister Bhupendrasinh Chudasma has written a congratulatory message to a yoga ashram run by rape-convict Asaram's organisation for observing February 14 as \"Matru-Pitru Pujan Divas\" (Mother-Father worship day). After the Congress termed the letter as \"unfortunate\", saying it \"shows the nexus between BJP and godman\", Chudasma clarified, \"All I have done is sent best wishes.\" \n",
      "요약문 74:\n",
      " Gujarat Education Minister Bhupendrasinh Chudasma has written a congratulatory message to a yoga ashram run by rape-convict Asaram's organisation for observing February 14 as \"Matru-Pitru Pujan Divas\" (Mother-Father worship day).\n",
      "\n",
      "================================================================================\n",
      "\n",
      "원문 75:\n",
      " Venezuelan President NicolÃÂ¡s Maduro has claimed that his American counterpart Donald Trump ordered the Colombian government and the Colombian mafia to kill him. \"If something happens to me, Trump and Colombian President IvÃÂ¡n MÃÂ¡rquez will bear responsibility,\" he added. The US has blamed Maduro for the economic crisis in Venezuela and recognised opposition leader Juan GuaidÃÂ³ as interim President.\n",
      "요약문 75:\n",
      " Venezuelan President NicolÃÂ¡s Maduro has claimed that his American counterpart Donald Trump ordered the Colombian government and the Colombian mafia to kill him.\n",
      "\n",
      "================================================================================\n",
      "\n",
      "원문 76:\n",
      " Eight Asian billionaires aged 90 or above on the Bloomberg Billionaires Index of world's 500 richest people have a combined net worth of $125 billion. The richest among them is Hong Kong's Li Ka Shing with a net worth of $30.5 billion. India's 90-year-old Pallonji Mistry, who controls 18.3% of Tata Sons through Shapoorji Pallonji Group, is worth $20.1 billion.\n",
      "요약문 76:\n",
      " The richest among them is Hong Kong's Li Ka Shing with a net worth of $30.5 billion.\n",
      "\n",
      "================================================================================\n",
      "\n",
      "원문 77:\n",
      " Tamil Nadu food safety officials on Wednesday raided and seized 1,000 kgs of banned plastic items from Hotel Saravana Bhavan in Chennai's Vadapalani. Officials began a surprise check in the branch at 8 am. The state government had banned single-use plastics from January 1 and said the banned items should be handed over at the offices of the city corporation.\n",
      "요약문 77:\n",
      " Tamil Nadu food safety officials on Wednesday raided and seized 1,000 kgs of banned plastic items from Hotel Saravana Bhavan in Chennai's Vadapalani.\n",
      "\n",
      "================================================================================\n",
      "\n",
      "원문 78:\n",
      " Actress Shamita Shetty was verbally abused and her driver was slapped in an incident of road rage in Mumbai on Tuesday, as per reports. The incident reportedly took place after a motorist who was accompanied by two friends, rammed his vehicle into Shamita's car. The men allegedly manhandled and threatened Shamita's driver when he stepped out to inspect the damage. \n",
      "요약문 78:\n",
      " Actress Shamita Shetty was verbally abused and her driver was slapped in an incident of road rage in Mumbai on Tuesday, as per reports.\n",
      "\n",
      "================================================================================\n",
      "\n",
      "원문 79:\n",
      " Actress Vaani Kapoor said that trolling has become a norm on social media, adding, \"There's no one who hasn't got trolled on social media.\" \"Everybody is out there to pull the other person down but it'll only bother [you] if you let it bother you,\" Vaani added. She further said, social media offers a platform \"where people enjoy belittling everybody\". \n",
      "요약문 79:\n",
      " Actress Vaani Kapoor said that trolling has become a norm on social media, adding, \"There's no one who hasn't got trolled on social media.\" \"Everybody is out there to pull the other person down but it'll only bother [you] if you let it bother you,\" Vaani added.\n",
      "\n",
      "================================================================================\n",
      "\n",
      "원문 80:\n",
      " Actress Sushmita Sen took to Instagram to share a joke on the subject of marriage. \"Whoever invented marriage was creepy as hell. Like I love you so much IÃ¢ÂÂm gonna get the government involved so you canÃ¢ÂÂt leave,\" Sushmita's post read. \"This is an insult to [the] beauty of marriage,\" an Instagram user commented on her post.\n",
      "요약문 80:\n",
      " Actress Sushmita Sen took to Instagram to share a joke on the subject of marriage.\n",
      "\"This is an insult to [the] beauty of marriage,\" an Instagram user commented on her post.\n",
      "\n",
      "================================================================================\n",
      "\n",
      "원문 81:\n",
      " Television actor Karanvir Bohra, who flew to Russia on Tuesday to attend a film festival, has been detained in Moscow due to passport damage. \"They [are] contemplating to deport me back to India,\" the actor wrote on Twitter. The Indian embassy in Russia's capital responded to his tweet and said that they were looking into the issue. \n",
      "요약문 81:\n",
      " Television actor Karanvir Bohra, who flew to Russia on Tuesday to attend a film festival, has been detained in Moscow due to passport damage.\n",
      "\n",
      "================================================================================\n",
      "\n",
      "원문 82:\n",
      " Actress Patralekhaa will make her debut in the Kannada film industry with the action-comedy film 'Where is my Kannadaka?' \"I can definitely say that itÃ¢ÂÂs a kind of role that I havenÃ¢ÂÂt portrayed on screen so far and that makes it special for me,\" the actress said in a statement. Shooting for the film will reportedly begin in April.\n",
      "요약문 82:\n",
      " Actress Patralekhaa will make her debut in the Kannada film industry with the action-comedy film 'Where is my Kannadaka?' \"I can definitely say that itÃ¢ÂÂs a kind of role that I havenÃ¢ÂÂt portrayed on screen so far and that makes it special for me,\" the actress said in a statement.\n",
      "\n",
      "================================================================================\n",
      "\n",
      "원문 83:\n",
      " Gmail on Tuesday faced a global outage, which also affected India, wherein certain users complained they faced a '404 error' message while trying to sign-in to their accounts. The error message read: \"The requested URL was not found on this server. That's all we know.\" Google responded saying \"problem with Gmail should be resolved (now). We apologise for the inconvenience\".\n",
      "요약문 83:\n",
      " Gmail on Tuesday faced a global outage, which also affected India, wherein certain users complained they faced a '404 error' message while trying to sign-in to their accounts.\n",
      "The error message read: \"The requested URL was not found on this server.\n",
      "\n",
      "================================================================================\n",
      "\n",
      "원문 84:\n",
      " Shiv Sena chief Uddhav Thackeray has asked the BJP to decide about the alliance with the Sena within 15 days and said the BJP should make a concrete proposal on the alliance. Thackeray added that only if the BJP agrees to Sena's terms and conditions, the party will agree for an alliance. Sena is free to fight independently, he said. \n",
      "요약문 84:\n",
      " Shiv Sena chief Uddhav Thackeray has asked the BJP to decide about the alliance with the Sena within 15 days and said the BJP should make a concrete proposal on the alliance.\n",
      "\n",
      "================================================================================\n",
      "\n",
      "원문 85:\n",
      " BJP President Amit Shah on Wednesday took a dig at the Opposition's proposed grand alliance saying if the \"mahagathbandhan comes to power, each opposition leader will be a Prime Minister every day of the week\". He added, \"[The] country will go on...holiday on Sunday\". He said the Opposition is thinking about leading the country but does not have a leader.\n",
      "요약문 85:\n",
      " He said the Opposition is thinking about leading the country but does not have a leader.\n",
      "\n",
      "================================================================================\n",
      "\n",
      "원문 86:\n",
      " Prime Minister Narendra Modi on Wednesday said his government's demonetisation decision made houses affordable for the aspiring youth. He added decisions like demonetisation and RERA have put a check on black money that used to be \"parked in the real estate sector\". He said 'UDAN' (Ude Desh ka Aam Nagrik) scheme has boosted the development of the country's aviation sector.\n",
      "요약문 86:\n",
      " He added decisions like demonetisation and RERA have put a check on black money that used to be \"parked in the real estate sector\".\n",
      "\n",
      "================================================================================\n",
      "\n",
      "원문 87:\n",
      " German multinational engineering and electronics firm Bosch has made its first investment in India in Bengaluru-based deep-tech startup SimYog. SimYog has raised about Ã¢ÂÂ¹6.3 crore in the funding round, with participation from early-stage venture capital firm Ideaspring Capital. Incubated at the Indian Institute of Science (IISc), it provides design and sign-off tools for automotive electronics.\n",
      "요약문 87:\n",
      " German multinational engineering and electronics firm Bosch has made its first investment in India in Bengaluru-based deep-tech startup SimYog. SimYog has raised about Ã¢ÂÂ¹6.3 crore in the funding round, with participation from early-stage venture capital firm Ideaspring Capital.\n",
      "\n",
      "================================================================================\n",
      "\n",
      "원문 88:\n",
      " Mumbai-headquartered talent technology startup Shortlist has raised $2 million in a Series A round of funding. The round was led by Blue Haven Initiative, with participation from Compass Venture Capital, Zephyr Acorn among others. Founded by Simon Desjardins, Paul Breloff and Matt Schnuck, Shortlist screens candidates using predictive chat-based interviews and online competency-based assessments.\n",
      "요약문 88:\n",
      " Mumbai-headquartered talent technology startup Shortlist has raised $2 million in a Series A round of funding.\n",
      "\n",
      "================================================================================\n",
      "\n",
      "원문 89:\n",
      " MIT engineers have developed a jelly-like ingestible pill that expands inside the stomach and can be used to monitor conditions like cancers and ulcers for up to a month. The pill, made using two types of hydrogels, is embedded with a sensor that continuously tracks the stomach's temperature. It can be removed by drinking a calcium-ion solution that shrinks it.\n",
      "요약문 89:\n",
      " MIT engineers have developed a jelly-like ingestible pill that expands inside the stomach and can be used to monitor conditions like cancers and ulcers for up to a month.\n",
      "\n",
      "================================================================================\n",
      "\n",
      "원문 90:\n",
      " New York's Columbia University neuro-engineers claim to have developed a system that can convert human brain signals directly into speech using artificial intelligence. Researchers revealed a computer algorithm 'vocoder' was used. \"This is the same technology used by Amazon Echo and Apple Siri to give verbal responses to our questions,\" senior author of the study Nima Mesgarani said.\n",
      "요약문 90:\n",
      " New York's Columbia University neuro-engineers claim to have developed a system that can convert human brain signals directly into speech using artificial intelligence.\n",
      "\n",
      "================================================================================\n",
      "\n",
      "원문 91:\n",
      " A team of IIT-Roorkee scientists is testing a floating device that can generate electricity from flowing surface water of rivers. Instead of using water falling from height to turn turbines like in traditional dams, the prototype uses velocity of flowing river, professor RP Saini said. \"Flowing water can generate hundred times more power than wind of same velocity,\" Saini added.\n",
      "요약문 91:\n",
      " \"Flowing water can generate hundred times more power than wind of same velocity,\" Saini added.\n",
      "\n",
      "================================================================================\n",
      "\n",
      "원문 92:\n",
      " A 22-year-old woman died after she fell down a flight of stairs in a New York City subway station while carrying her one-year-old baby in a pram. The station where she died didn't have elevators. Only about a quarter of New York City's 472 subway stations have elevators, making the rest inaccessible to people in wheelchairs and parents carrying prams.\n",
      "요약문 92:\n",
      " Only about a quarter of New York City's 472 subway stations have elevators, making the rest inaccessible to people in wheelchairs and parents carrying prams.\n",
      "\n",
      "================================================================================\n",
      "\n",
      "원문 93:\n",
      " The country's largest fuel retailer Indian Oil Corporation on Wednesday reported a 91% year-on-year decline in its net profit at Ã¢ÂÂ¹717 crore for the December quarter. The fall in profit came amid increased expenses which stood at Ã¢ÂÂ¹1.6 lakh crore and rise in foreign exchange loss. The company's domestic sales increased 2.8% from the year-ago period to 21.545 million tonnes.\n",
      "요약문 93:\n",
      " The fall in profit came amid increased expenses which stood at Ã¢ÂÂ¹1.6 lakh crore and rise in foreign exchange loss.\n",
      "\n",
      "================================================================================\n",
      "\n",
      "원문 94:\n",
      " Speaking about the incident when her private pictures were leaked online, actress Hansika Motwani said, \"Certain people [said] since I anyway did bikini shoots...what's the big deal if such pictures are leaked?\" \"When I do...bikini shoot, I'm doing it out of my own choice. Here it's being circulated without...consent,\" she added. Hansika said some of the leaked pictures were morphed.\n",
      "요약문 94:\n",
      " Speaking about the incident when her private pictures were leaked online, actress Hansika Motwani said, \"Certain people [said] since I anyway did bikini shoots...what's the big deal if such pictures are leaked?\" \"When I do...bikini shoot, I'm doing it out of my own choice.\n",
      "\n",
      "================================================================================\n",
      "\n",
      "원문 95:\n",
      " Pakistan captain Sarfaraz Ahmed has said that former fast bowler Shoaib Akhtar was not criticising but personally attacking him over the four-match ban handed to him by the ICC over his 'Abey Kaale' remark on South Africa's Andile Phehlukwayo. Akhtar had said that Sarfaraz's comments were unacceptable and that he had gotten off easily with a four-match suspension.\n",
      "요약문 95:\n",
      " Pakistan captain Sarfaraz Ahmed has said that former fast bowler Shoaib Akhtar was not criticising but personally attacking him over the four-match ban handed to him by the ICC over his 'Abey Kaale' remark on South Africa's Andile Phehlukwayo.\n",
      "\n",
      "================================================================================\n",
      "\n",
      "원문 96:\n",
      " Apple on Tuesday said its sales in China fell 27% in the December quarter, representing nearly $5 billion of lost revenue. Apple's overall revenue fell 4.5% to $84.3 billion during the quarter while profit fell slightly to $19.97 billion. Notably, the iPhone maker reported a decline in both revenue and profits for the first time in more than 10 years.\n",
      "요약문 96:\n",
      " Apple's overall revenue fell 4.5% to $84.3 billion during the quarter while profit fell slightly to $19.97 billion.\n",
      "\n",
      "================================================================================\n",
      "\n",
      "원문 97:\n",
      " After Congress President Rahul Gandhi's recent poll promises like Minimum Income Guarantee and women's reservation, scholar and activist Madhu Kishwar tweeted, \"Wait till Rahul Gandhi also promises free sex for every adult male for a certain number of days every year!\" Several people criticised her for the remark, with one saying, \"I can't believe you have written it. Stumped. Sad.\"\n",
      "요약문 97:\n",
      " After Congress President Rahul Gandhi's recent poll promises like Minimum Income Guarantee and women's reservation, scholar and activist Madhu Kishwar tweeted, \"Wait till Rahul Gandhi also promises free sex for every adult male for a certain number of days every year!\" Several people criticised her for the remark, with one saying, \"I can't believe you have written it.\n",
      "\n",
      "================================================================================\n",
      "\n",
      "원문 98:\n",
      " After Congress chief Rahul Gandhi claimed Goa CM Manohar Parrikar told him he had \"nothing to do with the new Rafale deal,\" BJP minister Mauvin Godinho asked Rahul \"not to politicise a courtesy visit.\" Godinho added, \"It wasn't the right thing for Rahul Gandhi to do...When you come to enquire about a person's health, it should be limited to that.\" \n",
      "요약문 98:\n",
      " \n",
      "\n",
      "================================================================================\n",
      "\n",
      "원문 99:\n",
      " BJP MLA Surendra Singh on Wednesday compared Congress President Rahul Gandhi and his sister, Priyanka Gandhi, to 'Ravana' and 'Surpanakha' from Ramayana. \"Just how Ravana pushed his sister Surpanakha in the war ahead of him, Rahul Gandhi has pushed his sister (Priyanka) in the fray...We are blessed with a leader like (PM) Narendra Modi,\" Singh said.\n",
      "요약문 99:\n",
      " BJP MLA Surendra Singh on Wednesday compared Congress President Rahul Gandhi and his sister, Priyanka Gandhi, to 'Ravana' and 'Surpanakha' from Ramayana.\n",
      "\n",
      "================================================================================\n",
      "\n",
      "원문 100:\n",
      " All India Anna Dravida Munnetra Kazhagam (AIADMK) has told party leaders who want to contest the upcoming Lok Sabha polls to pay Ã¢ÂÂ¹25,000 while submitting their application forms. The fee is applicable for a total of 40 seats in Tamil Nadu and Puducherry. AIADMK had issued a similar notification for party ticket aspirants ahead of the 2014 Lok Sabha polls. \n",
      "요약문 100:\n",
      " All India Anna Dravida Munnetra Kazhagam (AIADMK) has told party leaders who want to contest the upcoming Lok Sabha polls to pay Ã¢ÂÂ¹25,000 while submitting their application forms.\n",
      "\n",
      "================================================================================\n",
      "\n"
     ]
    }
   ],
   "source": [
    "# 50번째부터 100번째 기사까지 요약\n",
    "for i in range(50, 100):\n",
    "    article = data.iloc[i]['text']  # .iloc[] 사용\n",
    "    summary = summarize(article, ratio=0.5)\n",
    "    \n",
    "    print(f\"원문 {i+1}:\\n\", article)\n",
    "    print(f\"요약문 {i+1}:\\n\", summary)\n",
    "    print(\"\\n\" + \"=\"*80 + \"\\n\")"
   ]
  },
  {
   "cell_type": "code",
   "execution_count": null,
   "id": "a90f9b6d",
   "metadata": {},
   "outputs": [],
   "source": []
  },
  {
   "cell_type": "markdown",
   "id": "340e420b",
   "metadata": {},
   "source": [
    "---\n",
    "## 회고"
   ]
  },
  {
   "cell_type": "code",
   "execution_count": null,
   "id": "e31b4852",
   "metadata": {},
   "outputs": [],
   "source": []
  }
 ],
 "metadata": {
  "kernelspec": {
   "display_name": "Python 3 (ipykernel)",
   "language": "python",
   "name": "python3"
  },
  "language_info": {
   "codemirror_mode": {
    "name": "ipython",
    "version": 3
   },
   "file_extension": ".py",
   "mimetype": "text/x-python",
   "name": "python",
   "nbconvert_exporter": "python",
   "pygments_lexer": "ipython3",
   "version": "3.9.7"
  }
 },
 "nbformat": 4,
 "nbformat_minor": 5
}
