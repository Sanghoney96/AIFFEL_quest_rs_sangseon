{
 "cells": [
  {
   "cell_type": "markdown",
   "id": "21cf7560",
   "metadata": {},
   "source": [
    "# [Ex06] 8. 뉴스 요약봇 만들기 [프로젝트]\n",
    "  \n",
    "- [ ] Abstractive 모델 구성을 위한 텍스트 전처리 단계가 체계적으로 진행됨. \n",
    "    - 분석단계, 정제단계, 정규화,불용어제거, 데이터셋분리, 인코딩과정  \n",
    "- [ ] 텍스트 요약모델이 성공적으로 학습. \n",
    "    - train loss와 validation loss가 감소하는 경향을 그래프를 통해 확인  \n",
    "- [ ] Extractive 요약을 시도해 보고 Abstractive 요약 결과 \n",
    "    - 두 요약 결과를 문법완성도 측면과 핵심단어 포함 측면으로 나누어 비교하고 분석 결과를 표로 정리  "
   ]
  },
  {
   "cell_type": "code",
   "execution_count": 1,
   "id": "da677fad",
   "metadata": {},
   "outputs": [
    {
     "name": "stdout",
     "output_type": "stream",
     "text": [
      "3.6.5\n",
      "2.6.0\n",
      "1.3.3\n",
      "1.2.0\n"
     ]
    }
   ],
   "source": [
    "from importlib.metadata import version\n",
    "import nltk\n",
    "import tensorflow\n",
    "import summa\n",
    "import pandas as pd\n",
    "\n",
    "print(nltk.__version__)\n",
    "print(tensorflow.__version__)\n",
    "print(pd.__version__)\n",
    "print(version('summa'))"
   ]
  },
  {
   "cell_type": "code",
   "execution_count": 2,
   "id": "1a5935c4",
   "metadata": {},
   "outputs": [
    {
     "name": "stderr",
     "output_type": "stream",
     "text": [
      "[nltk_data] Downloading package stopwords to /aiffel/nltk_data...\n",
      "[nltk_data]   Package stopwords is already up-to-date!\n"
     ]
    },
    {
     "data": {
      "text/plain": [
       "True"
      ]
     },
     "execution_count": 2,
     "metadata": {},
     "output_type": "execute_result"
    }
   ],
   "source": [
    "import nltk\n",
    "nltk.download('stopwords')"
   ]
  },
  {
   "cell_type": "code",
   "execution_count": 3,
   "id": "f6101254",
   "metadata": {},
   "outputs": [],
   "source": [
    "import numpy as np\n",
    "import os\n",
    "import re\n",
    "import matplotlib.pyplot as plt\n",
    "from nltk.corpus import stopwords\n",
    "from bs4 import BeautifulSoup \n",
    "from tensorflow.keras.preprocessing.text import Tokenizer \n",
    "from tensorflow.keras.preprocessing.sequence import pad_sequences\n",
    "import urllib.request\n",
    "import warnings\n",
    "warnings.filterwarnings(\"ignore\", category=UserWarning, module='bs4')"
   ]
  },
  {
   "cell_type": "markdown",
   "id": "cf8034ea",
   "metadata": {},
   "source": [
    "## 1. 데이터"
   ]
  },
  {
   "cell_type": "code",
   "execution_count": 4,
   "id": "7ffbb37b",
   "metadata": {},
   "outputs": [],
   "source": [
    "# import urllib.request\n",
    "# urllib.request.urlretrieve(\"https://raw.githubusercontent.com/sunnysai12345/News_Summary/master/news_summary_more.csv\", filename=\"news_summary_more.csv\")\n",
    "data = pd.read_csv('news_summary_more.csv', encoding='iso-8859-1')"
   ]
  },
  {
   "cell_type": "code",
   "execution_count": 5,
   "id": "df93d18e",
   "metadata": {},
   "outputs": [
    {
     "data": {
      "text/html": [
       "<div>\n",
       "<style scoped>\n",
       "    .dataframe tbody tr th:only-of-type {\n",
       "        vertical-align: middle;\n",
       "    }\n",
       "\n",
       "    .dataframe tbody tr th {\n",
       "        vertical-align: top;\n",
       "    }\n",
       "\n",
       "    .dataframe thead th {\n",
       "        text-align: right;\n",
       "    }\n",
       "</style>\n",
       "<table border=\"1\" class=\"dataframe\">\n",
       "  <thead>\n",
       "    <tr style=\"text-align: right;\">\n",
       "      <th></th>\n",
       "      <th>headlines</th>\n",
       "      <th>text</th>\n",
       "    </tr>\n",
       "  </thead>\n",
       "  <tbody>\n",
       "    <tr>\n",
       "      <th>22285</th>\n",
       "      <td>JNU holds convocation after 46 years, students...</td>\n",
       "      <td>The Jawaharlal Nehru University held a convoca...</td>\n",
       "    </tr>\n",
       "    <tr>\n",
       "      <th>70372</th>\n",
       "      <td>World XI attracts a lot of attention and they ...</td>\n",
       "      <td>Cricket commentator Harsha Bhogle took a dig a...</td>\n",
       "    </tr>\n",
       "    <tr>\n",
       "      <th>82008</th>\n",
       "      <td>Essar Steel challenges RBI's insolvency move i...</td>\n",
       "      <td>Essar Steel has filed a petition in the Gujara...</td>\n",
       "    </tr>\n",
       "    <tr>\n",
       "      <th>87154</th>\n",
       "      <td>Need help of young actors to move ahead in my ...</td>\n",
       "      <td>Actor Suniel Shetty has said that he will need...</td>\n",
       "    </tr>\n",
       "    <tr>\n",
       "      <th>69957</th>\n",
       "      <td>Qatar spent $38.5bn of reserves to survive blo...</td>\n",
       "      <td>Qatar has spent over 11% of its reserves in ju...</td>\n",
       "    </tr>\n",
       "    <tr>\n",
       "      <th>57324</th>\n",
       "      <td>100 people own nearly one-fifth of Bitcoin mar...</td>\n",
       "      <td>The top 100 Bitcoin addresses control about 17...</td>\n",
       "    </tr>\n",
       "    <tr>\n",
       "      <th>38802</th>\n",
       "      <td>Cannot believe what one video did for us: Suni...</td>\n",
       "      <td>Referring to the video he shared urging the fa...</td>\n",
       "    </tr>\n",
       "    <tr>\n",
       "      <th>31920</th>\n",
       "      <td>Walmart buys Flipkart in world's largest e-com...</td>\n",
       "      <td>US-based retail giant Walmart has closed the l...</td>\n",
       "    </tr>\n",
       "    <tr>\n",
       "      <th>46972</th>\n",
       "      <td>Combination of Salman Khan, my nain is a super...</td>\n",
       "      <td>Talking about her song 'Nain Phisal Gaye' from...</td>\n",
       "    </tr>\n",
       "    <tr>\n",
       "      <th>59240</th>\n",
       "      <td>UPA treated Pak as victim state, PM Modi isola...</td>\n",
       "      <td>Slamming the UPA government for treating Pakis...</td>\n",
       "    </tr>\n",
       "  </tbody>\n",
       "</table>\n",
       "</div>"
      ],
      "text/plain": [
       "                                               headlines  \\\n",
       "22285  JNU holds convocation after 46 years, students...   \n",
       "70372  World XI attracts a lot of attention and they ...   \n",
       "82008  Essar Steel challenges RBI's insolvency move i...   \n",
       "87154  Need help of young actors to move ahead in my ...   \n",
       "69957  Qatar spent $38.5bn of reserves to survive blo...   \n",
       "57324  100 people own nearly one-fifth of Bitcoin mar...   \n",
       "38802  Cannot believe what one video did for us: Suni...   \n",
       "31920  Walmart buys Flipkart in world's largest e-com...   \n",
       "46972  Combination of Salman Khan, my nain is a super...   \n",
       "59240  UPA treated Pak as victim state, PM Modi isola...   \n",
       "\n",
       "                                                    text  \n",
       "22285  The Jawaharlal Nehru University held a convoca...  \n",
       "70372  Cricket commentator Harsha Bhogle took a dig a...  \n",
       "82008  Essar Steel has filed a petition in the Gujara...  \n",
       "87154  Actor Suniel Shetty has said that he will need...  \n",
       "69957  Qatar has spent over 11% of its reserves in ju...  \n",
       "57324  The top 100 Bitcoin addresses control about 17...  \n",
       "38802  Referring to the video he shared urging the fa...  \n",
       "31920  US-based retail giant Walmart has closed the l...  \n",
       "46972  Talking about her song 'Nain Phisal Gaye' from...  \n",
       "59240  Slamming the UPA government for treating Pakis...  "
      ]
     },
     "execution_count": 5,
     "metadata": {},
     "output_type": "execute_result"
    }
   ],
   "source": [
    "data.sample(10)"
   ]
  },
  {
   "cell_type": "markdown",
   "id": "7ac3d606",
   "metadata": {},
   "source": [
    "---\n",
    "## 2. 데이터 전처리하기 (추상적 요약)"
   ]
  },
  {
   "cell_type": "code",
   "execution_count": 6,
   "id": "4f9fb700",
   "metadata": {},
   "outputs": [
    {
     "name": "stdout",
     "output_type": "stream",
     "text": [
      "98401\n"
     ]
    }
   ],
   "source": [
    "print(len(data))"
   ]
  },
  {
   "cell_type": "code",
   "execution_count": 7,
   "id": "4b22ae93",
   "metadata": {},
   "outputs": [
    {
     "name": "stdout",
     "output_type": "stream",
     "text": [
      "text 열에서 중복을 배제한 유일한 샘플의 수 : 98360\n",
      "headlines 열에서 중복을 배제한 유일한 샘플의 수 : 98280\n"
     ]
    }
   ],
   "source": [
    "# 중복 확인\n",
    "print('text 열에서 중복을 배제한 유일한 샘플의 수 :', data['text'].nunique())\n",
    "print('headlines 열에서 중복을 배제한 유일한 샘플의 수 :', data['headlines'].nunique())"
   ]
  },
  {
   "cell_type": "code",
   "execution_count": 8,
   "id": "a127cf4d",
   "metadata": {},
   "outputs": [
    {
     "name": "stdout",
     "output_type": "stream",
     "text": [
      "전체 샘플수 : 98360\n"
     ]
    }
   ],
   "source": [
    "data.drop_duplicates(subset = ['text'], inplace=True)\n",
    "print('전체 샘플수 :', (len(data)))"
   ]
  },
  {
   "cell_type": "code",
   "execution_count": 9,
   "id": "7b662191",
   "metadata": {},
   "outputs": [
    {
     "name": "stdout",
     "output_type": "stream",
     "text": [
      "headlines    0\n",
      "text         0\n",
      "dtype: int64\n"
     ]
    }
   ],
   "source": [
    "# 결측값 확인\n",
    "print(data.isnull().sum())"
   ]
  },
  {
   "cell_type": "markdown",
   "id": "f22fb98c",
   "metadata": {},
   "source": [
    "### 정규화 및 불용어제거"
   ]
  },
  {
   "cell_type": "code",
   "execution_count": 10,
   "id": "ea965a24",
   "metadata": {},
   "outputs": [
    {
     "name": "stdout",
     "output_type": "stream",
     "text": [
      "정규화 사전의 수:  120\n"
     ]
    }
   ],
   "source": [
    "# 정규화\n",
    "contractions = {\"ain't\": \"is not\", \"aren't\": \"are not\",\"can't\": \"cannot\", \"'cause\": \"because\", \"could've\": \"could have\", \"couldn't\": \"could not\",\n",
    "                           \"didn't\": \"did not\",  \"doesn't\": \"does not\", \"don't\": \"do not\", \"hadn't\": \"had not\", \"hasn't\": \"has not\", \"haven't\": \"have not\",\n",
    "                           \"he'd\": \"he would\",\"he'll\": \"he will\", \"he's\": \"he is\", \"how'd\": \"how did\", \"how'd'y\": \"how do you\", \"how'll\": \"how will\", \"how's\": \"how is\",\n",
    "                           \"I'd\": \"I would\", \"I'd've\": \"I would have\", \"I'll\": \"I will\", \"I'll've\": \"I will have\",\"I'm\": \"I am\", \"I've\": \"I have\", \"i'd\": \"i would\",\n",
    "                           \"i'd've\": \"i would have\", \"i'll\": \"i will\",  \"i'll've\": \"i will have\",\"i'm\": \"i am\", \"i've\": \"i have\", \"isn't\": \"is not\", \"it'd\": \"it would\",\n",
    "                           \"it'd've\": \"it would have\", \"it'll\": \"it will\", \"it'll've\": \"it will have\",\"it's\": \"it is\", \"let's\": \"let us\", \"ma'am\": \"madam\",\n",
    "                           \"mayn't\": \"may not\", \"might've\": \"might have\",\"mightn't\": \"might not\",\"mightn't've\": \"might not have\", \"must've\": \"must have\",\n",
    "                           \"mustn't\": \"must not\", \"mustn't've\": \"must not have\", \"needn't\": \"need not\", \"needn't've\": \"need not have\",\"o'clock\": \"of the clock\",\n",
    "                           \"oughtn't\": \"ought not\", \"oughtn't've\": \"ought not have\", \"shan't\": \"shall not\", \"sha'n't\": \"shall not\", \"shan't've\": \"shall not have\",\n",
    "                           \"she'd\": \"she would\", \"she'd've\": \"she would have\", \"she'll\": \"she will\", \"she'll've\": \"she will have\", \"she's\": \"she is\",\n",
    "                           \"should've\": \"should have\", \"shouldn't\": \"should not\", \"shouldn't've\": \"should not have\", \"so've\": \"so have\",\"so's\": \"so as\",\n",
    "                           \"this's\": \"this is\",\"that'd\": \"that would\", \"that'd've\": \"that would have\", \"that's\": \"that is\", \"there'd\": \"there would\",\n",
    "                           \"there'd've\": \"there would have\", \"there's\": \"there is\", \"here's\": \"here is\",\"they'd\": \"they would\", \"they'd've\": \"they would have\",\n",
    "                           \"they'll\": \"they will\", \"they'll've\": \"they will have\", \"they're\": \"they are\", \"they've\": \"they have\", \"to've\": \"to have\",\n",
    "                           \"wasn't\": \"was not\", \"we'd\": \"we would\", \"we'd've\": \"we would have\", \"we'll\": \"we will\", \"we'll've\": \"we will have\", \"we're\": \"we are\",\n",
    "                           \"we've\": \"we have\", \"weren't\": \"were not\", \"what'll\": \"what will\", \"what'll've\": \"what will have\", \"what're\": \"what are\",\n",
    "                           \"what's\": \"what is\", \"what've\": \"what have\", \"when's\": \"when is\", \"when've\": \"when have\", \"where'd\": \"where did\", \"where's\": \"where is\",\n",
    "                           \"where've\": \"where have\", \"who'll\": \"who will\", \"who'll've\": \"who will have\", \"who's\": \"who is\", \"who've\": \"who have\",\n",
    "                           \"why's\": \"why is\", \"why've\": \"why have\", \"will've\": \"will have\", \"won't\": \"will not\", \"won't've\": \"will not have\",\n",
    "                           \"would've\": \"would have\", \"wouldn't\": \"would not\", \"wouldn't've\": \"would not have\", \"y'all\": \"you all\",\n",
    "                           \"y'all'd\": \"you all would\",\"y'all'd've\": \"you all would have\",\"y'all're\": \"you all are\",\"y'all've\": \"you all have\",\n",
    "                           \"you'd\": \"you would\", \"you'd've\": \"you would have\", \"you'll\": \"you will\", \"you'll've\": \"you will have\",\n",
    "                           \"you're\": \"you are\", \"you've\": \"you have\"}\n",
    "\n",
    "print(\"정규화 사전의 수: \", len(contractions))"
   ]
  },
  {
   "cell_type": "code",
   "execution_count": 11,
   "id": "8ac7cc54",
   "metadata": {},
   "outputs": [
    {
     "name": "stdout",
     "output_type": "stream",
     "text": [
      "불용어 개수 : 179\n",
      "['i', 'me', 'my', 'myself', 'we', 'our', 'ours', 'ourselves', 'you', \"you're\", \"you've\", \"you'll\", \"you'd\", 'your', 'yours', 'yourself', 'yourselves', 'he', 'him', 'his', 'himself', 'she', \"she's\", 'her', 'hers', 'herself', 'it', \"it's\", 'its', 'itself', 'they', 'them', 'their', 'theirs', 'themselves', 'what', 'which', 'who', 'whom', 'this', 'that', \"that'll\", 'these', 'those', 'am', 'is', 'are', 'was', 'were', 'be', 'been', 'being', 'have', 'has', 'had', 'having', 'do', 'does', 'did', 'doing', 'a', 'an', 'the', 'and', 'but', 'if', 'or', 'because', 'as', 'until', 'while', 'of', 'at', 'by', 'for', 'with', 'about', 'against', 'between', 'into', 'through', 'during', 'before', 'after', 'above', 'below', 'to', 'from', 'up', 'down', 'in', 'out', 'on', 'off', 'over', 'under', 'again', 'further', 'then', 'once', 'here', 'there', 'when', 'where', 'why', 'how', 'all', 'any', 'both', 'each', 'few', 'more', 'most', 'other', 'some', 'such', 'no', 'nor', 'not', 'only', 'own', 'same', 'so', 'than', 'too', 'very', 's', 't', 'can', 'will', 'just', 'don', \"don't\", 'should', \"should've\", 'now', 'd', 'll', 'm', 'o', 're', 've', 'y', 'ain', 'aren', \"aren't\", 'couldn', \"couldn't\", 'didn', \"didn't\", 'doesn', \"doesn't\", 'hadn', \"hadn't\", 'hasn', \"hasn't\", 'haven', \"haven't\", 'isn', \"isn't\", 'ma', 'mightn', \"mightn't\", 'mustn', \"mustn't\", 'needn', \"needn't\", 'shan', \"shan't\", 'shouldn', \"shouldn't\", 'wasn', \"wasn't\", 'weren', \"weren't\", 'won', \"won't\", 'wouldn', \"wouldn't\"]\n"
     ]
    }
   ],
   "source": [
    "# 불용어\n",
    "print('불용어 개수 :', len(stopwords.words('english') ))\n",
    "print(stopwords.words('english'))"
   ]
  },
  {
   "cell_type": "code",
   "execution_count": 12,
   "id": "71cb0955",
   "metadata": {},
   "outputs": [],
   "source": [
    "# 데이터 전처리 함수\n",
    "def preprocess_sentence(sentence, remove_stopwords=True):\n",
    "    sentence = sentence.lower() # 텍스트 소문자화\n",
    "    sentence = BeautifulSoup(sentence, \"lxml\").text # <br />, <a href = ...> 등의 html 태그 제거\n",
    "    sentence = re.sub(r'\\([^)]*\\)', '', sentence) # 괄호로 닫힌 문자열 (...) 제거 Ex) my husband (and myself!) for => my husband for\n",
    "    sentence = re.sub('\"','', sentence) # 쌍따옴표 \" 제거\n",
    "    sentence = ' '.join([contractions[t] if t in contractions else t for t in sentence.split(\" \")]) # 약어 정규화\n",
    "    sentence = re.sub(r\"'s\\b\",\"\", sentence) # 소유격 제거. Ex) roland's -> roland\n",
    "    sentence = re.sub(\"[^a-zA-Z]\", \" \", sentence) # 영어 외 문자(숫자, 특수문자 등) 공백으로 변환\n",
    "    sentence = re.sub('[m]{2,}', 'mm', sentence) # m이 3개 이상이면 2개로 변경. Ex) ummmmmmm yeah -> umm yeah\n",
    "    \n",
    "    # 불용어 제거 (Text)\n",
    "    if remove_stopwords:\n",
    "        tokens = ' '.join(word for word in sentence.split() if not word in stopwords.words('english') if len(word) > 1)\n",
    "    # 불용어 미제거 (Summary)\n",
    "    else:\n",
    "        tokens = ' '.join(word for word in sentence.split() if len(word) > 1)\n",
    "    \n",
    "    return tokens"
   ]
  },
  {
   "cell_type": "code",
   "execution_count": 13,
   "id": "6485444f",
   "metadata": {},
   "outputs": [
    {
     "name": "stdout",
     "output_type": "stream",
     "text": [
      "text:  everything bought great infact ordered twice third ordered wasfor mother father\n",
      "summary: great way to start the day\n"
     ]
    }
   ],
   "source": [
    "temp_text = 'Everything I bought was great, infact I ordered twice and the third ordered was<br />for my mother and father.'\n",
    "temp_summary = 'Great way to start (or finish) the day!!!'\n",
    "\n",
    "print(\"text: \", preprocess_sentence(temp_text))\n",
    "print(\"summary:\", preprocess_sentence(temp_summary, False))  # 불용어를 제거하지 않습니다."
   ]
  },
  {
   "cell_type": "code",
   "execution_count": 14,
   "id": "05246a36",
   "metadata": {},
   "outputs": [
    {
     "name": "stdout",
     "output_type": "stream",
     "text": [
      "Text 전처리 후 결과:  ['saurav kant alumnus upgrad iiit pg program machine learning artificial intelligence sr systems engineer infosys almost years work experience program upgrad degree career support helped transition data scientist tech mahindra salary hike upgrad online power learning powered lakh careers', 'kunal shah credit card bill payment platform cred gave users chance win free food swiggy one year pranav kaushik delhi techie bagged reward spending cred coins users get one cred coin per rupee bill paid used avail rewards brands like ixigo bookmyshow ubereats cult fit', 'new zealand defeated india wickets fourth odi hamilton thursday win first match five match odi series india lost international match rohit sharma captaincy consecutive victories dating back march match witnessed india getting seventh lowest total odi cricket history', 'aegon life iterm insurance plan customers enjoy tax benefits premiums paid save taxes plan provides life cover age years also customers options insure critical illnesses disability accidental death benefit rider life cover age years', 'speaking sexual harassment allegations rajkumar hirani sonam kapoor said known hirani many years true metoo movement get derailed metoo movement always believe woman case need reserve judgment added hirani accused assistant worked sanju']\n"
     ]
    }
   ],
   "source": [
    "# 전체 Text 데이터에 대한 전처리 : 10분 이상 시간이 걸릴 수 있습니다. \n",
    "clean_text = []\n",
    "\n",
    "for text in data['text']:\n",
    "    processed_text = preprocess_sentence(text, remove_stopwords=True)  # 불용어 제거 포함\n",
    "    clean_text.append(processed_text)  # 리스트에 저장\n",
    "\n",
    "# 전처리 후 출력\n",
    "print(\"Text 전처리 후 결과: \", clean_text[:5])"
   ]
  },
  {
   "cell_type": "code",
   "execution_count": 15,
   "id": "53471f0c",
   "metadata": {},
   "outputs": [
    {
     "name": "stdout",
     "output_type": "stream",
     "text": [
      "Summary 전처리 후 결과:  ['upgrad learner switches to career in ml al with salary hike', 'delhi techie wins free food from swiggy for one year on cred', 'new zealand end rohit sharma led india match winning streak', 'aegon life iterm insurance plan helps customers save tax', 'have known hirani for yrs what if metoo claims are not true sonam']\n"
     ]
    }
   ],
   "source": [
    "# 전체 Summary 데이터에 대한 전처리 : 5분 이상 시간이 걸릴 수 있습니다. \n",
    "clean_summary = []\n",
    "\n",
    "for summary in data['headlines']:\n",
    "    processed_summary = preprocess_sentence(summary, remove_stopwords=False)  # 불용어 제거 X\n",
    "    clean_summary.append(processed_summary)  # 리스트에 저장 \n",
    "\n",
    "print(\"Summary 전처리 후 결과: \", clean_summary[:5])"
   ]
  },
  {
   "cell_type": "code",
   "execution_count": 16,
   "id": "b25aaa5c",
   "metadata": {},
   "outputs": [],
   "source": [
    "data['Text'] = clean_text\n",
    "data['Summary'] = clean_summary\n",
    "\n",
    "# 빈 값을 Null 값으로 변환\n",
    "data.replace('', np.nan, inplace=True)"
   ]
  },
  {
   "cell_type": "code",
   "execution_count": 17,
   "id": "a015f363",
   "metadata": {},
   "outputs": [
    {
     "data": {
      "text/plain": [
       "headlines    0\n",
       "text         0\n",
       "Text         0\n",
       "Summary      0\n",
       "dtype: int64"
      ]
     },
     "execution_count": 17,
     "metadata": {},
     "output_type": "execute_result"
    }
   ],
   "source": [
    "data.isnull().sum()"
   ]
  },
  {
   "cell_type": "code",
   "execution_count": 18,
   "id": "bdcc6e1a",
   "metadata": {},
   "outputs": [
    {
     "name": "stdout",
     "output_type": "stream",
     "text": [
      "전체 샘플수 : 98360\n"
     ]
    }
   ],
   "source": [
    "data.dropna(axis=0, inplace=True)\n",
    "print('전체 샘플수 :', (len(data)))"
   ]
  },
  {
   "cell_type": "code",
   "execution_count": 19,
   "id": "3269e305",
   "metadata": {},
   "outputs": [
    {
     "name": "stdout",
     "output_type": "stream",
     "text": [
      "텍스트의 최소 길이 : 1\n",
      "텍스트의 최대 길이 : 60\n",
      "텍스트의 평균 길이 : 35.09968483123221\n",
      "요약의 최소 길이 : 1\n",
      "요약의 최대 길이 : 16\n",
      "요약의 평균 길이 : 9.299532330215534\n"
     ]
    },
    {
     "data": {
      "image/png": "[encoded data removed]",
      "text/plain": [
       "<Figure size 432x288 with 2 Axes>"
      ]
     },
     "metadata": {
      "needs_background": "light"
     },
     "output_type": "display_data"
    },
    {
     "data": {
      "image/png": "[encoded data removed]",
      "text/plain": [
       "<Figure size 432x288 with 1 Axes>"
      ]
     },
     "metadata": {
      "needs_background": "light"
     },
     "output_type": "display_data"
    },
    {
     "data": {
      "image/png": "[encoded data removed]",
      "text/plain": [
       "<Figure size 432x288 with 1 Axes>"
      ]
     },
     "metadata": {
      "needs_background": "light"
     },
     "output_type": "display_data"
    }
   ],
   "source": [
    "# 길이 분포 출력\n",
    "import matplotlib.pyplot as plt\n",
    "\n",
    "text_len = [len(s.split()) for s in data['Text']]\n",
    "summary_len = [len(s.split()) for s in data['Summary']]\n",
    "\n",
    "print('텍스트의 최소 길이 : {}'.format(np.min(text_len)))\n",
    "print('텍스트의 최대 길이 : {}'.format(np.max(text_len)))\n",
    "print('텍스트의 평균 길이 : {}'.format(np.mean(text_len)))\n",
    "print('요약의 최소 길이 : {}'.format(np.min(summary_len)))\n",
    "print('요약의 최대 길이 : {}'.format(np.max(summary_len)))\n",
    "print('요약의 평균 길이 : {}'.format(np.mean(summary_len)))\n",
    "\n",
    "plt.subplot(1,2,1)\n",
    "plt.boxplot(text_len)\n",
    "plt.title('Text')\n",
    "plt.subplot(1,2,2)\n",
    "plt.boxplot(summary_len)\n",
    "plt.title('Summary')\n",
    "plt.tight_layout()\n",
    "plt.show()\n",
    "\n",
    "plt.title('Text')\n",
    "plt.hist(text_len, bins = 40)\n",
    "plt.xlabel('length of samples')\n",
    "plt.ylabel('number of samples')\n",
    "plt.show()\n",
    "\n",
    "plt.title('Summary')\n",
    "plt.hist(summary_len, bins = 40)\n",
    "plt.xlabel('length of samples')\n",
    "plt.ylabel('number of samples')\n",
    "plt.show()"
   ]
  },
  {
   "cell_type": "code",
   "execution_count": 20,
   "id": "a4f2cff4",
   "metadata": {},
   "outputs": [],
   "source": [
    "text_max_len = 38\n",
    "summary_max_len = 10\n",
    "# 전체 샘플의 약 80% 정도만 반영하게."
   ]
  },
  {
   "cell_type": "code",
   "execution_count": 21,
   "id": "5eb9943f",
   "metadata": {},
   "outputs": [],
   "source": [
    "def below_threshold_len(max_len, nested_list):\n",
    "    cnt = 0\n",
    "    for s in nested_list:\n",
    "        if(len(s.split()) <= max_len):\n",
    "            cnt = cnt + 1\n",
    "    print('전체 샘플 중 길이가 %s 이하인 샘플의 비율: %s'%(max_len, (cnt / len(nested_list))))"
   ]
  },
  {
   "cell_type": "code",
   "execution_count": 22,
   "id": "d829a42f",
   "metadata": {},
   "outputs": [
    {
     "name": "stdout",
     "output_type": "stream",
     "text": [
      "전체 샘플 중 길이가 38 이하인 샘플의 비율: 0.8163379422529483\n",
      "전체 샘플 중 길이가 10 이하인 샘플의 비율: 0.8162972753151687\n"
     ]
    }
   ],
   "source": [
    "below_threshold_len(text_max_len, data['Text'])\n",
    "below_threshold_len(summary_max_len,  data['Summary'])"
   ]
  },
  {
   "cell_type": "code",
   "execution_count": 23,
   "id": "fadf7368",
   "metadata": {},
   "outputs": [
    {
     "name": "stdout",
     "output_type": "stream",
     "text": [
      "전체 샘플수 : 65295\n"
     ]
    }
   ],
   "source": [
    "# 길이를 초과하는 샘플 제외\n",
    "data = data[(data['Text'].apply(lambda x: len(x.split()) <= text_max_len)) & \n",
    "            (data['Summary'].apply(lambda x: len(x.split()) <= summary_max_len))]\n",
    "\n",
    "# 전체 샘플 수 출력\n",
    "print('전체 샘플수 :', len(data))"
   ]
  },
  {
   "cell_type": "code",
   "execution_count": 24,
   "id": "8498cbab",
   "metadata": {},
   "outputs": [
    {
     "data": {
      "text/html": [
       "<div>\n",
       "<style scoped>\n",
       "    .dataframe tbody tr th:only-of-type {\n",
       "        vertical-align: middle;\n",
       "    }\n",
       "\n",
       "    .dataframe tbody tr th {\n",
       "        vertical-align: top;\n",
       "    }\n",
       "\n",
       "    .dataframe thead th {\n",
       "        text-align: right;\n",
       "    }\n",
       "</style>\n",
       "<table border=\"1\" class=\"dataframe\">\n",
       "  <thead>\n",
       "    <tr style=\"text-align: right;\">\n",
       "      <th></th>\n",
       "      <th>headlines</th>\n",
       "      <th>text</th>\n",
       "      <th>Text</th>\n",
       "      <th>Summary</th>\n",
       "      <th>decoder_input</th>\n",
       "      <th>decoder_target</th>\n",
       "    </tr>\n",
       "  </thead>\n",
       "  <tbody>\n",
       "    <tr>\n",
       "      <th>2</th>\n",
       "      <td>New Zealand end Rohit Sharma-led India's 12-ma...</td>\n",
       "      <td>New Zealand defeated India by 8 wickets in the...</td>\n",
       "      <td>new zealand defeated india wickets fourth odi ...</td>\n",
       "      <td>new zealand end rohit sharma led india match w...</td>\n",
       "      <td>sostoken new zealand end rohit sharma led indi...</td>\n",
       "      <td>new zealand end rohit sharma led india match w...</td>\n",
       "    </tr>\n",
       "    <tr>\n",
       "      <th>3</th>\n",
       "      <td>Aegon life iTerm insurance plan helps customer...</td>\n",
       "      <td>With Aegon Life iTerm Insurance plan, customer...</td>\n",
       "      <td>aegon life iterm insurance plan customers enjo...</td>\n",
       "      <td>aegon life iterm insurance plan helps customer...</td>\n",
       "      <td>sostoken aegon life iterm insurance plan helps...</td>\n",
       "      <td>aegon life iterm insurance plan helps customer...</td>\n",
       "    </tr>\n",
       "    <tr>\n",
       "      <th>5</th>\n",
       "      <td>Rahat Fateh Ali Khan denies getting notice for...</td>\n",
       "      <td>Pakistani singer Rahat Fateh Ali Khan has deni...</td>\n",
       "      <td>pakistani singer rahat fateh ali khan denied r...</td>\n",
       "      <td>rahat fateh ali khan denies getting notice for...</td>\n",
       "      <td>sostoken rahat fateh ali khan denies getting n...</td>\n",
       "      <td>rahat fateh ali khan denies getting notice for...</td>\n",
       "    </tr>\n",
       "    <tr>\n",
       "      <th>9</th>\n",
       "      <td>Cong wins Ramgarh bypoll in Rajasthan, takes t...</td>\n",
       "      <td>Congress candidate Shafia Zubair won the Ramga...</td>\n",
       "      <td>congress candidate shafia zubair ramgarh assem...</td>\n",
       "      <td>cong wins ramgarh bypoll in rajasthan takes to...</td>\n",
       "      <td>sostoken cong wins ramgarh bypoll in rajasthan...</td>\n",
       "      <td>cong wins ramgarh bypoll in rajasthan takes to...</td>\n",
       "    </tr>\n",
       "    <tr>\n",
       "      <th>10</th>\n",
       "      <td>UP cousins fed human excreta for friendship wi...</td>\n",
       "      <td>Two minor cousins in Uttar Pradesh's Gorakhpur...</td>\n",
       "      <td>two minor cousins uttar pradesh gorakhpur alle...</td>\n",
       "      <td>up cousins fed human excreta for friendship wi...</td>\n",
       "      <td>sostoken up cousins fed human excreta for frie...</td>\n",
       "      <td>up cousins fed human excreta for friendship wi...</td>\n",
       "    </tr>\n",
       "  </tbody>\n",
       "</table>\n",
       "</div>"
      ],
      "text/plain": [
       "                                            headlines  \\\n",
       "2   New Zealand end Rohit Sharma-led India's 12-ma...   \n",
       "3   Aegon life iTerm insurance plan helps customer...   \n",
       "5   Rahat Fateh Ali Khan denies getting notice for...   \n",
       "9   Cong wins Ramgarh bypoll in Rajasthan, takes t...   \n",
       "10  UP cousins fed human excreta for friendship wi...   \n",
       "\n",
       "                                                 text  \\\n",
       "2   New Zealand defeated India by 8 wickets in the...   \n",
       "3   With Aegon Life iTerm Insurance plan, customer...   \n",
       "5   Pakistani singer Rahat Fateh Ali Khan has deni...   \n",
       "9   Congress candidate Shafia Zubair won the Ramga...   \n",
       "10  Two minor cousins in Uttar Pradesh's Gorakhpur...   \n",
       "\n",
       "                                                 Text  \\\n",
       "2   new zealand defeated india wickets fourth odi ...   \n",
       "3   aegon life iterm insurance plan customers enjo...   \n",
       "5   pakistani singer rahat fateh ali khan denied r...   \n",
       "9   congress candidate shafia zubair ramgarh assem...   \n",
       "10  two minor cousins uttar pradesh gorakhpur alle...   \n",
       "\n",
       "                                              Summary  \\\n",
       "2   new zealand end rohit sharma led india match w...   \n",
       "3   aegon life iterm insurance plan helps customer...   \n",
       "5   rahat fateh ali khan denies getting notice for...   \n",
       "9   cong wins ramgarh bypoll in rajasthan takes to...   \n",
       "10  up cousins fed human excreta for friendship wi...   \n",
       "\n",
       "                                        decoder_input  \\\n",
       "2   sostoken new zealand end rohit sharma led indi...   \n",
       "3   sostoken aegon life iterm insurance plan helps...   \n",
       "5   sostoken rahat fateh ali khan denies getting n...   \n",
       "9   sostoken cong wins ramgarh bypoll in rajasthan...   \n",
       "10  sostoken up cousins fed human excreta for frie...   \n",
       "\n",
       "                                       decoder_target  \n",
       "2   new zealand end rohit sharma led india match w...  \n",
       "3   aegon life iterm insurance plan helps customer...  \n",
       "5   rahat fateh ali khan denies getting notice for...  \n",
       "9   cong wins ramgarh bypoll in rajasthan takes to...  \n",
       "10  up cousins fed human excreta for friendship wi...  "
      ]
     },
     "execution_count": 24,
     "metadata": {},
     "output_type": "execute_result"
    }
   ],
   "source": [
    "# 요약 데이터에는 시작 토큰과 종료 토큰을 추가한다.\n",
    "data['decoder_input'] = data['Summary'].apply(lambda x : 'sostoken '+ x)\n",
    "data['decoder_target'] = data['Summary'].apply(lambda x : x + ' eostoken')\n",
    "data.head()"
   ]
  },
  {
   "cell_type": "code",
   "execution_count": 25,
   "id": "17098726",
   "metadata": {},
   "outputs": [],
   "source": [
    "encoder_input = np.array(data['Text']) # 인코더의 입력\n",
    "decoder_input = np.array(data['decoder_input']) # 디코더의 입력\n",
    "decoder_target = np.array(data['decoder_target']) # 디코더의 레이블"
   ]
  },
  {
   "cell_type": "code",
   "execution_count": 26,
   "id": "ac7e86fd",
   "metadata": {},
   "outputs": [
    {
     "name": "stdout",
     "output_type": "stream",
     "text": [
      "[31362 43456 26484 ... 52738 16613 32035]\n"
     ]
    }
   ],
   "source": [
    "indices = np.arange(encoder_input.shape[0])\n",
    "np.random.shuffle(indices)\n",
    "print(indices)"
   ]
  },
  {
   "cell_type": "code",
   "execution_count": 27,
   "id": "d2e0f846",
   "metadata": {},
   "outputs": [],
   "source": [
    "encoder_input = encoder_input[indices]\n",
    "decoder_input = decoder_input[indices]\n",
    "decoder_target = decoder_target[indices]"
   ]
  },
  {
   "cell_type": "markdown",
   "id": "01da7b9e",
   "metadata": {},
   "source": [
    "### 데이터셋 분리"
   ]
  },
  {
   "cell_type": "code",
   "execution_count": 28,
   "id": "6a3ff431",
   "metadata": {},
   "outputs": [
    {
     "name": "stdout",
     "output_type": "stream",
     "text": [
      "테스트 데이터의 수 : 13059\n"
     ]
    }
   ],
   "source": [
    "n_of_val = int(len(encoder_input)*0.2)\n",
    "print('테스트 데이터의 수 :', n_of_val)"
   ]
  },
  {
   "cell_type": "code",
   "execution_count": 29,
   "id": "0cd07b85",
   "metadata": {},
   "outputs": [
    {
     "name": "stdout",
     "output_type": "stream",
     "text": [
      "훈련 데이터의 개수 : 52236\n",
      "훈련 레이블의 개수 : 52236\n",
      "테스트 데이터의 개수 : 13059\n",
      "테스트 레이블의 개수 : 13059\n"
     ]
    }
   ],
   "source": [
    "encoder_input_train = encoder_input[:-n_of_val]\n",
    "decoder_input_train = decoder_input[:-n_of_val]\n",
    "decoder_target_train = decoder_target[:-n_of_val]\n",
    "\n",
    "encoder_input_test = encoder_input[-n_of_val:]\n",
    "decoder_input_test = decoder_input[-n_of_val:]\n",
    "decoder_target_test = decoder_target[-n_of_val:]\n",
    "\n",
    "print('훈련 데이터의 개수 :', len(encoder_input_train))\n",
    "print('훈련 레이블의 개수 :', len(decoder_input_train))\n",
    "print('테스트 데이터의 개수 :', len(encoder_input_test))\n",
    "print('테스트 레이블의 개수 :', len(decoder_input_test))"
   ]
  },
  {
   "cell_type": "code",
   "execution_count": 30,
   "id": "f02a1ab6",
   "metadata": {},
   "outputs": [],
   "source": [
    "src_tokenizer = Tokenizer() # 토크나이저 정의\n",
    "src_tokenizer.fit_on_texts(encoder_input_train) # 입력된 데이터로부터 단어 집합 생성"
   ]
  },
  {
   "cell_type": "code",
   "execution_count": 31,
   "id": "d84fee8f",
   "metadata": {},
   "outputs": [
    {
     "name": "stdout",
     "output_type": "stream",
     "text": [
      "단어 집합(vocabulary)의 크기 : 57334\n",
      "등장 빈도가 9번 이하인 희귀 단어의 수: 42657\n",
      "단어 집합에서 희귀 단어를 제외시킬 경우의 단어 집합의 크기 14677\n",
      "단어 집합에서 희귀 단어의 비율: 74.40087905954582\n",
      "전체 등장 빈도에서 희귀 단어 등장 빈도 비율: 5.9622929829917215\n"
     ]
    }
   ],
   "source": [
    "threshold = 10\n",
    "total_cnt = len(src_tokenizer.word_index) # 단어의 수\n",
    "rare_cnt = 0 # 등장 빈도수가 threshold보다 작은 단어의 개수를 카운트\n",
    "total_freq = 0 # 훈련 데이터의 전체 단어 빈도수 총 합\n",
    "rare_freq = 0 # 등장 빈도수가 threshold보다 작은 단어의 등장 빈도수의 총 합\n",
    "\n",
    "# 단어와 빈도수의 쌍(pair)을 key와 value로 받는다.\n",
    "for key, value in src_tokenizer.word_counts.items():\n",
    "    total_freq = total_freq + value\n",
    "\n",
    "    # 단어의 등장 빈도수가 threshold보다 작으면\n",
    "    if(value < threshold):\n",
    "        rare_cnt = rare_cnt + 1\n",
    "        rare_freq = rare_freq + value\n",
    "\n",
    "print('단어 집합(vocabulary)의 크기 :', total_cnt)\n",
    "print('등장 빈도가 %s번 이하인 희귀 단어의 수: %s'%(threshold - 1, rare_cnt))\n",
    "print('단어 집합에서 희귀 단어를 제외시킬 경우의 단어 집합의 크기 %s'%(total_cnt - rare_cnt))\n",
    "print(\"단어 집합에서 희귀 단어의 비율:\", (rare_cnt / total_cnt)*100)\n",
    "print(\"전체 등장 빈도에서 희귀 단어 등장 빈도 비율:\", (rare_freq / total_freq)*100)"
   ]
  },
  {
   "cell_type": "code",
   "execution_count": 32,
   "id": "70949a1a",
   "metadata": {},
   "outputs": [],
   "source": [
    "src_vocab = 11000\n",
    "src_tokenizer = Tokenizer(num_words=src_vocab) # 단어 집합의 크기를 11,000으로 제한\n",
    "src_tokenizer.fit_on_texts(encoder_input_train) # 단어 집합 재생성"
   ]
  },
  {
   "cell_type": "code",
   "execution_count": 33,
   "id": "edefec42",
   "metadata": {},
   "outputs": [
    {
     "name": "stdout",
     "output_type": "stream",
     "text": [
      "[[209, 692, 263, 120, 11, 797, 181, 2151, 502, 5, 101, 1232, 15, 2955, 3664, 1, 1975, 11, 1190, 101, 3664, 3, 692, 1191, 265, 4, 823, 614, 5489, 307, 692, 1109, 265, 4], [2296, 3155, 1, 457, 254, 8888, 149, 113, 45, 461, 1088, 1871, 458, 245, 458, 44, 1, 991, 8, 3441, 428, 236, 1324], [2297, 697, 462, 5324, 416, 52, 168, 15, 60, 63, 1, 2030, 208, 5490, 749, 52, 282, 5324, 627, 8665, 363, 15, 3, 33, 60, 1, 1976, 1431, 980, 1224, 1083]]\n"
     ]
    }
   ],
   "source": [
    "# 텍스트 시퀀스를 정수 시퀀스로 변환\n",
    "encoder_input_train = src_tokenizer.texts_to_sequences(encoder_input_train) \n",
    "encoder_input_test = src_tokenizer.texts_to_sequences(encoder_input_test)\n",
    "\n",
    "# 잘 진행되었는지 샘플 출력\n",
    "print(encoder_input_train[:3])"
   ]
  },
  {
   "cell_type": "code",
   "execution_count": 34,
   "id": "dd1ce73c",
   "metadata": {},
   "outputs": [],
   "source": [
    "tar_tokenizer = Tokenizer()\n",
    "tar_tokenizer.fit_on_texts(decoder_input_train)"
   ]
  },
  {
   "cell_type": "code",
   "execution_count": 35,
   "id": "9ac90a62",
   "metadata": {},
   "outputs": [
    {
     "name": "stdout",
     "output_type": "stream",
     "text": [
      "단어 집합(vocabulary)의 크기 : 25913\n",
      "등장 빈도가 5번 이하인 희귀 단어의 수: 17493\n",
      "단어 집합에서 희귀 단어를 제외시킬 경우의 단어 집합의 크기 8420\n",
      "단어 집합에서 희귀 단어의 비율: 67.50665689036391\n",
      "전체 등장 빈도에서 희귀 단어 등장 빈도 비율: 6.504405638281703\n"
     ]
    }
   ],
   "source": [
    "threshold = 6\n",
    "total_cnt = len(tar_tokenizer.word_index) # 단어의 수\n",
    "rare_cnt = 0 # 등장 빈도수가 threshold보다 작은 단어의 개수를 카운트\n",
    "total_freq = 0 # 훈련 데이터의 전체 단어 빈도수 총 합\n",
    "rare_freq = 0 # 등장 빈도수가 threshold보다 작은 단어의 등장 빈도수의 총 합\n",
    "\n",
    "# 단어와 빈도수의 쌍(pair)을 key와 value로 받는다.\n",
    "for key, value in tar_tokenizer.word_counts.items():\n",
    "    total_freq = total_freq + value\n",
    "\n",
    "    # 단어의 등장 빈도수가 threshold보다 작으면\n",
    "    if(value < threshold):\n",
    "        rare_cnt = rare_cnt + 1\n",
    "        rare_freq = rare_freq + value\n",
    "\n",
    "print('단어 집합(vocabulary)의 크기 :', total_cnt)\n",
    "print('등장 빈도가 %s번 이하인 희귀 단어의 수: %s'%(threshold - 1, rare_cnt))\n",
    "print('단어 집합에서 희귀 단어를 제외시킬 경우의 단어 집합의 크기 %s'%(total_cnt - rare_cnt))\n",
    "print(\"단어 집합에서 희귀 단어의 비율:\", (rare_cnt / total_cnt)*100)\n",
    "print(\"전체 등장 빈도에서 희귀 단어 등장 빈도 비율:\", (rare_freq / total_freq)*100)"
   ]
  },
  {
   "cell_type": "code",
   "execution_count": 39,
   "id": "3189d362",
   "metadata": {},
   "outputs": [
    {
     "name": "stdout",
     "output_type": "stream",
     "text": [
      "input\n",
      "input  [[1, 376, 534, 239, 39, 2745, 36, 54, 2266], [1, 147, 867, 45, 1085, 498, 4957, 1050], [1, 9, 2746, 162, 28, 325, 377, 4713, 37, 59], [1, 2267, 245, 2084, 3747, 229, 1194, 4478], [1, 1778, 2441, 89, 127, 1473, 706, 640, 7, 129]]\n",
      "target\n",
      "decoder  [[376, 534, 239, 39, 2745, 36, 54, 2266, 2], [147, 867, 45, 1085, 498, 4957, 1050, 2], [9, 2746, 162, 28, 325, 377, 4713, 37, 59, 2], [2267, 245, 2084, 3747, 229, 1194, 4478, 2], [1778, 2441, 89, 127, 1473, 706, 640, 7, 129, 2]]\n"
     ]
    }
   ],
   "source": [
    "tar_vocab = 5000\n",
    "tar_tokenizer = Tokenizer(num_words=tar_vocab) \n",
    "tar_tokenizer.fit_on_texts(decoder_input_train)\n",
    "tar_tokenizer.fit_on_texts(decoder_target_train)\n",
    "\n",
    "# 텍스트 시퀀스를 정수 시퀀스로 변환\n",
    "decoder_input_train = tar_tokenizer.texts_to_sequences(decoder_input_train) \n",
    "decoder_target_train = tar_tokenizer.texts_to_sequences(decoder_target_train)\n",
    "decoder_input_test = tar_tokenizer.texts_to_sequences(decoder_input_test)\n",
    "decoder_target_test = tar_tokenizer.texts_to_sequences(decoder_target_test)\n",
    "\n",
    "# 잘 변환되었는지 확인\n",
    "print('input')\n",
    "print('input ',decoder_input_train[:5])\n",
    "print('target')\n",
    "print('decoder ',decoder_target_train[:5])"
   ]
  },
  {
   "cell_type": "code",
   "execution_count": 40,
   "id": "a63dfa81",
   "metadata": {},
   "outputs": [
    {
     "name": "stdout",
     "output_type": "stream",
     "text": [
      "삭제할 훈련 데이터의 개수 : 1\n",
      "삭제할 테스트 데이터의 개수 : 0\n",
      "훈련 데이터의 개수 : 52235\n",
      "훈련 레이블의 개수 : 52235\n",
      "테스트 데이터의 개수 : 13059\n",
      "테스트 레이블의 개수 : 13059\n"
     ]
    }
   ],
   "source": [
    "drop_train = [index for index, sentence in enumerate(decoder_input_train) if len(sentence) == 1]\n",
    "drop_test = [index for index, sentence in enumerate(decoder_input_test) if len(sentence) == 1]\n",
    "\n",
    "print('삭제할 훈련 데이터의 개수 :', len(drop_train))\n",
    "print('삭제할 테스트 데이터의 개수 :', len(drop_test))\n",
    "\n",
    "encoder_input_train = [sentence for index, sentence in enumerate(encoder_input_train) if index not in drop_train]\n",
    "decoder_input_train = [sentence for index, sentence in enumerate(decoder_input_train) if index not in drop_train]\n",
    "decoder_target_train = [sentence for index, sentence in enumerate(decoder_target_train) if index not in drop_train]\n",
    "\n",
    "encoder_input_test = [sentence for index, sentence in enumerate(encoder_input_test) if index not in drop_test]\n",
    "decoder_input_test = [sentence for index, sentence in enumerate(decoder_input_test) if index not in drop_test]\n",
    "decoder_target_test = [sentence for index, sentence in enumerate(decoder_target_test) if index not in drop_test]\n",
    "\n",
    "print('훈련 데이터의 개수 :', len(encoder_input_train))\n",
    "print('훈련 레이블의 개수 :', len(decoder_input_train))\n",
    "print('테스트 데이터의 개수 :', len(encoder_input_test))\n",
    "print('테스트 레이블의 개수 :', len(decoder_input_test))"
   ]
  },
  {
   "cell_type": "code",
   "execution_count": 42,
   "id": "fc1dd8e1",
   "metadata": {},
   "outputs": [],
   "source": [
    "# padding에서 pre를 활용.\n",
    "encoder_input_train = pad_sequences(encoder_input_train, maxlen=text_max_len, padding='pre')\n",
    "encoder_input_test = pad_sequences(encoder_input_test, maxlen=text_max_len, padding='pre')\n",
    "decoder_input_train = pad_sequences(decoder_input_train, maxlen=summary_max_len, padding='pre')\n",
    "decoder_target_train = pad_sequences(decoder_target_train, maxlen=summary_max_len, padding='pre')\n",
    "decoder_input_test = pad_sequences(decoder_input_test, maxlen=summary_max_len, padding='pre')\n",
    "decoder_target_test = pad_sequences(decoder_target_test, maxlen=summary_max_len, padding='pre')"
   ]
  },
  {
   "cell_type": "markdown",
   "id": "4163cda8",
   "metadata": {},
   "source": [
    "### 인코더 과정"
   ]
  },
  {
   "cell_type": "code",
   "execution_count": 43,
   "id": "8197c1b9",
   "metadata": {},
   "outputs": [],
   "source": [
    "from tensorflow.keras.layers import Input, LSTM, Embedding, Dense, Concatenate, TimeDistributed\n",
    "from tensorflow.keras.models import Model\n",
    "from tensorflow.keras.callbacks import EarlyStopping, ModelCheckpoint\n",
    "\n",
    "\n",
    "# 인코더 설계 시작\n",
    "embedding_dim = 128\n",
    "hidden_size = 256\n",
    "\n",
    "# 인코더\n",
    "encoder_inputs = Input(shape=(text_max_len,))\n",
    "\n",
    "# 인코더의 임베딩 층\n",
    "enc_emb = Embedding(src_vocab, embedding_dim)(encoder_inputs)\n",
    "\n",
    "# 인코더의 LSTM 1\n",
    "# encoder_lstm1 = LSTM(hidden_size, return_sequences=True, return_state=True ,dropout = 0.4, recurrent_dropout = 0.4)\n",
    "encoder_lstm1 = LSTM(hidden_size, return_sequences=True, return_state=True ,dropout = 0.4)\n",
    "encoder_output1, state_h1, state_c1 = encoder_lstm1(enc_emb)\n",
    "\n",
    "# 인코더의 LSTM 2\n",
    "encoder_lstm2 = LSTM(hidden_size, return_sequences=True, return_state=True ,dropout = 0.4)\n",
    "encoder_output2, state_h2, state_c2 = encoder_lstm2(enc_emb)\n",
    "\n",
    "# 인코더의 LSTM 3\n",
    "encoder_lstm3 = LSTM(hidden_size, return_sequences=True, return_state=True ,dropout = 0.4)\n",
    "encoder_outputs, state_h3, state_c3 = encoder_lstm3(enc_emb)"
   ]
  },
  {
   "cell_type": "markdown",
   "id": "0092844b",
   "metadata": {},
   "source": [
    "- 인코더에 lstm 모델을 3가지 써야 되는가..\n",
    "\n",
    "+ 주말에 lstm말고 다른 모델도 적용해보자!\n"
   ]
  },
  {
   "cell_type": "code",
   "execution_count": 44,
   "id": "3ea1d38d",
   "metadata": {},
   "outputs": [],
   "source": [
    "# 디코더 설계\n",
    "decoder_inputs = Input(shape=(None,))\n",
    "\n",
    "# 디코더의 임베딩 층\n",
    "dec_emb_layer = Embedding(tar_vocab, embedding_dim)\n",
    "dec_emb = dec_emb_layer(decoder_inputs)\n",
    "\n",
    "# 디코더의 LSTM\n",
    "# decoder_lstm = LSTM(hidden_size, return_sequences=True, return_state=True, dropout=0.4, recurrent_dropout=0.2)\n",
    "decoder_lstm = LSTM(hidden_size, return_sequences=True, return_state=True, dropout=0.4)\n",
    "decoder_outputs, _, _ = decoder_lstm(dec_emb, initial_state=[state_h3, state_c3]) # lstm3의 상태를 사용."
   ]
  },
  {
   "cell_type": "code",
   "execution_count": 45,
   "id": "f9d13105",
   "metadata": {},
   "outputs": [
    {
     "name": "stdout",
     "output_type": "stream",
     "text": [
      "Model: \"model\"\n",
      "__________________________________________________________________________________________________\n",
      "Layer (type)                    Output Shape         Param #     Connected to                     \n",
      "==================================================================================================\n",
      "input_1 (InputLayer)            [(None, 38)]         0                                            \n",
      "__________________________________________________________________________________________________\n",
      "input_2 (InputLayer)            [(None, None)]       0                                            \n",
      "__________________________________________________________________________________________________\n",
      "embedding (Embedding)           (None, 38, 128)      1408000     input_1[0][0]                    \n",
      "__________________________________________________________________________________________________\n",
      "embedding_1 (Embedding)         (None, None, 128)    640000      input_2[0][0]                    \n",
      "__________________________________________________________________________________________________\n",
      "lstm_2 (LSTM)                   [(None, 38, 256), (N 394240      embedding[0][0]                  \n",
      "__________________________________________________________________________________________________\n",
      "lstm_3 (LSTM)                   [(None, None, 256),  394240      embedding_1[0][0]                \n",
      "                                                                 lstm_2[0][1]                     \n",
      "                                                                 lstm_2[0][2]                     \n",
      "__________________________________________________________________________________________________\n",
      "dense (Dense)                   (None, None, 5000)   1285000     lstm_3[0][0]                     \n",
      "==================================================================================================\n",
      "Total params: 4,121,480\n",
      "Trainable params: 4,121,480\n",
      "Non-trainable params: 0\n",
      "__________________________________________________________________________________________________\n"
     ]
    }
   ],
   "source": [
    "# 디코더의 출력층\n",
    "decoder_softmax_layer = Dense(tar_vocab, activation='softmax')\n",
    "decoder_softmax_outputs = decoder_softmax_layer(decoder_outputs) \n",
    "\n",
    "# 모델 정의\n",
    "model = Model([encoder_inputs, decoder_inputs], decoder_softmax_outputs)\n",
    "model.summary()"
   ]
  },
  {
   "cell_type": "markdown",
   "id": "2756c16b",
   "metadata": {},
   "source": [
    "---\n",
    "## 3. 어텐션 메커니즘 사용하기 (추상적 요약)"
   ]
  },
  {
   "cell_type": "code",
   "execution_count": 46,
   "id": "2691ff88",
   "metadata": {},
   "outputs": [
    {
     "name": "stdout",
     "output_type": "stream",
     "text": [
      "Model: \"model_1\"\n",
      "__________________________________________________________________________________________________\n",
      "Layer (type)                    Output Shape         Param #     Connected to                     \n",
      "==================================================================================================\n",
      "input_1 (InputLayer)            [(None, 38)]         0                                            \n",
      "__________________________________________________________________________________________________\n",
      "input_2 (InputLayer)            [(None, None)]       0                                            \n",
      "__________________________________________________________________________________________________\n",
      "embedding (Embedding)           (None, 38, 128)      1408000     input_1[0][0]                    \n",
      "__________________________________________________________________________________________________\n",
      "embedding_1 (Embedding)         (None, None, 128)    640000      input_2[0][0]                    \n",
      "__________________________________________________________________________________________________\n",
      "lstm_2 (LSTM)                   [(None, 38, 256), (N 394240      embedding[0][0]                  \n",
      "__________________________________________________________________________________________________\n",
      "lstm_3 (LSTM)                   [(None, None, 256),  394240      embedding_1[0][0]                \n",
      "                                                                 lstm_2[0][1]                     \n",
      "                                                                 lstm_2[0][2]                     \n",
      "__________________________________________________________________________________________________\n",
      "attention_layer (AdditiveAttent (None, None, 256)    256         lstm_3[0][0]                     \n",
      "                                                                 lstm_2[0][0]                     \n",
      "__________________________________________________________________________________________________\n",
      "concat_layer (Concatenate)      (None, None, 512)    0           lstm_3[0][0]                     \n",
      "                                                                 attention_layer[0][0]            \n",
      "__________________________________________________________________________________________________\n",
      "dense_1 (Dense)                 (None, None, 5000)   2565000     concat_layer[0][0]               \n",
      "==================================================================================================\n",
      "Total params: 5,401,736\n",
      "Trainable params: 5,401,736\n",
      "Non-trainable params: 0\n",
      "__________________________________________________________________________________________________\n"
     ]
    }
   ],
   "source": [
    "from tensorflow.keras.layers import AdditiveAttention\n",
    "\n",
    "# 어텐션 층(어텐션 함수)\n",
    "attn_layer = AdditiveAttention(name='attention_layer')\n",
    "\n",
    "# 인코더와 디코더의 모든 time step의 hidden state를 어텐션 층에 전달하고 결과를 리턴\n",
    "attn_out = attn_layer([decoder_outputs, encoder_outputs])  \n",
    "\n",
    "# 어텐션의 결과와 디코더의 hidden state들을 연결\n",
    "decoder_concat_input = Concatenate(axis=-1, name='concat_layer')([decoder_outputs, attn_out])\n",
    "\n",
    "# 디코더의 출력층\n",
    "decoder_softmax_layer = Dense(tar_vocab, activation='softmax')\n",
    "decoder_softmax_outputs = decoder_softmax_layer(decoder_concat_input)\n",
    "\n",
    "# 모델 정의\n",
    "model = Model([encoder_inputs, decoder_inputs], decoder_softmax_outputs)\n",
    "model.summary()"
   ]
  },
  {
   "cell_type": "code",
   "execution_count": 47,
   "id": "9324d9c2",
   "metadata": {},
   "outputs": [
    {
     "name": "stdout",
     "output_type": "stream",
     "text": [
      "Epoch 1/50\n",
      "205/205 [==============================] - 14s 43ms/step - loss: 5.7409 - val_loss: 5.4623\n",
      "Epoch 2/50\n",
      "205/205 [==============================] - 8s 39ms/step - loss: 5.3461 - val_loss: 5.2468\n",
      "Epoch 3/50\n",
      "205/205 [==============================] - 8s 39ms/step - loss: 5.0671 - val_loss: 4.9048\n",
      "Epoch 4/50\n",
      "205/205 [==============================] - 8s 39ms/step - loss: 4.7495 - val_loss: 4.7174\n",
      "Epoch 5/50\n",
      "205/205 [==============================] - 8s 39ms/step - loss: 4.4874 - val_loss: 4.5068\n",
      "Epoch 6/50\n",
      "205/205 [==============================] - 8s 40ms/step - loss: 4.2681 - val_loss: 4.3517\n",
      "Epoch 7/50\n",
      "205/205 [==============================] - 8s 40ms/step - loss: 4.0884 - val_loss: 4.2293\n",
      "Epoch 8/50\n",
      "205/205 [==============================] - 8s 40ms/step - loss: 3.9384 - val_loss: 4.1458\n",
      "Epoch 9/50\n",
      "205/205 [==============================] - 8s 40ms/step - loss: 3.8040 - val_loss: 4.0730\n",
      "Epoch 10/50\n",
      "205/205 [==============================] - 8s 41ms/step - loss: 3.6849 - val_loss: 4.0004\n",
      "Epoch 11/50\n",
      "205/205 [==============================] - 8s 41ms/step - loss: 3.5751 - val_loss: 3.9664\n",
      "Epoch 12/50\n",
      "205/205 [==============================] - 8s 41ms/step - loss: 3.4760 - val_loss: 3.9079\n",
      "Epoch 13/50\n",
      "205/205 [==============================] - 8s 41ms/step - loss: 3.3824 - val_loss: 3.8768\n",
      "Epoch 14/50\n",
      "205/205 [==============================] - 9s 42ms/step - loss: 3.2952 - val_loss: 3.8448\n",
      "Epoch 15/50\n",
      "205/205 [==============================] - 9s 42ms/step - loss: 3.2139 - val_loss: 3.8347\n",
      "Epoch 16/50\n",
      "205/205 [==============================] - 9s 42ms/step - loss: 3.1365 - val_loss: 3.8194\n",
      "Epoch 17/50\n",
      "205/205 [==============================] - 9s 42ms/step - loss: 3.0635 - val_loss: 3.7830\n",
      "Epoch 18/50\n",
      "205/205 [==============================] - 9s 43ms/step - loss: 2.9951 - val_loss: 3.7571\n",
      "Epoch 19/50\n",
      "205/205 [==============================] - 9s 42ms/step - loss: 2.9271 - val_loss: 3.7696\n",
      "Epoch 20/50\n",
      "205/205 [==============================] - 9s 42ms/step - loss: 2.8632 - val_loss: 3.7417\n",
      "Epoch 21/50\n",
      "205/205 [==============================] - 9s 42ms/step - loss: 2.8021 - val_loss: 3.7459\n",
      "Epoch 22/50\n",
      "205/205 [==============================] - 9s 43ms/step - loss: 2.7442 - val_loss: 3.7361\n",
      "Epoch 23/50\n",
      "205/205 [==============================] - 9s 44ms/step - loss: 2.6873 - val_loss: 3.7402\n",
      "Epoch 24/50\n",
      "205/205 [==============================] - 9s 43ms/step - loss: 2.6351 - val_loss: 3.7230\n",
      "Epoch 25/50\n",
      "205/205 [==============================] - 9s 43ms/step - loss: 2.5837 - val_loss: 3.7311\n",
      "Epoch 26/50\n",
      "205/205 [==============================] - 9s 43ms/step - loss: 2.5336 - val_loss: 3.7243\n",
      "Epoch 00026: early stopping\n"
     ]
    }
   ],
   "source": [
    "#val_loss을 관찰하다가, 검증 데이터의 손실이 줄어들지 않고 증가하는 현상이 2회(patience=2) 관측되면 학습을 멈추도록 설정\n",
    "\n",
    "model.compile(optimizer='rmsprop', loss='sparse_categorical_crossentropy')\n",
    "es = EarlyStopping(monitor='val_loss', patience=2, verbose=1)\n",
    "history = model.fit(x=[encoder_input_train, decoder_input_train], y=decoder_target_train, \\\n",
    "          validation_data=([encoder_input_test, decoder_input_test], decoder_target_test), \\\n",
    "          batch_size=256, callbacks=[es], epochs=50)"
   ]
  },
  {
   "cell_type": "code",
   "execution_count": 48,
   "id": "ec3f317b",
   "metadata": {},
   "outputs": [
    {
     "data": {
      "image/png": "[encoded data removed]",
      "text/plain": [
       "<Figure size 432x288 with 1 Axes>"
      ]
     },
     "metadata": {
      "needs_background": "light"
     },
     "output_type": "display_data"
    }
   ],
   "source": [
    "plt.plot(history.history['loss'], label='train')\n",
    "plt.plot(history.history['val_loss'], label='test')\n",
    "plt.legend()\n",
    "plt.show()"
   ]
  },
  {
   "cell_type": "code",
   "execution_count": 49,
   "id": "c1d486fe",
   "metadata": {},
   "outputs": [],
   "source": [
    "src_index_to_word = src_tokenizer.index_word # 원문 단어 집합에서 정수 -> 단어를 얻음\n",
    "tar_word_to_index = tar_tokenizer.word_index # 요약 단어 집합에서 단어 -> 정수를 얻음\n",
    "tar_index_to_word = tar_tokenizer.index_word # 요약 단어 집합에서 정수 -> 단어를 얻음"
   ]
  },
  {
   "cell_type": "code",
   "execution_count": 50,
   "id": "72627b5d",
   "metadata": {},
   "outputs": [],
   "source": [
    "# 인코더 설계\n",
    "encoder_model = Model(inputs=encoder_inputs, outputs=[encoder_outputs, state_h3, state_c3])\n",
    "\n",
    "# 이전 시점의 상태들을 저장하는 텐서\n",
    "decoder_state_input_h = Input(shape=(hidden_size,))\n",
    "decoder_state_input_c = Input(shape=(hidden_size,))\n",
    "\n",
    "dec_emb2 = dec_emb_layer(decoder_inputs)\n",
    "\n",
    "# 문장의 다음 단어를 예측하기 위해서 초기 상태(initial_state)를 이전 시점의 상태로 사용. 이는 뒤의 함수 decode_sequence()에 구현\n",
    "# 훈련 과정에서와 달리 LSTM의 리턴하는 은닉 상태와 셀 상태인 state_h와 state_c를 버리지 않음.\n",
    "decoder_outputs2, state_h2, state_c2 = decoder_lstm(dec_emb2, initial_state=[decoder_state_input_h, decoder_state_input_c])"
   ]
  },
  {
   "cell_type": "code",
   "execution_count": 51,
   "id": "ba2f331b",
   "metadata": {},
   "outputs": [],
   "source": [
    "# 어텐션 함수\n",
    "decoder_hidden_state_input = Input(shape=(text_max_len, hidden_size))\n",
    "attn_out_inf = attn_layer([decoder_outputs2, decoder_hidden_state_input])\n",
    "decoder_inf_concat = Concatenate(axis=-1, name='concat')([decoder_outputs2, attn_out_inf])\n",
    "\n",
    "# 디코더의 출력층\n",
    "decoder_outputs2 = decoder_softmax_layer(decoder_inf_concat) \n",
    "\n",
    "# 최종 디코더 모델\n",
    "decoder_model = Model(\n",
    "    [decoder_inputs] + [decoder_hidden_state_input,decoder_state_input_h, decoder_state_input_c],\n",
    "    [decoder_outputs2] + [state_h2, state_c2])"
   ]
  },
  {
   "cell_type": "code",
   "execution_count": 52,
   "id": "6c80ded7",
   "metadata": {},
   "outputs": [],
   "source": [
    "def decode_sequence(input_seq):\n",
    "    # 입력으로부터 인코더의 상태를 얻음\n",
    "    e_out, e_h, e_c = encoder_model.predict(input_seq)\n",
    "\n",
    "     # <SOS>에 해당하는 토큰 생성\n",
    "    target_seq = np.zeros((1,1))\n",
    "    target_seq[0, 0] = tar_word_to_index['sostoken']\n",
    "\n",
    "    stop_condition = False\n",
    "    decoded_sentence = ''\n",
    "    while not stop_condition: # stop_condition이 True가 될 때까지 루프 반복\n",
    "\n",
    "        output_tokens, h, c = decoder_model.predict([target_seq] + [e_out, e_h, e_c])\n",
    "        sampled_token_index = np.argmax(output_tokens[0, -1, :])\n",
    "        sampled_token = tar_index_to_word[sampled_token_index]\n",
    "\n",
    "        if (sampled_token!='eostoken'):\n",
    "            decoded_sentence += ' '+sampled_token\n",
    "\n",
    "        #  <eos>에 도달하거나 최대 길이를 넘으면 중단.\n",
    "        if (sampled_token == 'eostoken'  or len(decoded_sentence.split()) >= (summary_max_len-1)):\n",
    "            stop_condition = True\n",
    "\n",
    "        # 길이가 1인 타겟 시퀀스를 업데이트\n",
    "        target_seq = np.zeros((1,1))\n",
    "        target_seq[0, 0] = sampled_token_index\n",
    "\n",
    "        # 상태를 업데이트 합니다.\n",
    "        e_h, e_c = h, c\n",
    "\n",
    "    return decoded_sentence"
   ]
  },
  {
   "cell_type": "code",
   "execution_count": 53,
   "id": "14d0957c",
   "metadata": {},
   "outputs": [],
   "source": [
    "# 원문의 정수 시퀀스를 텍스트 시퀀스로 변환\n",
    "def seq2text(input_seq):\n",
    "    temp=''\n",
    "    for i in input_seq:\n",
    "        if (i!=0):\n",
    "            temp = temp + src_index_to_word.get(i,'') +' '\n",
    "    return temp\n",
    "\n",
    "# 요약문의 정수 시퀀스를 텍스트 시퀀스로 변환\n",
    "def seq2summary(input_seq):\n",
    "    temp = ''\n",
    "    for i in input_seq:\n",
    "        # 패딩(0), 시작 토큰(sostoken), 종료 토큰(eostoken) 제외\n",
    "        if i != 0 and i != tar_word_to_index.get('sostoken', -1) and i != tar_word_to_index.get('eostoken', -1):\n",
    "            temp += tar_index_to_word.get(i, '') + ' '  # KeyError 방지\n",
    "    return temp.strip()"
   ]
  },
  {
   "cell_type": "markdown",
   "id": "235e4fee",
   "metadata": {},
   "source": [
    "---\n",
    "## 4. 실제 결과와 요약문 비교하기 (추상적 요약)"
   ]
  },
  {
   "cell_type": "code",
   "execution_count": 54,
   "id": "e139d304",
   "metadata": {
    "scrolled": true
   },
   "outputs": [
    {
     "name": "stdout",
     "output_type": "stream",
     "text": [
      "원문 : andhra pradesh government exploring proposal five extra marks students class participate swachh bharat initiative helping identify households without toilets andhra pradesh government build lakh toilets achieve open defecation free status march encouraging students participate \n",
      "실제 요약 : extra marks for andhra kids taking part in swachh bharat\n",
      "예측 요약 :  andhra govt announces free education for students\n",
      "\n",
      "\n",
      "원문 : criticising government violent protests padmaavat aimim president mp asaduddin owaisi wednesday said pm narendra modi inch chest muslims alleging bjp helping groups like karni sena become mainstream parties owaisi said rule law country \n",
      "실제 요약 : pm modi has for muslims not owaisi\n",
      "예측 요약 :  pm modi calls for cow on muslims owaisi\n",
      "\n",
      "\n",
      "원문 : speaking mental health depression actress katrina kaif said may times completely consumed emotions situation emotions feel response mind katrina added actress said little help people depression \n",
      "실제 요약 : at times you are by katrina on depression\n",
      "예측 요약 :  have had good for me katrina kaif\n",
      "\n",
      "\n",
      "원문 : recent bank robbery world settlement arctic circle believed first territory living memory suspect caught soon robbery took place norway suspect travelling region police said \n",
      "실제 요약 : first ever bank robbery reported in the arctic\n",
      "예측 요약 :  gold found in brazil\n",
      "\n",
      "\n",
      "원문 : rbi floated tender leasing currency verification systems help fake currency deposited demonetised notes central bank currently engaged counting old notes senior official said suspected amount currency deposited banks demonetisation could fake notes \n",
      "실제 요약 : rbi to hire to identify fake demonetised notes\n",
      "예측 요약 :  rbi to introduce for lakh notes from\n",
      "\n",
      "\n",
      "원문 : avengers infinity war become fastest film collect billion worldwide surpassing earnings milestone within days release taken film star wars force days earn billion earlier avengers infinity war also become highest opening weekend grosser time \n",
      "실제 요약 : avengers war fastest film to earn billion worldwide\n",
      "예측 요약 :  avengers war crosses crore in days of world cup\n",
      "\n",
      "\n",
      "원문 : dismissing pakistan limited overs skipper ahmed claim indian team scared playing pakistan ul haq said views think said scared directly think indian players also would like play us politics allowing bilateral series added \n",
      "실제 요약 : india team not scared of playing pakistan\n",
      "예측 요약 :  not call for india pak on jadhav\n",
      "\n",
      "\n",
      "원문 : five lakh railway employees deal passengers sporting uniforms designed october white shirts black borders proposed catering staff trains guards drivers get two types half jackets new design would tried rajdhani shatabdi trains first \n",
      "실제 요약 : railways staff to get designed from oct\n",
      "예측 요약 :  railways to give up to check trains\n",
      "\n",
      "\n",
      "원문 : temple located near place express derailed saturday evening opened survivors accident temple committee also made mobile phones available people make calls families committee president said passengers people eaten since saturday night \n",
      "실제 요약 : temple opens free for express survivors\n",
      "예측 요약 :  tamil nadu temple after being built in tn\n",
      "\n",
      "\n",
      "원문 : police sunday said year old woman allegedly death husband rajasthan district following heated argument accused death police added complaint registered family members deceased following police arrested accused \n",
      "실제 요약 : year old rajasthan woman to death by husband\n",
      "예측 요약 :  woman kills self after being her for\n",
      "\n",
      "\n",
      "원문 : us restaurant fired writing receipt asian place name cafe manager apologised saying situation leaves choice terminate employee act facebook user shared photo receipt belonging friend mother \n",
      "실제 요약 : writes on asian bill fired\n",
      "예측 요약 :  man who was fired for calling us prez\n",
      "\n",
      "\n",
      "원문 : congress president rahul gandhi condemned statements made party leader dr joshi appeared suggest know hinduism rahul said joshi comment opposite values congress regret statement joshi said anyone knows religion \n",
      "실제 요약 : opposite to congress rahul on comments\n",
      "예측 요약 :  rahul gandhi is not rahul gandhi\n",
      "\n",
      "\n",
      "원문 : north korea threatened australia able avoid disaster continue follow us imposing economic diplomatic pressure north korea added believes australia preparing war korean peninsula warned stay away remarks supporting us military option \n",
      "실제 요약 : korea threatens australia of disaster over support to us\n",
      "예측 요약 :  korea warns us against korea over korea\n",
      "\n",
      "\n",
      "원문 : speaking inauguration india th airport sikkim pm narendra modi monday said nda government built nearly nine airports year average slammed previous governments saying airports built years independence till nda built airports four years \n",
      "실제 요약 : nda built airports year pm as india gets th airport\n",
      "예측 요약 :  pm modi inaugurates air india in air india\n",
      "\n",
      "\n",
      "원문 : central board film certification chief pahlaj nihalani said film alcohol scenes essential would require adult certificate merely putting warning corner screen whenever smoking drinking shown enough added pahlaj said set example behaviour \n",
      "실제 요약 : film with alcohol scene would need certificate cbfc chief\n",
      "예측 요약 :  cbfc is not an cbfc director\n",
      "\n",
      "\n",
      "원문 : per reports cricketer ms dhoni turn producer movie based hockey player chand dhoni reportedly acquired rights film reports also suggest filmmaker karan johar might co produce film actor varun dhawan reportedly considered play chand biopic \n",
      "실제 요약 : dhoni to produce biopic starring varun reports\n",
      "예측 요약 :  dhoni to play in ipl reports\n",
      "\n",
      "\n",
      "원문 : children adds eleven years woman biological age process smoking according us based study women aged researchers studied length end section associated found smoking \n",
      "실제 요약 : giving birth women faster than smoking study\n",
      "예측 요약 :  us woman has female to be in\n",
      "\n",
      "\n",
      "원문 : uttar pradesh cm yogi adityanath decided bar jailed mlas attending state assembly sessions legislative events decision taken compliance order supreme court allahabad high court according officers must oppose mlas appeal attend assembly proceedings \n",
      "실제 요약 : up govt bars jailed mlas from attending assembly\n",
      "예측 요약 :  haryana cm orders to give up mlas to\n",
      "\n",
      "\n",
      "원문 : technology major apple confirmed iphone pre orders start october week officially launched india latest iphone features inch edge edge display facial recognition technology device iphone priced gb gb variants respectively india \n",
      "실제 요약 : apple iphone pre orders to start on october in india\n",
      "예측 요약 :  apple to launch iphone in iphone for\n",
      "\n",
      "\n",
      "원문 : andhra pradesh cm chandrababu naidu wednesday said floods river east west districts past one week caused estimated damage crore announced compensation per crops damaged floods chief minister said conducting aerial survey affected areas nn \n",
      "실제 요약 : crore damage due to floods in andhra districts cm\n",
      "예측 요약 :  andhra pradesh floods affected by\n",
      "\n",
      "\n",
      "원문 : ufc champion conor mcgregor girlfriend became parents welcoming first baby boy conor jack mcgregor world friday dublin conor girlfriend together almost years already set verified instagram account boy name conor mcgregor jr \n",
      "실제 요약 : mcgregor becomes dad names baby boy jack mcgregor\n",
      "예측 요약 :  hyderabad boy smashes his girlfriend on his baby\n",
      "\n",
      "\n",
      "원문 : technology major apple revealed ios developers earned billion making increase new year day also set record million purchases apple added june apple stated global developer community earned billion since app store launched \n",
      "실제 요약 : ios earned billion in apple\n",
      "예측 요약 :  apple adds billion in apple for first time\n",
      "\n",
      "\n",
      "원문 : home ministry tuesday informed lok sabha government considering proposal scrap article constitution gives special status jammu kashmir ministry replying query bjp mp kumar seeking know government committed scrapping special status \n",
      "실제 요약 : no proposal to scrap article giving special status govt\n",
      "예측 요약 :  government to be removed from parliament\n",
      "\n",
      "\n",
      "원문 : section law consensual gay sex violates fundamental right indians cannot used excuse existence petitioners told supreme court constitutional overtake perception blame society grown provision petitioners lawyer mukul said \n",
      "실제 요약 : society can be for section to sc\n",
      "예측 요약 :  what is the of the privacy privacy court\n",
      "\n",
      "\n",
      "원문 : english charles associated term survival actually coin term used phrase reference natural selection fifth edition origin species phrase however adopted used reading previous works \n",
      "실제 요약 : did not coin of the\n"
     ]
    },
    {
     "name": "stdout",
     "output_type": "stream",
     "text": [
      "예측 요약 :  of the new of\n",
      "\n",
      "\n",
      "원문 : centre declared kerala floods severe nature level disaster highest level given state may capacity respond require assistance centre mps use crore local development fund help kerala \n",
      "실제 요약 : centre declares kerala floods of severe\n",
      "예측 요약 :  kerala floods to kerala floods\n",
      "\n",
      "\n",
      "원문 : three month old baby summoned us embassy london grandfather mistakenly identified terrorist visa form baby denied visa mistake cost family extra missed flights thought taking along orange thought better grandfather said \n",
      "실제 요약 : baby wrongly identified as terrorist summoned by us embassy\n",
      "예측 요약 :  uk baby baby baby baby ceo\n",
      "\n",
      "\n",
      "원문 : islamic naik probed nia terror money laundering charges projected hero aligarh school book book contains nine renowned muslims one naik book author said written two years ago chapter removed new edition \n",
      "실제 요약 : as hero in school book in\n",
      "예측 요약 :  uk arrests israeli pm netanyahu in corruption case\n",
      "\n",
      "\n",
      "원문 : defending muslim women bill bjp leader said holy quran talaq mentioned vs issues human rights violation added constitution talks uniform civil code uniform religious code \n",
      "실제 요약 : triple talaq bill not about he vs she\n",
      "예측 요약 :  muslim women will be muslim muslim bjp\n",
      "\n",
      "\n",
      "원문 : cpi leader sitaram yechury speaking th anniversary quit india movement rajya sabha wednesday said hindu pakistan created added need eliminate neo policies said attempts made appropriate freedom struggle \n",
      "실제 요약 : warns against the of hindu pakistan\n",
      "예측 요약 :  no problem of india on national swamy\n",
      "\n",
      "\n",
      "원문 : india retail inflation rose five month high month march compared february government data released wednesday stated rise due protein items edible non food products like fuel light food inflation february \n",
      "실제 요약 : retail inflation hits month high of in march\n",
      "예측 요약 :  india retail inflation hits month high of in\n",
      "\n",
      "\n",
      "원문 : haryana real estate regulatory authority reportedly fined real estate firm lakh one ongoing projects firm failed register project square within three months date act project launched applied registration month july deadline \n",
      "실제 요약 : haryana imposes lakh penalty on real estate firm\n",
      "예측 요약 :  delhi fined for crore to curb\n",
      "\n",
      "\n",
      "원문 : first mit researchers devised way make tumour cells vulnerable cancer treatment cells tests mice tumour cells made drugs effective tumour cells researchers also found pre drug delivery affect healthy cells \n",
      "실제 요약 : mit develops to cancer cells\n",
      "예측 요약 :  scientists develop cancer cells for cancer cells\n",
      "\n",
      "\n",
      "원문 : rbi revealed demonetised notes make back system former finance minister chidambaram wednesday used figures criticise saying shame rbi also questioned government whether demonetisation decision designed convert black money white \n",
      "실제 요약 : on rbi chidambaram on post demonetisation figures\n",
      "예측 요약 :  rbi has not rbi\n",
      "\n",
      "\n",
      "원문 : supreme court issued notice kerala cm pinarayi vijayan cbi plea challenging acquittal kerala high court corruption case case pertains alleged crore loss caused deal signed canadian entity projects vijayan tenure power minister \n",
      "실제 요약 : sc issues notice to kerala cm in corruption case\n",
      "예측 요약 :  sc refuses to probe plea against kerala rape case\n",
      "\n",
      "\n",
      "원문 : filmmaker ram gopal varma tweeted ss rajamouli director film franchise baahubali bigger like world divided ad indian cinema going ab tweeted baahubali reportedly released screens india \n",
      "실제 요약 : bigger than rgv\n",
      "예측 요약 :  baahubali director baahubali rgv\n",
      "\n",
      "\n",
      "원문 : woman arrested suspicion us state texas managed slip stole police vehicle led officers high speed chase police succeeded lost control car held custody bail set \n",
      "실제 요약 : video us woman slips out of steals police car\n",
      "예측 요약 :  russian man arrested for stealing in us\n",
      "\n",
      "\n",
      "원문 : authorities saudi arabia could seize cash assets worth least billion ongoing anti corruption probe according reports saudi recently arrested including middle east person probe reports claimed number senior officials detained probe crossed \n",
      "실제 요약 : saudi arabia could seize bn in assets in probe\n",
      "예측 요약 :  saudi arabia arrests over crore in uae\n",
      "\n",
      "\n",
      "원문 : delhi high court friday sought replies journalist arnab goswami channel republic tv asking respect shashi tharoor right silence wife sunanda pushkar death tharoor filed plea asking channel refrain wife death already filed crore defamation case goswami channel \n",
      "실제 요약 : respect tharoor right to silence hc to arnab goswami\n",
      "예측 요약 :  hc dismisses plea against republic tv show republic\n",
      "\n",
      "\n",
      "원문 : delhi high court directed university admit student suffering blood disorder mbbs course persons disabilities quota student initially registered entrance test general category requested authorities change status also participated two rounds counselling \n",
      "실제 요약 : delhi hc directs university to student\n",
      "예측 요약 :  hc dismisses plea to cbse papers\n",
      "\n",
      "\n",
      "원문 : trolling salman khan asked people twitter watch film race user tweeted even fans cannot survive forget others survive race life watch race salman tweeted user replied want survive watching worst movie survive without watching tweeted another user \n",
      "실제 요약 : cannot survive salman trolled on asking people to watch race\n",
      "예측 요약 :  salman reacts to salman khan in tubelight\n",
      "\n",
      "\n",
      "원문 : district charge karnataka fined riding motorcycle without helmet karnataka case reportedly registered minister section motor vehicles act minister contacted police paid fine photographs videos incident surfaced online \n",
      "실제 요약 : karnataka minister fined for riding without helmet in\n",
      "예측 요약 :  karnataka cm orders to pay for\n",
      "\n",
      "\n",
      "원문 : senior rss leader suresh joshi thursday said india never considered pakistan enemy pakistan always considered india enemy claimed india never considered china enemy china india enemy bangladesh resorted attack india infiltration added \n",
      "실제 요약 : india never considered pakistan china as its rss\n",
      "예측 요약 :  india has been in pak bjp chief\n",
      "\n",
      "\n",
      "원문 : anti government protests demanding resignation venezuelan president nicolas maduro completed days sunday least people killed others injured country worst anti government unrest since maduro presidency protesters blame maduro increasing inflation shortages crackdown human rights \n",
      "실제 요약 : in pictures venezuela marks days of anti govt protests\n",
      "예측 요약 :  venezuela president calls for sterlite protests\n",
      "\n",
      "\n",
      "원문 : italian club inter milan ordered play next two home games behind closed doors thursday supporters racially insulted defender wednesday serie match san mayor milan apologised describing facebook page \n",
      "실제 요약 : italian club to play in closed stadium after racist\n",
      "예측 요약 :  italian club bans from\n",
      "\n",
      "\n",
      "원문 : russia threatened retaliatory measures us saying us yet handed back two russian diplomatic seized obama administration alleged russian interference us elections great country us champions international law leave situation suspension russia said \n",
      "실제 요약 : russia threatens us over seized russian diplomatic\n",
      "예측 요약 :  russia orders russia as diplomats in russia\n",
      "\n",
      "\n",
      "원문 : jammu kashmir police busted module ammunition supply arrested two constables allegedly supplying arms hizbul mujahideen terrorists live rounds ak rifles recovered constables police investigating since connection cops terrorists place \n",
      "실제 요약 : two held for arms to hizbul terrorists\n",
      "예측 요약 :  police arrests police house in\n",
      "\n",
      "\n",
      "원문 : social media giant facebook testing new feature help users make new friends showing common feature lets users get know friends friends taking potential friends profiles account shows number mutual friends common attended events liked pages \n",
      "실제 요약 : facebook tests feature to help users make new friends\n",
      "예측 요약 :  facebook tests feature to let users share posts\n",
      "\n",
      "\n",
      "원문 : china postponed joint military talks us protest us decision sanction chinese military agency director buying russian fighter jets surface air missile system adding us right interfere china said russia deal normal act cooperation sovereign countries \n",
      "실제 요약 : china cancels military talks with us in protest at sanctions\n",
      "예측 요약 :  us military military cooperation against us over us\n",
      "\n",
      "\n",
      "원문 : un security council saturday unanimously approved day ceasefire resolution syria allow humanitarian aid deliveries medical resolution comes week long bombings killed people country eastern vote scheduled thursday got delayed due disagreements among members \n",
      "실제 요약 : day ceasefire in syria after people killed last week\n"
     ]
    },
    {
     "name": "stdout",
     "output_type": "stream",
     "text": [
      "예측 요약 :  myanmar to extend military to myanmar\n",
      "\n",
      "\n"
     ]
    }
   ],
   "source": [
    "for i in range(50, 100):\n",
    "    print(\"원문 :\", seq2text(encoder_input_test[i]))\n",
    "    print(\"실제 요약 :\", seq2summary(decoder_input_test[i]))\n",
    "    print(\"예측 요약 :\", decode_sequence(encoder_input_test[i].reshape(1, text_max_len)))\n",
    "    print(\"\\n\")"
   ]
  },
  {
   "cell_type": "code",
   "execution_count": null,
   "id": "93f91af1",
   "metadata": {},
   "outputs": [],
   "source": []
  },
  {
   "cell_type": "markdown",
   "id": "67b703f2",
   "metadata": {},
   "source": [
    "---\n",
    "## 5. Summa을 이용해서 추출적 요약해보기"
   ]
  },
  {
   "cell_type": "code",
   "execution_count": 55,
   "id": "e61ed86e",
   "metadata": {},
   "outputs": [],
   "source": [
    "from summa.summarizer import summarize"
   ]
  },
  {
   "cell_type": "code",
   "execution_count": 56,
   "id": "3a0be5f6",
   "metadata": {},
   "outputs": [
    {
     "name": "stdout",
     "output_type": "stream",
     "text": [
      "Int64Index([    2,     3,     5,     9,    10,    16,    18,    19,    20,\n",
      "               22,\n",
      "            ...\n",
      "            98389, 98390, 98391, 98392, 98393, 98394, 98396, 98397, 98398,\n",
      "            98400],\n",
      "           dtype='int64', length=65295)\n"
     ]
    }
   ],
   "source": [
    "print(data.index)"
   ]
  },
  {
   "cell_type": "code",
   "execution_count": 57,
   "id": "b022f6c9",
   "metadata": {},
   "outputs": [
    {
     "name": "stdout",
     "output_type": "stream",
     "text": [
      "new zealand defeated india wickets fourth odi hamilton thursday win first match five match odi series india lost international match rohit sharma captaincy consecutive victories dating back march match witnessed india getting seventh lowest total odi cricket history\n"
     ]
    }
   ],
   "source": [
    "# 'text' 열에서 첫 번째 기사 추출\n",
    "article = data.iloc[0]['Text']\n",
    "print(article)"
   ]
  },
  {
   "cell_type": "code",
   "execution_count": 58,
   "id": "b5e41794",
   "metadata": {},
   "outputs": [
    {
     "name": "stdout",
     "output_type": "stream",
     "text": [
      "266\n"
     ]
    }
   ],
   "source": [
    "print(len(article))  # 원문의 길이 출력"
   ]
  },
  {
   "cell_type": "code",
   "execution_count": 59,
   "id": "bfab2493",
   "metadata": {},
   "outputs": [
    {
     "name": "stdout",
     "output_type": "stream",
     "text": [
      "\n"
     ]
    }
   ],
   "source": [
    "summary = summarize(article, ratio=0.5)  # 원문의 50% 길이로 요약\n",
    "print(summary)"
   ]
  },
  {
   "cell_type": "code",
   "execution_count": 67,
   "id": "fe574255",
   "metadata": {},
   "outputs": [
    {
     "name": "stdout",
     "output_type": "stream",
     "text": [
      "Original Article 1:\n",
      " New Zealand defeated India by 8 wickets in the fourth ODI at Hamilton on Thursday to win their first match of the five-match ODI series. India lost an international match under Rohit Sharma's captaincy after 12 consecutive victories dating back to March 2018. The match witnessed India getting all out for 92, their seventh lowest total in ODI cricket history.\n",
      "Summary 1:\n",
      " The match witnessed India getting all out for 92, their seventh lowest total in ODI cricket history.\n",
      "\n",
      "================================================================================\n",
      "\n",
      "Original Article 2:\n",
      " With Aegon Life iTerm Insurance plan, customers can enjoy tax benefits on your premiums paid and save up to Ã¢ÂÂ¹46,800^ on taxes. The plan provides life cover up to the age of 100 years. Also, customers have options to insure against Critical Illnesses, Disability and Accidental Death Benefit Rider with a life cover up to the age of 80 years.\n",
      "Summary 2:\n",
      " Also, customers have options to insure against Critical Illnesses, Disability and Accidental Death Benefit Rider with a life cover up to the age of 80 years.\n",
      "\n",
      "================================================================================\n",
      "\n",
      "Original Article 3:\n",
      " Pakistani singer Rahat Fateh Ali Khan has denied receiving any notice from the Enforcement Directorate over allegedly smuggling foreign currency out of India. \"It would have been better if the authorities would have served the notice first if any and then publicised this,\" reads a press release issued on behalf of Rahat. The statement further called the allegation \"bizarre\".\n",
      "Summary 3:\n",
      " Pakistani singer Rahat Fateh Ali Khan has denied receiving any notice from the Enforcement Directorate over allegedly smuggling foreign currency out of India.\n",
      "\n",
      "================================================================================\n",
      "\n",
      "Original Article 4:\n",
      " Congress candidate Shafia Zubair won the Ramgarh Assembly seat in Rajasthan, by defeating BJP's Sukhwant Singh with a margin of 12,228 votes in the bypoll. With this victory, Congress has taken its total to 100 seats in the 200-member assembly. The election to the Ramgarh seat was delayed due to the death of sitting MLA and BSP candidate Laxman Singh.\n",
      "Summary 4:\n",
      " Congress candidate Shafia Zubair won the Ramgarh Assembly seat in Rajasthan, by defeating BJP's Sukhwant Singh with a margin of 12,228 votes in the bypoll.\n",
      "\n",
      "================================================================================\n",
      "\n",
      "Original Article 5:\n",
      " Two minor cousins in Uttar Pradesh's Gorakhpur were allegedly repeatedly burnt with tongs and forced to eat human excreta by their family for being friends with two boys from the same school. The cousins revealed their ordeal to the police and Child Welfare Committee after being brought back to Gorakhpur from Nepal, where they had fled to escape the torture.\n",
      "Summary 5:\n",
      " Two minor cousins in Uttar Pradesh's Gorakhpur were allegedly repeatedly burnt with tongs and forced to eat human excreta by their family for being friends with two boys from the same school.\n",
      "\n",
      "================================================================================\n",
      "\n"
     ]
    }
   ],
   "source": [
    "# 첫 5개의 기사에 대해 요약 수행\n",
    "for i in range(5):\n",
    "    article = data.iloc[i]['text']  # .iloc[] 사용\n",
    "    summary = summarize(article, ratio=0.50)\n",
    "    \n",
    "    print(f\"Original Article {i+1}:\\n\", article)\n",
    "    print(f\"Summary {i+1}:\\n\", summary)\n",
    "    print(\"\\n\" + \"=\"*80 + \"\\n\")"
   ]
  },
  {
   "cell_type": "code",
   "execution_count": 68,
   "id": "754a62a3",
   "metadata": {},
   "outputs": [
    {
     "name": "stdout",
     "output_type": "stream",
     "text": [
      "원문 51:\n",
      " Gmail on Tuesday faced a global outage, which also affected India, wherein certain users complained they faced a '404 error' message while trying to sign-in to their accounts. The error message read: \"The requested URL was not found on this server. That's all we know.\" Google responded saying \"problem with Gmail should be resolved (now). We apologise for the inconvenience\".\n",
      "요약문 51:\n",
      " Gmail on Tuesday faced a global outage, which also affected India, wherein certain users complained they faced a '404 error' message while trying to sign-in to their accounts.\n",
      "The error message read: \"The requested URL was not found on this server.\n",
      "\n",
      "================================================================================\n",
      "\n",
      "원문 52:\n",
      " Shiv Sena chief Uddhav Thackeray has asked the BJP to decide about the alliance with the Sena within 15 days and said the BJP should make a concrete proposal on the alliance. Thackeray added that only if the BJP agrees to Sena's terms and conditions, the party will agree for an alliance. Sena is free to fight independently, he said. \n",
      "요약문 52:\n",
      " Shiv Sena chief Uddhav Thackeray has asked the BJP to decide about the alliance with the Sena within 15 days and said the BJP should make a concrete proposal on the alliance.\n",
      "\n",
      "================================================================================\n",
      "\n",
      "원문 53:\n",
      " Prime Minister Narendra Modi on Wednesday said his government's demonetisation decision made houses affordable for the aspiring youth. He added decisions like demonetisation and RERA have put a check on black money that used to be \"parked in the real estate sector\". He said 'UDAN' (Ude Desh ka Aam Nagrik) scheme has boosted the development of the country's aviation sector.\n",
      "요약문 53:\n",
      " He added decisions like demonetisation and RERA have put a check on black money that used to be \"parked in the real estate sector\".\n",
      "\n",
      "================================================================================\n",
      "\n",
      "원문 54:\n",
      " Pakistan captain Sarfaraz Ahmed has said that former fast bowler Shoaib Akhtar was not criticising but personally attacking him over the four-match ban handed to him by the ICC over his 'Abey Kaale' remark on South Africa's Andile Phehlukwayo. Akhtar had said that Sarfaraz's comments were unacceptable and that he had gotten off easily with a four-match suspension.\n",
      "요약문 54:\n",
      " Pakistan captain Sarfaraz Ahmed has said that former fast bowler Shoaib Akhtar was not criticising but personally attacking him over the four-match ban handed to him by the ICC over his 'Abey Kaale' remark on South Africa's Andile Phehlukwayo.\n",
      "\n",
      "================================================================================\n",
      "\n",
      "원문 55:\n",
      " Apple on Tuesday said its sales in China fell 27% in the December quarter, representing nearly $5 billion of lost revenue. Apple's overall revenue fell 4.5% to $84.3 billion during the quarter while profit fell slightly to $19.97 billion. Notably, the iPhone maker reported a decline in both revenue and profits for the first time in more than 10 years.\n",
      "요약문 55:\n",
      " Apple's overall revenue fell 4.5% to $84.3 billion during the quarter while profit fell slightly to $19.97 billion.\n",
      "\n",
      "================================================================================\n",
      "\n",
      "원문 56:\n",
      " After Congress chief Rahul Gandhi claimed Goa CM Manohar Parrikar told him he had \"nothing to do with the new Rafale deal,\" BJP minister Mauvin Godinho asked Rahul \"not to politicise a courtesy visit.\" Godinho added, \"It wasn't the right thing for Rahul Gandhi to do...When you come to enquire about a person's health, it should be limited to that.\" \n",
      "요약문 56:\n",
      " \n",
      "\n",
      "================================================================================\n",
      "\n",
      "원문 57:\n",
      " All India Anna Dravida Munnetra Kazhagam (AIADMK) has told party leaders who want to contest the upcoming Lok Sabha polls to pay Ã¢ÂÂ¹25,000 while submitting their application forms. The fee is applicable for a total of 40 seats in Tamil Nadu and Puducherry. AIADMK had issued a similar notification for party ticket aspirants ahead of the 2014 Lok Sabha polls. \n",
      "요약문 57:\n",
      " All India Anna Dravida Munnetra Kazhagam (AIADMK) has told party leaders who want to contest the upcoming Lok Sabha polls to pay Ã¢ÂÂ¹25,000 while submitting their application forms.\n",
      "\n",
      "================================================================================\n",
      "\n",
      "원문 58:\n",
      " Wayanad District Congress Committee member OM George has been booked for allegedly sexually assaulting a minor tribal girl for one and a half years in Kerala. George, who is currently absconding, was suspended from the primary membership of the party. Meanwhile, the girl has been shifted to a government-run shelter home. \n",
      "요약문 58:\n",
      " Wayanad District Congress Committee member OM George has been booked for allegedly sexually assaulting a minor tribal girl for one and a half years in Kerala.\n",
      "\n",
      "================================================================================\n",
      "\n",
      "원문 59:\n",
      " The Delhi Police has registered an FIR against SpiceJet Chairman and MD Ajay Singh and seven other directors in a cheating case. A Delhi-based private consultant alleged that they used his services in the aviation sector, but did not pay his fees. \"The complainant has defrauded the company and is now filing frivolous complaints to extract money,\" SpiceJet said.\n",
      "요약문 59:\n",
      " The Delhi Police has registered an FIR against SpiceJet Chairman and MD Ajay Singh and seven other directors in a cheating case.\n",
      "\n",
      "================================================================================\n",
      "\n",
      "원문 60:\n",
      " Mahindra Group's Chairman Anand Mahindra took to Twitter to share the picture of a menu featuring a dish named 'Delicious roasted husband'. He captioned it, \"I'm certainly going to think twice about visiting this restaurant with my wife. Don't want her getting any creative ideas....!\" Reacting to his tweet, a user commented, \"Doesn't the wife roast the husband daily?\"\n",
      "요약문 60:\n",
      " Don't want her getting any creative ideas....!\" Reacting to his tweet, a user commented, \"Doesn't the wife roast the husband daily?\"\n",
      "\n",
      "================================================================================\n",
      "\n",
      "원문 61:\n",
      " Deepika Padukone has taken over as chairperson of Mumbai Academy of Moving Image (MAMI), replacing filmmaker Kiran Rao, who served as chairperson for four years. \"I believe in MAMIÃ¢ÂÂs vision and we are committed towards creating a community that cinema lovers and creators...truly deserve,Ã¢ÂÂ Deepika said. Kiran Rao reportedly stepped down as chairperson to focus on a film project.\n",
      "요약문 61:\n",
      " Deepika Padukone has taken over as chairperson of Mumbai Academy of Moving Image (MAMI), replacing filmmaker Kiran Rao, who served as chairperson for four years.\n",
      "\n",
      "================================================================================\n",
      "\n",
      "원문 62:\n",
      " A 14-year-old US boy's mother claims he found Apple's Group FaceTime call bug over a week before it went viral while setting up call to play Fortnite with his friends. Grant Thompson's mother said she tweeted about the bug on January 21 but didn't receive a response from Apple. FaceTime Group calls were disabled by Apple pending a software update.\n",
      "요약문 62:\n",
      " A 14-year-old US boy's mother claims he found Apple's Group FaceTime call bug over a week before it went viral while setting up call to play Fortnite with his friends.\n",
      "\n",
      "================================================================================\n",
      "\n",
      "원문 63:\n",
      " Chhattisgarh Chief Minister Bhupesh Baghel has said that Maintenance of Internal Security Act (MISA) detainees are \"not freedom fighters\" and they should not get a pension. The state government on Tuesday ordered all Commissioners and District Collectors to put on hold disbursement of pension for MISA detainees from February onwards. The government also ordered their physical verification.\n",
      "요약문 63:\n",
      " The state government on Tuesday ordered all Commissioners and District Collectors to put on hold disbursement of pension for MISA detainees from February onwards.\n",
      "\n",
      "================================================================================\n",
      "\n",
      "원문 64:\n",
      " After Congress President Rahul Gandhi claimed Goa CM Manohar Parrikar had told him he had nothing to do with the new Rafale deal, OSD (Officer on Special Duty) to Parrikar, Prasanna Karthik called Rahul \"a compulsive liar.\" Karthik accused Rahul of \"shamelessly\" lying about Parrikar after claiming he wanted to meet the CM to wish the latter a speedy recovery.\n",
      "요약문 64:\n",
      " \n",
      "\n",
      "================================================================================\n",
      "\n",
      "원문 65:\n",
      " Venezuela has barred Juan GuaidÃÂ³, who declared himself the interim President, from leaving the country and froze his bank accounts. He's prohibited from leaving for having \"caused harm to peace in the republic\", President of Venezuela's Supreme Tribunal of Justice, Maikel Moreno, said. This came after the US gave GuaidÃÂ³ the right to control Venezuela's bank accounts in the US.\n",
      "요약문 65:\n",
      " Venezuela has barred Juan GuaidÃÂ³, who declared himself the interim President, from leaving the country and froze his bank accounts.\n",
      "\n",
      "================================================================================\n",
      "\n",
      "원문 66:\n",
      " At least two people were killed and four others were injured on Wednesday after a grenade was thrown into a mosque in Zamboanga, Philippines, authorities said. An unidentified assailant reportedly threw a grenade when about 10 people were sleeping. This comes days after explosions at a Roman Catholic cathedral left 21 people dead and over 100 injured in the Philippines.\n",
      "요약문 66:\n",
      " At least two people were killed and four others were injured on Wednesday after a grenade was thrown into a mosque in Zamboanga, Philippines, authorities said.\n",
      "\n",
      "================================================================================\n",
      "\n",
      "원문 67:\n",
      " A serial killer in Canada has pleaded guilty to killing eight men, most of whom were linked to Toronto's Gay Village neighbourhood. Police had found the remains of seven men in planters at a property where 67-year-old Bruce McArthur worked as a landscaper. The cases allegedly involved sexual assault or forcible confinement and the bodies were dismembered.\n",
      "요약문 67:\n",
      " A serial killer in Canada has pleaded guilty to killing eight men, most of whom were linked to Toronto's Gay Village neighbourhood.\n",
      "\n",
      "================================================================================\n",
      "\n",
      "원문 68:\n",
      " The Supreme Court on Wednesday asked Karti Chidambaram to deposit Ã¢ÂÂ¹10 crore with the court registry as a precondition to his travelling abroad in February and March. The apex court further asked him to appear before the Enforcement Directorate in March regarding the Aircel-Maxis and INX Media cases. Karti had sought permission to travel abroad for various tennis tournaments.\n",
      "요약문 68:\n",
      " The Supreme Court on Wednesday asked Karti Chidambaram to deposit Ã¢ÂÂ¹10 crore with the court registry as a precondition to his travelling abroad in February and March.\n",
      "\n",
      "================================================================================\n",
      "\n",
      "원문 69:\n",
      " Actress Mishti, who has featured in 'Manikarnika: The Queen of Jhansi', has said she's really upset about some of her scenes being removed from the film. \"After the movie, I didn't...speak to anyone. I just walked out of the theatre,\" she added. \"[From] a selfish perspective, as an artiste I think my character has turned into a caricature,\" said Mishti.\n",
      "요약문 69:\n",
      " Actress Mishti, who has featured in 'Manikarnika: The Queen of Jhansi', has said she's really upset about some of her scenes being removed from the film.\n",
      "\"[From] a selfish perspective, as an artiste I think my character has turned into a caricature,\" said Mishti.\n",
      "\n",
      "================================================================================\n",
      "\n",
      "원문 70:\n",
      " Shraddha Kapoor has been criticised over cultural appropriation for wearing a Native American headdress in a shoot by Dabboo Ratnani. The shoot is part of Ratnani's 2019 calendar launched on Monday. Calling out Shraddha, Instagram page Diet Sabya wrote, \"The 'controversy' is part of a wider effort by Native American activists to highlight the ongoing cultural genocide against indigenous peoples.\"\n",
      "요약문 70:\n",
      " Shraddha Kapoor has been criticised over cultural appropriation for wearing a Native American headdress in a shoot by Dabboo Ratnani.\n",
      "\n",
      "================================================================================\n",
      "\n",
      "원문 71:\n",
      " After Congress President Rahul Gandhi met Goa CM Manohar Parrikar, BJP MLA Michael Lobo said, \"His simplicity, his humbleness has to be really admired by all the Indians and the Goans.\" Lobo added, \"These types of leaders are required in Goa and India.\" Rahul had said he made a personal visit to Parrikar's office to wish him a speedy recovery.\n",
      "요약문 71:\n",
      " \n",
      "\n",
      "================================================================================\n",
      "\n",
      "원문 72:\n",
      " MP CM Kamal Nath has ordered the reinstatement of a government school teacher suspended for an objectionable online post on Congress President Rahul Gandhi. Stating the suspension was \"contrary to his (Rahul's) way of thinking\" and \"to my way of thinking as well,\" Nath advised the teacher to read about the sacrifice of the Gandhi family to \"dispel any prejudice\".\n",
      "요약문 72:\n",
      " MP CM Kamal Nath has ordered the reinstatement of a government school teacher suspended for an objectionable online post on Congress President Rahul Gandhi.\n",
      "\n",
      "================================================================================\n",
      "\n",
      "원문 73:\n",
      " Three women were arrested on Tuesday in connection with the poisoning of prasad at a temple in Chikkaballapur district, Karnataka. Two women had died while several other people were hospitalised with complaints of vomiting and loose motions. The police had earlier said the temple management was not responsible as the women had brought the prasad themselves and were distributing it. \n",
      "요약문 73:\n",
      " Three women were arrested on Tuesday in connection with the poisoning of prasad at a temple in Chikkaballapur district, Karnataka.\n",
      "\n",
      "================================================================================\n",
      "\n",
      "원문 74:\n",
      " Padma Vibhushan awardee and retired non-executive chairman of L&T Group, Anil Manibhai Naik, received at least Ã¢ÂÂ¹19 crore after encashing his accumulated leaves of over 50 years. The company also revealed Naik got Ã¢ÂÂ¹55.038 crore as gratuity and Ã¢ÂÂ¹1.50 crore as pension that is a part of his retirement benefit. Naik had joined L&T in 1965 as a junior engineer.\n",
      "요약문 74:\n",
      " Padma Vibhushan awardee and retired non-executive chairman of L&T Group, Anil Manibhai Naik, received at least Ã¢ÂÂ¹19 crore after encashing his accumulated leaves of over 50 years.\n",
      "\n",
      "================================================================================\n",
      "\n",
      "원문 75:\n",
      " A two-year-old toddler was allegedly kidnapped by a woman while playing outside his house with his 11-year-old sister in Gurugram on Tuesday morning. The woman took the toddler to her home after lying to his sister that someone was calling her inside the house. Meanwhile, the police rescued the toddler within five hours and arrested the woman. \n",
      "요약문 75:\n",
      " The woman took the toddler to her home after lying to his sister that someone was calling her inside the house.\n",
      "\n",
      "================================================================================\n",
      "\n",
      "원문 76:\n",
      " A 53-year-old priest in Namakkal Anjaneyar temple in Tamil Nadu died after he slipped and fell down from an 11-foot-high platform after garlanding 18-foot-high Lord Anjaneyar statue, officials said. The priest was critically injured and was hospitalised on Sunday but he succumbed to his injuries on Tuesday. An official claimed such an incident has not happened in the temple's history.\n",
      "요약문 76:\n",
      " A 53-year-old priest in Namakkal Anjaneyar temple in Tamil Nadu died after he slipped and fell down from an 11-foot-high platform after garlanding 18-foot-high Lord Anjaneyar statue, officials said.\n",
      "\n",
      "================================================================================\n",
      "\n",
      "원문 77:\n",
      " Singer and stage performer Shivani Bhatia died in a road accident on Tuesday morning, after her car rammed into a divider on the Yamuna Expressway. The singer was accompanied by her husband Nikhil Bhatia, who survived the accident. \"The accident occurred after Nikhil attempted to overtake a high-speed car and lost control of his vehicle,\" said police.\n",
      "요약문 77:\n",
      " The singer was accompanied by her husband Nikhil Bhatia, who survived the accident.\n",
      "\n",
      "================================================================================\n",
      "\n",
      "원문 78:\n",
      " German luxury carmaker Porsche has revealed its all-electric Taycan will feature an 800-volt battery that has fast-charging rates of up to 350 kilowatts. Adding over 60 miles of charge in just four minutes, the Taycan will exceed Tesla's Model S which currently absorbs around 120 kilowatts. Porsche also announced three years of free charging at Electrify America charging stations.\n",
      "요약문 78:\n",
      " German luxury carmaker Porsche has revealed its all-electric Taycan will feature an 800-volt battery that has fast-charging rates of up to 350 kilowatts.\n",
      "\n",
      "================================================================================\n",
      "\n",
      "원문 79:\n",
      " NASA's Curiosity rover has shared its last selfie clicked on Mars' Vera Rubin Ridge, which was its home for over a year. A series of 57 pictures were stitched together to create the selfie. Curiosity had drilled its 19th sample at 'Rock Hall' on the ridge on December 15, 2018, which is also visible in the photo, NASA added.\n",
      "요약문 79:\n",
      " NASA's Curiosity rover has shared its last selfie clicked on Mars' Vera Rubin Ridge, which was its home for over a year.\n",
      "\n",
      "================================================================================\n",
      "\n",
      "원문 80:\n",
      " Cash-strapped carrier Jet Airways cancelled 15 flights on Wednesday after grounding six Boeing 737 planes over non-payment of lease rentals. Facing debts of about $1.14 billion, Jet Airways had cancelled around 20 flights a day ago after three Boeing 737 aircraft were grounded. Meanwhile, the airline is in talks with its partner Etihad for additional cash infusion.\n",
      "요약문 80:\n",
      " Cash-strapped carrier Jet Airways cancelled 15 flights on Wednesday after grounding six Boeing 737 planes over non-payment of lease rentals.\n",
      "\n",
      "================================================================================\n",
      "\n",
      "원문 81:\n",
      " A 25-year-old man named Saif Ali Sharafat Ali was allegedly killed by the two brothers of his girlfriend in Mumbai on Tuesday. The police said Saif was going to marry his girlfriend, whose house he was at when her brothers attacked him. The 19-year-old and 23-year-old brothers, who were opposed to their relationship, fled after the incident but were arrested. \n",
      "요약문 81:\n",
      " A 25-year-old man named Saif Ali Sharafat Ali was allegedly killed by the two brothers of his girlfriend in Mumbai on Tuesday.\n",
      "\n",
      "================================================================================\n",
      "\n",
      "원문 82:\n",
      " UK MP Fiona Onasanya has been jailed for three months after she was found guilty of lying about a speeding ticket. Onasanya was found texting and speeding in an incident last year. She'd said that one of her former tenants was driving her car when it was caught speeding, however, he was found to be in Russia at the time.\n",
      "요약문 82:\n",
      " Onasanya was found texting and speeding in an incident last year.\n",
      "\n",
      "================================================================================\n",
      "\n",
      "원문 83:\n",
      " Actress Alia Bhatt has reportedly bought a 2,300-square feet apartment for Ã¢ÂÂ¹13.11 crore on the first floor of a posh building in Mumbai's Juhu. She also received two open car parks. The 25-year-old actress had earlier reportedly purchased two properties on the second floor of the building from Anupam Kher and Kirron Kher for Ã¢ÂÂ¹5.16 crore and Ã¢ÂÂ¹3.83 crore. \n",
      "요약문 83:\n",
      " Actress Alia Bhatt has reportedly bought a 2,300-square feet apartment for Ã¢ÂÂ¹13.11 crore on the first floor of a posh building in Mumbai's Juhu.\n",
      "\n",
      "================================================================================\n",
      "\n",
      "원문 84:\n",
      " Afghanistan leg-spinner Rashid Khan has said that cricket has changed everything in Afghanistan in the last five-six years. \"(We players) just try and give 100% in each and every competition. Everywhere, we try our best to give something to the people back home...There is nothing else that can bring such a smile on their faces,\" Rashid added.\n",
      "요약문 84:\n",
      " Everywhere, we try our best to give something to the people back home...There is nothing else that can bring such a smile on their faces,\" Rashid added.\n",
      "\n",
      "================================================================================\n",
      "\n",
      "원문 85:\n",
      " Pakistan captain Sarfaraz Ahmed, who has been banned for four matches for his 'Abey Kaale' remark to South Africa's Andile Phehlukwayo, said he'll improve himself and his performance in the future. Sarfaraz was called back from South Africa by Pakistan Cricket Board after being banned by the ICC. \"I will rest and then play Pakistan Super League,\" he added.\n",
      "요약문 85:\n",
      " Sarfaraz was called back from South Africa by Pakistan Cricket Board after being banned by the ICC.\n",
      "\n",
      "================================================================================\n",
      "\n",
      "원문 86:\n",
      " A bee attack forced officials to stop play for around 15 minutes during fourth India A-England Lions one-day at Greenfield International Stadium in Thiruvananthapuram on Tuesday. A group of fans provoked the bees by throwing stones at a beehive in the stands during England Lions' 28th over. Around five spectators were injured and taken to a hospital for medical care.\n",
      "요약문 86:\n",
      " A bee attack forced officials to stop play for around 15 minutes during fourth India A-England Lions one-day at Greenfield International Stadium in Thiruvananthapuram on Tuesday.\n",
      "\n",
      "================================================================================\n",
      "\n",
      "원문 87:\n",
      " US' National Security Advisor John Bolton was photographed with a notepad that had \"5,000 troops to Colombia\" written on it, as he talked to reporters about neighbouring Venezuela. \"As the President has said, all options are on the table,\" a White House spokesperson said when asked if the US would consider taking military option amid the political crisis in Venezuela.\n",
      "요약문 87:\n",
      " US' National Security Advisor John Bolton was photographed with a notepad that had \"5,000 troops to Colombia\" written on it, as he talked to reporters about neighbouring Venezuela.\n",
      "\n",
      "================================================================================\n",
      "\n",
      "원문 88:\n",
      " Urban free climber Alain Robert, popularly known as the 'French Spiderman', has been arrested in the Philippines after climbing an over 700-foot-tall skyscraper in Manila. \"I see thousands of people inside the building. I did brighten their day,\" Robert said when asked about his climb. He holds the Guinness World Record for 'most buildings climbed', having scaled over 120 structures.\n",
      "요약문 88:\n",
      " I did brighten their day,\" Robert said when asked about his climb.\n",
      "He holds the Guinness World Record for 'most buildings climbed', having scaled over 120 structures.\n",
      "\n",
      "================================================================================\n",
      "\n",
      "원문 89:\n",
      " The National Company Law Tribunal has rejected the settlement offer made by Essar Steel's promoters, the Ruia family, to regain control of the company. Ruias made a Ã¢ÂÂ¹54,389-crore offer on the day the Committee of Creditors approved ArcelorMittal's Ã¢ÂÂ¹42,000-crore resolution plan. ArcelorMittal welcomed the ruling and said it protects the integrity of the Insolvency and Bankruptcy Code (IBC).\n",
      "요약문 89:\n",
      " Ruias made a Ã¢ÂÂ¹54,389-crore offer on the day the Committee of Creditors approved ArcelorMittal's Ã¢ÂÂ¹42,000-crore resolution plan.\n",
      "\n",
      "================================================================================\n",
      "\n",
      "원문 90:\n",
      " While speaking about the work of Urdu poet Mirza Ghalib, veteran lyricist-screenwriter Javed Akhtar said, \"[The] language and depth used in his work could have only found meaning in India.\" \"His work wouldn't have been nurtured and preserved if not for this country,\" the lyricist added. He further said that Ghalib had an \"amazing range of emotions\". \n",
      "요약문 90:\n",
      " While speaking about the work of Urdu poet Mirza Ghalib, veteran lyricist-screenwriter Javed Akhtar said, \"[The] language and depth used in his work could have only found meaning in India.\" \"His work wouldn't have been nurtured and preserved if not for this country,\" the lyricist added.\n",
      "\n",
      "================================================================================\n",
      "\n",
      "원문 91:\n",
      " Disappearing photo and video-sharing platform Snapchat is considering making its users' posts longer or even permanent, a Reuters report claimed. It is further considering revealing identities of users who make public posts, the report added. The platform is carefully weighing the privacy, technical and legal considerations of revealing user identities on public posts, it further said.\n",
      "요약문 91:\n",
      " It is further considering revealing identities of users who make public posts, the report added.\n",
      "\n",
      "================================================================================\n",
      "\n",
      "원문 92:\n",
      " Nationalist Congress Party (NCP) chief Sharad Pawar on Tuesday said there's no need to think about the prime ministerial candidate of the proposed grand alliance of opposition parties before 2019 polls. \"We (UPA) hadn't declared a candidate before...2004 election. But we managed to give...successful government for 10 years,\" he added. He further said BJP had failed to keep its promises.\n",
      "요약문 92:\n",
      " Nationalist Congress Party (NCP) chief Sharad Pawar on Tuesday said there's no need to think about the prime ministerial candidate of the proposed grand alliance of opposition parties before 2019 polls.\n",
      "He further said BJP had failed to keep its promises.\n",
      "\n",
      "================================================================================\n",
      "\n",
      "원문 93:\n",
      " Researchers have found geological evidence for a palaeo-tsunami in northern Arabian Sea, believed to have taken place in 1008 AD, in the coastlines of Kachchh. Researchers identified a 250-km-long sand sheet deposition dating back to a thousand years, which is indicator of an underwater earthquake and an ancient tsunami. The coastline has unique geomorphic features of sediments, researchers said.\n",
      "요약문 93:\n",
      " Researchers have found geological evidence for a palaeo-tsunami in northern Arabian Sea, believed to have taken place in 1008 AD, in the coastlines of Kachchh.\n",
      "\n",
      "================================================================================\n",
      "\n",
      "원문 94:\n",
      " Uttar Pradesh government has asked officials to barcode stray cows and set up temporary cow shelters at unused government buildings. The shelters can be established at cooperative institutions and at institutes of the Central government which have been lying closed, a government order read. It also suggested Radio-Frequency Identification (RFID) technology to be used to scan the barcodes. n\n",
      "요약문 94:\n",
      " Uttar Pradesh government has asked officials to barcode stray cows and set up temporary cow shelters at unused government buildings.\n",
      "\n",
      "================================================================================\n",
      "\n",
      "원문 95:\n",
      " Ahmedabad-headquartered Lambda Therapeutic Research on Tuesday announced the acquisition of US-based Novum Pharmaceutical Research Services. The Indian contract research organisation said this is its second acquisition in North America following the acquisition of the R&D facilities of Canada's Biovail in 2010. Apart from India, Lambda has operations in Canada, Poland and the UK.\n",
      "요약문 95:\n",
      " Ahmedabad-headquartered Lambda Therapeutic Research on Tuesday announced the acquisition of US-based Novum Pharmaceutical Research Services.\n",
      "\n",
      "================================================================================\n",
      "\n",
      "원문 96:\n",
      " The Income Tax Department on Tuesday said it has confiscated assets worth Ã¢ÂÂ¹6,900 crore so far under the anti-benami transactions law. Those who \"abet and induce\" benami transactions, benamidar and beneficiaries may face rigorous imprisonment up to 7 years besides being liable to pay fine, it added. The tax department started initiating action under the new law from November 2016.\n",
      "요약문 96:\n",
      " The Income Tax Department on Tuesday said it has confiscated assets worth Ã¢ÂÂ¹6,900 crore so far under the anti-benami transactions law.\n",
      "\n",
      "================================================================================\n",
      "\n",
      "원문 97:\n",
      " Bank of Baroda on Tuesday posted 321% year-on-year rise in profit at Ã¢ÂÂ¹471 crore for the quarter ended December 31, 2018. The net interest income rose 16.6% to Ã¢ÂÂ¹4,744 crore compared to Ã¢ÂÂ¹4,068 crore in the same period a year ago. The lender's asset quality eased with gross bad loans declining to 11.01% as against 11.3% in the year-ago period.\n",
      "요약문 97:\n",
      " The net interest income rose 16.6% to Ã¢ÂÂ¹4,744 crore compared to Ã¢ÂÂ¹4,068 crore in the same period a year ago.\n",
      "\n",
      "================================================================================\n",
      "\n",
      "원문 98:\n",
      " Conclusion of cases under the bankruptcy law by the NCLT within 180-270 days mandated by law can release up to Ã¢ÂÂ¹67,000 crore to lenders, rating agency ICRA said. Of the 1,484 cases that have been sent to NCLT since 2016, 898 are yet to be resolved, it added. Out of this, 31% have exceeded the 270-day timeline, it further said.\n",
      "요약문 98:\n",
      " Conclusion of cases under the bankruptcy law by the NCLT within 180-270 days mandated by law can release up to Ã¢ÂÂ¹67,000 crore to lenders, rating agency ICRA said.\n",
      "\n",
      "================================================================================\n",
      "\n",
      "원문 99:\n",
      " The Beating Retreat organised annually at Delhi's Vijay Chowk on January 29 signifies the end of the four-day-long Republic Day celebrations. The ceremony marks the event when the troops ceased fighting, sheathed their arms and returned to the camps at the sounding of the Retreat. The ceremony includes performances by the bands of the Indian military and various police contingents.\n",
      "요약문 99:\n",
      " The ceremony marks the event when the troops ceased fighting, sheathed their arms and returned to the camps at the sounding of the Retreat.\n",
      "\n",
      "================================================================================\n",
      "\n",
      "원문 100:\n",
      " Global consulting firm Accenture said it will begin selling automation software that has already eliminated about 40,000 internal roles. Accenture's SynOps system suggests ways to streamline and automate processes in areas such as finance and accounting, marketing and procurement. The company said it took five years to build the SynOps platform.\n",
      "요약문 100:\n",
      " Accenture's SynOps system suggests ways to streamline and automate processes in areas such as finance and accounting, marketing and procurement.\n",
      "\n",
      "================================================================================\n",
      "\n"
     ]
    }
   ],
   "source": [
    "# 50번째부터 100번째 기사까지 요약\n",
    "for i in range(50, 100):\n",
    "    article = data.iloc[i]['text']  # .iloc[] 사용\n",
    "    summary = summarize(article, ratio=0.5)\n",
    "    \n",
    "    print(f\"원문 {i+1}:\\n\", article)\n",
    "    print(f\"요약문 {i+1}:\\n\", summary)\n",
    "    print(\"\\n\" + \"=\"*80 + \"\\n\")"
   ]
  },
  {
   "cell_type": "markdown",
   "id": "305e4a5c",
   "metadata": {},
   "source": [
    "---\n",
    "### 추출적 요약과 추상적 요약 비교\n",
    "\n",
    "| **특징**                | **추출적 요약 (Extractive)**                         | **생성적 요약 (Abstractive)**                          |\n",
    "|-------------------------|-----------------------------------------------------|------------------------------------------------------|\n",
    "| **정보의 정확성**         | 원문에서 그대로 추출하므로 정확함                   | 원문을 재구성하므로 일부 정보가 손실 가능성        |\n",
    "| **자연스러움**            | 문장의 흐름이 부자연스럽고 직설적임                 | 문장이 자연스럽고 유연함, 없는 단어를 활용                             |\n",
    "| **문장 길이**            | 원문에서 주요 문장만 추출하므로 짧고 간결함         | 주요 내용을 압축하여 더 짧고 일관성 있는 요약이 가능  |\n",
    "| **핵심 정보 전달**        | 주요 정보만을 전달하기 때문에 핵심이 명확            | 핵심을 재구성할 때, 세부 정보가 포함되기도 하고 생략될 수도 있음 |\n",
    "  \n",
    "  \n"
   ]
  },
  {
   "cell_type": "markdown",
   "id": "6aa9e07e",
   "metadata": {},
   "source": [
    "---\n",
    "## 회고\n",
    "\n",
    "- 생각보다 왜?라는 질문을 많이 하게 되는 작업이었습니다. \n",
    "- 전처리 단계에서 생각을 많이 해야하고, 고민을 많이 했습니다.\n",
    "- 그럼에도 전처리 과정에 대한 설명을 하는 자료들이 많아서 큰 도움이 되었습니다. 조금더 시간을 들여서 읽어보고 고민해 보아야 할 것 같습니다."
   ]
  },
  {
   "cell_type": "code",
   "execution_count": null,
   "id": "54c34e50",
   "metadata": {},
   "outputs": [],
   "source": []
  }
 ],
 "metadata": {
  "kernelspec": {
   "display_name": "Python 3 (ipykernel)",
   "language": "python",
   "name": "python3"
  },
  "language_info": {
   "codemirror_mode": {
    "name": "ipython",
    "version": 3
   },
   "file_extension": ".py",
   "mimetype": "text/x-python",
   "name": "python",
   "nbconvert_exporter": "python",
   "pygments_lexer": "ipython3",
   "version": "3.9.7"
  }
 },
 "nbformat": 4,
 "nbformat_minor": 5
}
