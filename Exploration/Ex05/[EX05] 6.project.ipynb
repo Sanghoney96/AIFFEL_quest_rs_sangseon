{
 "cells": [
  {
   "attachments": {},
   "cell_type": "markdown",
   "id": "d50db5a6",
   "metadata": {},
   "source": [
    "# [Ex05] 6. 영화리뷰 텍스트 감성분석하기\n",
    "\n",
    "- [ ] 다양한 방법으로 Text Classification 태스크를 성공적으로 구현하였다. -> 모델 3가지 이상\n",
    "- [ ] gensim을 활용하여 자체학습된 혹은 사전학습된 임베딩 레이어를 분석하였다. -> 자체학습 임베딩과 사전학습 임베딩 비교분석\n",
    "- [ ] 한국어 Word2Vec을 활용하여 가시적인 성능향상을 달성했다. -> 정확도 85%이상"
   ]
  },
  {
   "cell_type": "code",
   "execution_count": 1,
   "id": "bb8474ec",
   "metadata": {},
   "outputs": [
    {
     "name": "stdout",
     "output_type": "stream",
     "text": [
      "1.3.3\n",
      "0.5.2\n",
      "4.1.2\n"
     ]
    }
   ],
   "source": [
    "import pandas\n",
    "import konlpy\n",
    "import gensim\n",
    "\n",
    "print(pandas.__version__)\n",
    "print(konlpy.__version__)\n",
    "print(gensim.__version__)"
   ]
  },
  {
   "cell_type": "code",
   "execution_count": 2,
   "id": "cffb277a",
   "metadata": {},
   "outputs": [],
   "source": [
    "import pandas as pd\n",
    "from konlpy.tag import Mecab\n",
    "import numpy as np\n",
    "import keras\n",
    "import tensorflow as tf\n",
    "from collections import Counter\n",
    "from keras.preprocessing.sequence import pad_sequences\n",
    "from tensorflow.keras.models import Sequential\n",
    "from tensorflow.keras.layers import Embedding, LSTM, Dense, Dropout, GRU\n",
    "from sklearn.model_selection import train_test_split\n",
    "from gensim.models.keyedvectors import Word2VecKeyedVectors\n",
    "from keras.models import Sequential\n",
    "from keras.layers import Embedding, LSTM, Dense, Conv1D, MaxPooling1D, GlobalMaxPooling1D"
   ]
  },
  {
   "cell_type": "markdown",
   "id": "631fdb34",
   "metadata": {},
   "source": [
    "---\n",
    "## 1) 데이터 준비와 확인"
   ]
  },
  {
   "cell_type": "code",
   "execution_count": 3,
   "id": "acba2154",
   "metadata": {},
   "outputs": [
    {
     "name": "stdout",
     "output_type": "stream",
     "text": [
      "train: (150000, 3)\n",
      "test: (50000, 3)\n"
     ]
    },
    {
     "data": {
      "text/html": [
       "<div>\n",
       "<style scoped>\n",
       "    .dataframe tbody tr th:only-of-type {\n",
       "        vertical-align: middle;\n",
       "    }\n",
       "\n",
       "    .dataframe tbody tr th {\n",
       "        vertical-align: top;\n",
       "    }\n",
       "\n",
       "    .dataframe thead th {\n",
       "        text-align: right;\n",
       "    }\n",
       "</style>\n",
       "<table border=\"1\" class=\"dataframe\">\n",
       "  <thead>\n",
       "    <tr style=\"text-align: right;\">\n",
       "      <th></th>\n",
       "      <th>id</th>\n",
       "      <th>document</th>\n",
       "      <th>label</th>\n",
       "    </tr>\n",
       "  </thead>\n",
       "  <tbody>\n",
       "    <tr>\n",
       "      <th>0</th>\n",
       "      <td>9976970</td>\n",
       "      <td>아 더빙.. 진짜 짜증나네요 목소리</td>\n",
       "      <td>0</td>\n",
       "    </tr>\n",
       "    <tr>\n",
       "      <th>1</th>\n",
       "      <td>3819312</td>\n",
       "      <td>흠...포스터보고 초딩영화줄....오버연기조차 가볍지 않구나</td>\n",
       "      <td>1</td>\n",
       "    </tr>\n",
       "    <tr>\n",
       "      <th>2</th>\n",
       "      <td>10265843</td>\n",
       "      <td>너무재밓었다그래서보는것을추천한다</td>\n",
       "      <td>0</td>\n",
       "    </tr>\n",
       "    <tr>\n",
       "      <th>3</th>\n",
       "      <td>9045019</td>\n",
       "      <td>교도소 이야기구먼 ..솔직히 재미는 없다..평점 조정</td>\n",
       "      <td>0</td>\n",
       "    </tr>\n",
       "    <tr>\n",
       "      <th>4</th>\n",
       "      <td>6483659</td>\n",
       "      <td>사이몬페그의 익살스런 연기가 돋보였던 영화!스파이더맨에서 늙어보이기만 했던 커스틴 ...</td>\n",
       "      <td>1</td>\n",
       "    </tr>\n",
       "  </tbody>\n",
       "</table>\n",
       "</div>"
      ],
      "text/plain": [
       "         id                                           document  label\n",
       "0   9976970                                아 더빙.. 진짜 짜증나네요 목소리      0\n",
       "1   3819312                  흠...포스터보고 초딩영화줄....오버연기조차 가볍지 않구나      1\n",
       "2  10265843                                  너무재밓었다그래서보는것을추천한다      0\n",
       "3   9045019                      교도소 이야기구먼 ..솔직히 재미는 없다..평점 조정      0\n",
       "4   6483659  사이몬페그의 익살스런 연기가 돋보였던 영화!스파이더맨에서 늙어보이기만 했던 커스틴 ...      1"
      ]
     },
     "execution_count": 3,
     "metadata": {},
     "output_type": "execute_result"
    }
   ],
   "source": [
    "# 데이터를 읽어봅시다. \n",
    "train_data = pd.read_table('~/aiffel/sentiment_classification/data/ratings_train.txt')\n",
    "test_data = pd.read_table('~/aiffel/sentiment_classification/data/ratings_test.txt')\n",
    "\n",
    "print(\"train:\", train_data.shape)\n",
    "print(\"test:\", test_data.shape)\n",
    "train_data.head()"
   ]
  },
  {
   "cell_type": "markdown",
   "id": "b1eb9fdc",
   "metadata": {},
   "source": [
    "---\n",
    "## 2)데이터 로더 구성\n",
    "- 데이터의 중복 제거\n",
    "- NaN 결측치 제거\n",
    "- 한국어 토크나이저로 토큰화\n",
    "- 불용어(Stopwords) 제거\n",
    "- 사전word_to_index 구성\n",
    "- 텍스트 스트링을 사전 인덱스 스트링으로 변환\n",
    "- X_train, y_train, X_test, y_test, word_to_index 리턴"
   ]
  },
  {
   "cell_type": "code",
   "execution_count": 4,
   "id": "f78bceec",
   "metadata": {},
   "outputs": [],
   "source": [
    "tokenizer = Mecab()\n",
    "stopwords = ['의','가','이','은','들','는','좀','잘','걍','과','도','를','으로','자','에','와','한','하다']\n",
    "\n",
    "def load_data(train_data, test_data, num_words=10000):\n",
    "    \n",
    "    ## 중복제거\n",
    "    train_data.drop_duplicates(subset=['document'], inplace=True)\n",
    "    test_data.drop_duplicates(subset=['document'], inplace=True)\n",
    "    \n",
    "    ## 결측 제거\n",
    "    train_data = train_data.dropna(how = 'any') \n",
    "    test_data = test_data.dropna(how = 'any') \n",
    "    \n",
    "    X_train = []\n",
    "    for sentence in train_data['document']:\n",
    "        temp_X = tokenizer.morphs(sentence) # 토큰화\n",
    "        temp_X = [word for word in temp_X if not word in stopwords] # 불용어 제거\n",
    "        X_train.append(temp_X)\n",
    "\n",
    "    X_test = []\n",
    "    for sentence in test_data['document']:\n",
    "        temp_X = tokenizer.morphs(sentence) # 토큰화\n",
    "        temp_X = [word for word in temp_X if not word in stopwords] # 불용어 제거\n",
    "        X_test.append(temp_X)\n",
    "    \n",
    "    ## 사전 word to index 구성  ==> train 데이터로 \n",
    "    words = np.concatenate(X_train).tolist()\n",
    "    counter = Counter(words)\n",
    "    counter = counter.most_common(10000-4)\n",
    "    vocab = ['<PAD>', '<BOS>', '<UNK>', '<UNUSED>'] + [key for key, _ in counter]\n",
    "    word_to_index = {word:index for index, word in enumerate(vocab)}\n",
    "    \n",
    "    \n",
    "    def wordlist_to_indexlist(wordlist):\n",
    "        return [word_to_index[word] if word in word_to_index else word_to_index['<UNUSED>'] for word in wordlist]\n",
    "        \n",
    "    X_train = list(map(wordlist_to_indexlist, X_train))\n",
    "    X_test = list(map(wordlist_to_indexlist, X_test))\n",
    "        \n",
    "    return X_train, np.array(list(train_data['label'])), X_test, np.array(list(test_data['label'])), word_to_index"
   ]
  },
  {
   "cell_type": "code",
   "execution_count": 5,
   "id": "a07fcccc",
   "metadata": {},
   "outputs": [
    {
     "name": "stdout",
     "output_type": "stream",
     "text": [
      "146182\n",
      "49157\n"
     ]
    }
   ],
   "source": [
    "X_train, y_train, X_test, y_test, word_to_index = load_data(train_data, test_data)\n",
    "\n",
    "print(len(X_train))\n",
    "print(len(X_test))"
   ]
  },
  {
   "cell_type": "code",
   "execution_count": 6,
   "id": "c6cb73f4",
   "metadata": {},
   "outputs": [],
   "source": [
    "index_to_word = {index:word for word, index in word_to_index.items()}"
   ]
  },
  {
   "cell_type": "code",
   "execution_count": 7,
   "id": "eb383ef8",
   "metadata": {},
   "outputs": [],
   "source": [
    "# 문장 1개를 활용할 딕셔너리와 함께 주면, 단어 인덱스 리스트 벡터로 변환해 주는 함수입니다. \n",
    "# 단, 모든 문장은 <BOS>로 시작하는 것으로 합니다. \n",
    "def get_encoded_sentence(sentence, word_to_index):\n",
    "    return [word_to_index['<BOS>']]+[word_to_index[word] if word in word_to_index else word_to_index['<UNK>'] for word in sentence.split()]\n",
    "\n",
    "# 여러 개의 문장 리스트를 한꺼번에 단어 인덱스 리스트 벡터로 encode해 주는 함수입니다. \n",
    "def get_encoded_sentences(sentences, word_to_index):\n",
    "    return [get_encoded_sentence(sentence, word_to_index) for sentence in sentences]\n",
    "\n",
    "# 숫자 벡터로 encode된 문장을 원래대로 decode하는 함수입니다. \n",
    "def get_decoded_sentence(encoded_sentence, index_to_word):\n",
    "    return ' '.join(index_to_word[index] if index in index_to_word else '<UNK>' for index in encoded_sentence[1:])  #[1:]를 통해 <BOS>를 제외\n",
    "\n",
    "# 여러 개의 숫자 벡터로 encode된 문장을 한꺼번에 원래대로 decode하는 함수입니다. \n",
    "def get_decoded_sentences(encoded_sentences, index_to_word):\n",
    "    return [get_decoded_sentence(encoded_sentence, index_to_word) for encoded_sentence in encoded_sentences]"
   ]
  },
  {
   "cell_type": "code",
   "execution_count": 8,
   "id": "68ed8825",
   "metadata": {},
   "outputs": [],
   "source": [
    "# X_train = pad_sequences(X_train, maxlen=max_len)\n",
    "# X_test = pad_sequences(X_test, maxlen=max_len)"
   ]
  },
  {
   "cell_type": "markdown",
   "id": "de51e16e",
   "metadata": {},
   "source": [
    "---\n",
    "## 3) 모델 구성을 위한 데이터 분석 및 가공\n",
    "- 데이터셋 내 문장 길이 분포\n",
    "- 적절한 최대 문자 ㅇ길이 지정\n",
    "- keras.preprocessing.sequence.pad_sequences을 활용한 패딩 추가"
   ]
  },
  {
   "cell_type": "code",
   "execution_count": 9,
   "id": "7ef7c204",
   "metadata": {},
   "outputs": [
    {
     "name": "stdout",
     "output_type": "stream",
     "text": [
      "문장길이 평균 :  15.96940191154864\n",
      "문장길이 최대 :  116\n",
      "문장길이 표준편차 :  12.843571191092\n",
      "pad_sequences maxlen :  41\n"
     ]
    }
   ],
   "source": [
    "total_data_text = list(X_train) + list(X_test)\n",
    "# 텍스트데이터 문장길이의 리스트를 생성한 후\n",
    "num_tokens = [len(tokens) for tokens in total_data_text]\n",
    "num_tokens = np.array(num_tokens)\n",
    "# 문장길이의 평균값, 최대값, 표준편차를 계산해 본다. \n",
    "print('문장길이 평균 : ', np.mean(num_tokens))\n",
    "print('문장길이 최대 : ', np.max(num_tokens))\n",
    "print('문장길이 표준편차 : ', np.std(num_tokens))\n",
    "\n",
    "# 예를들어, 최대 길이를 (평균 + 2*표준편차)로 한다면,  \n",
    "max_tokens = np.mean(num_tokens) + 2 * np.std(num_tokens)\n",
    "maxlen = int(max_tokens)\n",
    "print('pad_sequences maxlen : ', maxlen)"
   ]
  },
  {
   "cell_type": "code",
   "execution_count": 10,
   "id": "96b02e8b",
   "metadata": {},
   "outputs": [],
   "source": [
    "X_train = keras.preprocessing.sequence.pad_sequences(\n",
    "    X_train,\n",
    "    value=word_to_index[\"<PAD>\"],\n",
    "    padding='pre', # post에 비해 높은 성능을 내는 pre를 사용\n",
    "    maxlen=maxlen\n",
    ")\n",
    "\n",
    "X_test = keras.preprocessing.sequence.pad_sequences(\n",
    "    X_test,\n",
    "    value=word_to_index[\"<PAD>\"],\n",
    "    padding='pre', # post에 비해 높은 성능을 내는 pre를 사용\n",
    "    maxlen=maxlen\n",
    ")"
   ]
  },
  {
   "cell_type": "code",
   "execution_count": 11,
   "id": "53db454d",
   "metadata": {},
   "outputs": [
    {
     "name": "stdout",
     "output_type": "stream",
     "text": [
      "41\n",
      "41\n"
     ]
    }
   ],
   "source": [
    "print(len(X_train[0]))\n",
    "print(len(X_train[1]))"
   ]
  },
  {
   "cell_type": "markdown",
   "id": "2618c21d",
   "metadata": {},
   "source": [
    "---\n",
    "## 4) 모델 구성 및 validation set 구성"
   ]
  },
  {
   "cell_type": "code",
   "execution_count": 12,
   "id": "12f95cc7",
   "metadata": {},
   "outputs": [
    {
     "name": "stdout",
     "output_type": "stream",
     "text": [
      "(136182, 41)\n",
      "(136182,)\n"
     ]
    }
   ],
   "source": [
    "# validation set 10000건 분리\n",
    "X_val = X_train[:10000]   \n",
    "y_val = y_train[:10000]\n",
    "\n",
    "# validation set을 제외한 나머지 15000건\n",
    "remain_X_train = X_train[10000:]  \n",
    "remain_y_train = y_train[10000:]\n",
    "\n",
    "print(remain_X_train.shape)\n",
    "print(remain_y_train.shape)"
   ]
  },
  {
   "cell_type": "code",
   "execution_count": 13,
   "id": "077e62a2",
   "metadata": {},
   "outputs": [],
   "source": [
    "max_len=41"
   ]
  },
  {
   "cell_type": "code",
   "execution_count": 14,
   "id": "89dd3c4c",
   "metadata": {},
   "outputs": [],
   "source": [
    "vocab_size = 10000    # 어휘 사전의 크기입니다(10,000개의 단어)\n",
    "word_vector_dim = 30  # 워드 벡터의 차원 수 (변경 가능한 하이퍼파라미터)"
   ]
  },
  {
   "cell_type": "code",
   "execution_count": 15,
   "id": "504f1dd5",
   "metadata": {},
   "outputs": [
    {
     "name": "stdout",
     "output_type": "stream",
     "text": [
      "Model: \"sequential\"\n",
      "_________________________________________________________________\n",
      "Layer (type)                 Output Shape              Param #   \n",
      "=================================================================\n",
      "embedding (Embedding)        (None, 41, 128)           1280000   \n",
      "_________________________________________________________________\n",
      "lstm (LSTM)                  (None, 32)                20608     \n",
      "_________________________________________________________________\n",
      "dense (Dense)                (None, 8)                 264       \n",
      "_________________________________________________________________\n",
      "dense_1 (Dense)              (None, 1)                 9         \n",
      "=================================================================\n",
      "Total params: 1,300,881\n",
      "Trainable params: 1,300,881\n",
      "Non-trainable params: 0\n",
      "_________________________________________________________________\n"
     ]
    }
   ],
   "source": [
    "# 모델 1 : LSTM\n",
    "model = Sequential()\n",
    "model.add(Embedding(input_dim=len(word_to_index), output_dim=128, input_length=max_len))\n",
    "model.add(LSTM(32))\n",
    "model.add(Dense(8, activation='sigmoid'))\n",
    "model.add(Dense(1, activation='sigmoid'))\n",
    "\n",
    "# 모델 훈련\n",
    "model.summary()"
   ]
  },
  {
   "cell_type": "code",
   "execution_count": 16,
   "id": "0e2b3885",
   "metadata": {},
   "outputs": [],
   "source": [
    "model.compile(optimizer='adam', loss='binary_crossentropy', metrics=['accuracy'])"
   ]
  },
  {
   "cell_type": "code",
   "execution_count": 17,
   "id": "7c23f27a",
   "metadata": {},
   "outputs": [
    {
     "name": "stdout",
     "output_type": "stream",
     "text": [
      "Model: \"sequential_1\"\n",
      "_________________________________________________________________\n",
      "Layer (type)                 Output Shape              Param #   \n",
      "=================================================================\n",
      "embedding_1 (Embedding)      (None, 41, 100)           1000100   \n",
      "_________________________________________________________________\n",
      "gru (GRU)                    (None, 32)                12864     \n",
      "_________________________________________________________________\n",
      "dense_2 (Dense)              (None, 8)                 264       \n",
      "_________________________________________________________________\n",
      "dense_3 (Dense)              (None, 1)                 9         \n",
      "=================================================================\n",
      "Total params: 1,013,237\n",
      "Trainable params: 1,013,237\n",
      "Non-trainable params: 0\n",
      "_________________________________________________________________\n"
     ]
    }
   ],
   "source": [
    "# 모델 2 gru(32) -> dense(8)\n",
    "gru_model = Sequential()\n",
    "gru_model.add(Embedding(input_dim=len(word_to_index)+1, output_dim=100, input_length=X_train.shape[1]))\n",
    "gru_model.add(GRU(32))\n",
    "gru_model.add(Dense(8, activation='sigmoid'))\n",
    "gru_model.add(Dense(1, activation='sigmoid'))\n",
    "\n",
    "# GRU 모델 훈련\n",
    "gru_model.summary()"
   ]
  },
  {
   "cell_type": "code",
   "execution_count": 18,
   "id": "9df5ab7b",
   "metadata": {},
   "outputs": [],
   "source": [
    "gru_model.compile(loss='binary_crossentropy', optimizer='adam', metrics=['accuracy'])"
   ]
  },
  {
   "cell_type": "code",
   "execution_count": 19,
   "id": "e471ded4",
   "metadata": {},
   "outputs": [
    {
     "name": "stdout",
     "output_type": "stream",
     "text": [
      "Model: \"sequential_2\"\n",
      "_________________________________________________________________\n",
      "Layer (type)                 Output Shape              Param #   \n",
      "=================================================================\n",
      "embedding_2 (Embedding)      (None, 41, 30)            300000    \n",
      "_________________________________________________________________\n",
      "conv1d (Conv1D)              (None, 35, 16)            3376      \n",
      "_________________________________________________________________\n",
      "max_pooling1d (MaxPooling1D) (None, 7, 16)             0         \n",
      "_________________________________________________________________\n",
      "conv1d_1 (Conv1D)            (None, 1, 16)             1808      \n",
      "_________________________________________________________________\n",
      "global_max_pooling1d (Global (None, 16)                0         \n",
      "_________________________________________________________________\n",
      "dense_4 (Dense)              (None, 8)                 136       \n",
      "_________________________________________________________________\n",
      "dense_5 (Dense)              (None, 1)                 9         \n",
      "=================================================================\n",
      "Total params: 305,329\n",
      "Trainable params: 305,329\n",
      "Non-trainable params: 0\n",
      "_________________________________________________________________\n"
     ]
    }
   ],
   "source": [
    "from tensorflow.keras.layers import Conv1D, MaxPooling1D\n",
    "\n",
    "cnn_model = tf.keras.Sequential()\n",
    "cnn_model.add(tf.keras.layers.Embedding(vocab_size, word_vector_dim, input_length=maxlen, trainable=True))  \n",
    "cnn_model.add(tf.keras.layers.Conv1D(16, 7, activation='relu'))\n",
    "cnn_model.add(tf.keras.layers.MaxPooling1D(5))\n",
    "cnn_model.add(tf.keras.layers.Conv1D(16, 7, activation='relu'))\n",
    "cnn_model.add(tf.keras.layers.GlobalMaxPooling1D())\n",
    "cnn_model.add(tf.keras.layers.Dense(8, activation='relu'))\n",
    "cnn_model.add(tf.keras.layers.Dense(1, activation='sigmoid')) \n",
    "\n",
    "\n",
    "\n",
    "# CNN 모델 훈련\n",
    "cnn_model.summary()"
   ]
  },
  {
   "cell_type": "code",
   "execution_count": 20,
   "id": "1b1a858f",
   "metadata": {},
   "outputs": [],
   "source": [
    "cnn_model.compile(loss='binary_crossentropy', optimizer='adam', metrics=['accuracy'])"
   ]
  },
  {
   "cell_type": "markdown",
   "id": "d2c35442",
   "metadata": {},
   "source": [
    "---\n",
    "## 5) 모델 훈련"
   ]
  },
  {
   "cell_type": "code",
   "execution_count": 21,
   "id": "4864ffe1",
   "metadata": {},
   "outputs": [
    {
     "name": "stdout",
     "output_type": "stream",
     "text": [
      "Epoch 1/10\n",
      "2128/2128 [==============================] - 14s 5ms/step - loss: 0.3925 - accuracy: 0.8304 - val_loss: 0.3250 - val_accuracy: 0.8576\n",
      "Epoch 2/10\n",
      "2128/2128 [==============================] - 10s 5ms/step - loss: 0.2930 - accuracy: 0.8774 - val_loss: 0.3114 - val_accuracy: 0.8676\n",
      "Epoch 3/10\n",
      "2128/2128 [==============================] - 10s 5ms/step - loss: 0.2489 - accuracy: 0.8991 - val_loss: 0.3259 - val_accuracy: 0.8657\n",
      "Epoch 4/10\n",
      "2128/2128 [==============================] - 10s 5ms/step - loss: 0.2132 - accuracy: 0.9158 - val_loss: 0.3395 - val_accuracy: 0.8626\n",
      "Epoch 5/10\n",
      "2128/2128 [==============================] - 10s 5ms/step - loss: 0.1822 - accuracy: 0.9300 - val_loss: 0.3560 - val_accuracy: 0.8603\n",
      "Epoch 6/10\n",
      "2128/2128 [==============================] - 10s 5ms/step - loss: 0.1552 - accuracy: 0.9420 - val_loss: 0.3974 - val_accuracy: 0.8582\n",
      "Epoch 7/10\n",
      "2128/2128 [==============================] - 10s 5ms/step - loss: 0.1312 - accuracy: 0.9526 - val_loss: 0.4235 - val_accuracy: 0.8596\n",
      "Epoch 8/10\n",
      "2128/2128 [==============================] - 10s 5ms/step - loss: 0.1134 - accuracy: 0.9595 - val_loss: 0.4575 - val_accuracy: 0.8540\n",
      "Epoch 9/10\n",
      "2128/2128 [==============================] - 10s 5ms/step - loss: 0.0995 - accuracy: 0.9657 - val_loss: 0.4965 - val_accuracy: 0.8517\n",
      "Epoch 10/10\n",
      "2128/2128 [==============================] - 10s 5ms/step - loss: 0.0849 - accuracy: 0.9711 - val_loss: 0.5438 - val_accuracy: 0.8539\n"
     ]
    }
   ],
   "source": [
    "# LSTM 모델 훈련\n",
    "history_lstm = model.fit(remain_X_train, remain_y_train, epochs=10, batch_size=64, validation_data=(X_val, y_val))"
   ]
  },
  {
   "cell_type": "code",
   "execution_count": 22,
   "id": "4e65337b",
   "metadata": {},
   "outputs": [
    {
     "name": "stdout",
     "output_type": "stream",
     "text": [
      "1537/1537 - 3s - loss: 0.5473 - accuracy: 0.8499\n",
      "[0.5472921133041382, 0.8499094843864441]\n"
     ]
    }
   ],
   "source": [
    "model_results = model.evaluate(X_test,  y_test, verbose=2)\n",
    "\n",
    "print(model_results)"
   ]
  },
  {
   "cell_type": "code",
   "execution_count": 23,
   "id": "2593beab",
   "metadata": {},
   "outputs": [
    {
     "name": "stdout",
     "output_type": "stream",
     "text": [
      "Epoch 1/10\n",
      "2128/2128 [==============================] - 11s 5ms/step - loss: 0.3901 - accuracy: 0.8288 - val_loss: 0.3347 - val_accuracy: 0.8569\n",
      "Epoch 2/10\n",
      "2128/2128 [==============================] - 10s 5ms/step - loss: 0.3059 - accuracy: 0.8737 - val_loss: 0.3124 - val_accuracy: 0.8625\n",
      "Epoch 3/10\n",
      "2128/2128 [==============================] - 10s 5ms/step - loss: 0.2652 - accuracy: 0.8919 - val_loss: 0.3141 - val_accuracy: 0.8651\n",
      "Epoch 4/10\n",
      "2128/2128 [==============================] - 10s 5ms/step - loss: 0.2315 - accuracy: 0.9073 - val_loss: 0.3312 - val_accuracy: 0.8648\n",
      "Epoch 5/10\n",
      "2128/2128 [==============================] - 10s 5ms/step - loss: 0.2000 - accuracy: 0.9222 - val_loss: 0.3492 - val_accuracy: 0.8603\n",
      "Epoch 6/10\n",
      "2128/2128 [==============================] - 10s 5ms/step - loss: 0.1716 - accuracy: 0.9348 - val_loss: 0.3724 - val_accuracy: 0.8547\n",
      "Epoch 7/10\n",
      "2128/2128 [==============================] - 10s 4ms/step - loss: 0.1466 - accuracy: 0.9452 - val_loss: 0.4151 - val_accuracy: 0.8531\n",
      "Epoch 8/10\n",
      "2128/2128 [==============================] - 10s 5ms/step - loss: 0.1249 - accuracy: 0.9548 - val_loss: 0.4457 - val_accuracy: 0.8496\n",
      "Epoch 9/10\n",
      "2128/2128 [==============================] - 10s 5ms/step - loss: 0.1087 - accuracy: 0.9613 - val_loss: 0.4826 - val_accuracy: 0.8457\n",
      "Epoch 10/10\n",
      "2128/2128 [==============================] - 10s 5ms/step - loss: 0.0937 - accuracy: 0.9675 - val_loss: 0.5174 - val_accuracy: 0.8444\n"
     ]
    }
   ],
   "source": [
    "# GRU 모델 훈련\n",
    "history_gru = gru_model.fit(remain_X_train, remain_y_train, epochs=10, batch_size=64, validation_data=(X_val, y_val))"
   ]
  },
  {
   "cell_type": "code",
   "execution_count": 24,
   "id": "1a5608f9",
   "metadata": {},
   "outputs": [
    {
     "name": "stdout",
     "output_type": "stream",
     "text": [
      "1537/1537 - 3s - loss: 0.5135 - accuracy: 0.8440\n",
      "[0.5135223269462585, 0.8439896702766418]\n"
     ]
    }
   ],
   "source": [
    "gru_results = gru_model.evaluate(X_test,  y_test, verbose=2)\n",
    "\n",
    "print(gru_results)"
   ]
  },
  {
   "cell_type": "code",
   "execution_count": 25,
   "id": "ac3b5f04",
   "metadata": {},
   "outputs": [
    {
     "name": "stdout",
     "output_type": "stream",
     "text": [
      "Epoch 1/10\n",
      "2128/2128 [==============================] - 10s 4ms/step - loss: 0.3824 - accuracy: 0.8234 - val_loss: 0.3220 - val_accuracy: 0.8617\n",
      "Epoch 2/10\n",
      "2128/2128 [==============================] - 8s 4ms/step - loss: 0.2820 - accuracy: 0.8825 - val_loss: 0.3207 - val_accuracy: 0.8632\n",
      "Epoch 3/10\n",
      "2128/2128 [==============================] - 8s 4ms/step - loss: 0.2202 - accuracy: 0.9126 - val_loss: 0.3383 - val_accuracy: 0.8576\n",
      "Epoch 4/10\n",
      "2128/2128 [==============================] - 8s 4ms/step - loss: 0.1606 - accuracy: 0.9416 - val_loss: 0.4051 - val_accuracy: 0.8505\n",
      "Epoch 5/10\n",
      "2128/2128 [==============================] - 8s 4ms/step - loss: 0.1176 - accuracy: 0.9589 - val_loss: 0.4592 - val_accuracy: 0.8507\n",
      "Epoch 6/10\n",
      "2128/2128 [==============================] - 8s 4ms/step - loss: 0.0916 - accuracy: 0.9684 - val_loss: 0.5393 - val_accuracy: 0.8436\n",
      "Epoch 7/10\n",
      "2128/2128 [==============================] - 9s 4ms/step - loss: 0.0739 - accuracy: 0.9748 - val_loss: 0.5844 - val_accuracy: 0.8412\n",
      "Epoch 8/10\n",
      "2128/2128 [==============================] - 8s 4ms/step - loss: 0.0630 - accuracy: 0.9784 - val_loss: 0.6755 - val_accuracy: 0.8355\n",
      "Epoch 9/10\n",
      "2128/2128 [==============================] - 9s 4ms/step - loss: 0.0547 - accuracy: 0.9811 - val_loss: 0.7305 - val_accuracy: 0.8369\n",
      "Epoch 10/10\n",
      "2128/2128 [==============================] - 8s 4ms/step - loss: 0.0487 - accuracy: 0.9825 - val_loss: 0.7880 - val_accuracy: 0.8293\n"
     ]
    }
   ],
   "source": [
    "# CNN 모델 훈련\n",
    "history_cnn = cnn_model.fit(remain_X_train, remain_y_train, epochs=10, batch_size=64, validation_data=(X_val, y_val))"
   ]
  },
  {
   "cell_type": "code",
   "execution_count": 26,
   "id": "d3fbc0f4",
   "metadata": {},
   "outputs": [
    {
     "name": "stdout",
     "output_type": "stream",
     "text": [
      "1537/1537 - 3s - loss: 0.5473 - accuracy: 0.8499\n",
      "[0.5135223269462585, 0.8439896702766418]\n"
     ]
    }
   ],
   "source": [
    "model_results = model.evaluate(X_test,  y_test, verbose=2)\n",
    "\n",
    "print(gru_results)"
   ]
  },
  {
   "cell_type": "markdown",
   "id": "316248fe",
   "metadata": {},
   "source": [
    "---\n",
    "## 6) Loss, Accuarcy 그래프 시각화"
   ]
  },
  {
   "cell_type": "code",
   "execution_count": 27,
   "id": "a18cb3b1",
   "metadata": {},
   "outputs": [
    {
     "data": {
      "image/png": "[encoded data removed]",
      "text/plain": [
       "<Figure size 864x432 with 2 Axes>"
      ]
     },
     "metadata": {
      "needs_background": "light"
     },
     "output_type": "display_data"
    },
    {
     "data": {
      "image/png": "[encoded data removed]",
      "text/plain": [
       "<Figure size 864x432 with 2 Axes>"
      ]
     },
     "metadata": {
      "needs_background": "light"
     },
     "output_type": "display_data"
    },
    {
     "data": {
      "image/png": "[encoded data removed]",
      "text/plain": [
       "<Figure size 864x432 with 2 Axes>"
      ]
     },
     "metadata": {
      "needs_background": "light"
     },
     "output_type": "display_data"
    }
   ],
   "source": [
    "import matplotlib.pyplot as plt\n",
    "\n",
    "\n",
    "# 그래프 시각화\n",
    "def plot_history(history, model_name):\n",
    "    plt.figure(figsize=(12, 6))\n",
    "\n",
    "    # Accuracy 그래프\n",
    "    plt.subplot(1, 2, 1)\n",
    "    plt.plot(history.history['accuracy'], label='Training Accuracy')\n",
    "    plt.plot(history.history['val_accuracy'], label='Validation Accuracy')\n",
    "    plt.title(f'{model_name} - Accuracy')\n",
    "    plt.xlabel('Epoch')\n",
    "    plt.ylabel('Accuracy')\n",
    "    plt.legend()\n",
    "\n",
    "    # Loss 그래프\n",
    "    plt.subplot(1, 2, 2)\n",
    "    plt.plot(history.history['loss'], label='Training Loss')\n",
    "    plt.plot(history.history['val_loss'], label='Validation Loss')\n",
    "    plt.title(f'{model_name} - Loss')\n",
    "    plt.xlabel('Epoch')\n",
    "    plt.ylabel('Loss')\n",
    "    plt.legend()\n",
    "\n",
    "    plt.tight_layout()\n",
    "    plt.show()\n",
    "\n",
    "# 각 모델의 훈련 결과 시각화\n",
    "plot_history(history_lstm, 'LSTM')\n",
    "plot_history(history_gru, 'GRU')\n",
    "plot_history(history_cnn, 'CNN')\n"
   ]
  },
  {
   "cell_type": "markdown",
   "id": "0486df2a",
   "metadata": {},
   "source": [
    "---\n",
    "## 7) 학습된 Embedding 레이어 분석"
   ]
  },
  {
   "cell_type": "code",
   "execution_count": 28,
   "id": "d3a85967",
   "metadata": {},
   "outputs": [
    {
     "name": "stdout",
     "output_type": "stream",
     "text": [
      "(10000, 128)\n"
     ]
    }
   ],
   "source": [
    "embedding_layer = model.layers[0]\n",
    "weights = embedding_layer.get_weights()[0]\n",
    "print(weights.shape)    # shape: (vocab_size, embedding_dim)"
   ]
  },
  {
   "cell_type": "markdown",
   "id": "e8546d5a",
   "metadata": {},
   "source": [
    "## + 한국어 Word2Vec 임베딩 활용해서 성능 개선"
   ]
  },
  {
   "cell_type": "code",
   "execution_count": 29,
   "id": "fcd88c63",
   "metadata": {},
   "outputs": [],
   "source": [
    "import os\n",
    "from gensim.models.keyedvectors import Word2VecKeyedVectors\n",
    "from tensorflow.keras.initializers import Constant"
   ]
  },
  {
   "cell_type": "code",
   "execution_count": 30,
   "id": "d3570941",
   "metadata": {},
   "outputs": [],
   "source": [
    "word2vec_file_path = os.getenv('HOME')+'/data/word2vec_ko.model'\n",
    "word_vectors = Word2VecKeyedVectors.load(word2vec_file_path)"
   ]
  },
  {
   "cell_type": "code",
   "execution_count": 31,
   "id": "92a733f2",
   "metadata": {},
   "outputs": [],
   "source": [
    "vocab_size = 10000    # 어휘 사전의 크기입니다(10,000개의 단어)\n",
    "word_vector_dim = 100  # 워드 벡터의 차원 수 (변경 가능한 하이퍼파라미터)\n",
    "embedding_matrix = np.random.rand(vocab_size, word_vector_dim)\n",
    "\n",
    "# embedding_matrix에 Word2Vec 워드 벡터를 단어 하나씩마다 차례차례 카피한다.\n",
    "for i in range(4, vocab_size):\n",
    "    if index_to_word[i] in word_vectors.wv:\n",
    "        embedding_matrix[i] = word_vectors.wv[index_to_word[i]]"
   ]
  },
  {
   "cell_type": "code",
   "execution_count": 32,
   "id": "10c200c8",
   "metadata": {},
   "outputs": [],
   "source": [
    "# model4 : embedding -> gru(32) -> dense(8)\n",
    "inputs = keras.Input(shape=(41, ))\n",
    "x = keras.layers.Embedding(\n",
    "    vocab_size, \n",
    "    word_vector_dim, \n",
    "    embeddings_initializer=Constant(embedding_matrix),  # 카피한 임베딩을 여기서 활용\n",
    "    input_length=maxlen, \n",
    "    trainable=True\n",
    ")(inputs)\n",
    "x = keras.layers.GRU(64, return_sequences=True)(x)\n",
    "x = keras.layers.GRU(64, return_sequences=False)(x)\n",
    "x = keras.layers.Dense(32, activation=\"relu\")(x)\n",
    "x = keras.layers.Dense(8, activation=\"relu\")(x)\n",
    "x = keras.layers.Dropout(0.2)(x)\n",
    "outputs = keras.layers.Dense(1, activation=\"sigmoid\")(x)\n",
    "model4 = keras.Model(inputs, outputs)"
   ]
  },
  {
   "cell_type": "code",
   "execution_count": 33,
   "id": "824a814a",
   "metadata": {},
   "outputs": [
    {
     "name": "stdout",
     "output_type": "stream",
     "text": [
      "Model: \"model\"\n",
      "_________________________________________________________________\n",
      "Layer (type)                 Output Shape              Param #   \n",
      "=================================================================\n",
      "input_1 (InputLayer)         [(None, 41)]              0         \n",
      "_________________________________________________________________\n",
      "embedding_3 (Embedding)      (None, 41, 100)           1000000   \n",
      "_________________________________________________________________\n",
      "gru_1 (GRU)                  (None, 41, 64)            31872     \n",
      "_________________________________________________________________\n",
      "gru_2 (GRU)                  (None, 64)                24960     \n",
      "_________________________________________________________________\n",
      "dense_6 (Dense)              (None, 32)                2080      \n",
      "_________________________________________________________________\n",
      "dense_7 (Dense)              (None, 8)                 264       \n",
      "_________________________________________________________________\n",
      "dropout (Dropout)            (None, 8)                 0         \n",
      "_________________________________________________________________\n",
      "dense_8 (Dense)              (None, 1)                 9         \n",
      "=================================================================\n",
      "Total params: 1,059,185\n",
      "Trainable params: 1,059,185\n",
      "Non-trainable params: 0\n",
      "_________________________________________________________________\n"
     ]
    }
   ],
   "source": [
    "model4.summary()"
   ]
  },
  {
   "cell_type": "code",
   "execution_count": 34,
   "id": "0d569462",
   "metadata": {},
   "outputs": [
    {
     "name": "stdout",
     "output_type": "stream",
     "text": [
      "Epoch 1/20\n",
      "266/266 [==============================] - 6s 11ms/step - loss: 0.4981 - accuracy: 0.7613 - val_loss: 0.3826 - val_accuracy: 0.8261\n",
      "Epoch 2/20\n",
      "266/266 [==============================] - 2s 9ms/step - loss: 0.3625 - accuracy: 0.8476 - val_loss: 0.3358 - val_accuracy: 0.8498\n",
      "Epoch 3/20\n",
      "266/266 [==============================] - 2s 9ms/step - loss: 0.3189 - accuracy: 0.8687 - val_loss: 0.3210 - val_accuracy: 0.8564\n",
      "Epoch 4/20\n",
      "266/266 [==============================] - 2s 9ms/step - loss: 0.2927 - accuracy: 0.8818 - val_loss: 0.3121 - val_accuracy: 0.8622\n",
      "Epoch 5/20\n",
      "266/266 [==============================] - 2s 9ms/step - loss: 0.2734 - accuracy: 0.8903 - val_loss: 0.3177 - val_accuracy: 0.8609\n",
      "Epoch 6/20\n",
      "266/266 [==============================] - 2s 9ms/step - loss: 0.2570 - accuracy: 0.8980 - val_loss: 0.3179 - val_accuracy: 0.8652\n",
      "Epoch 7/20\n",
      "266/266 [==============================] - 2s 9ms/step - loss: 0.2390 - accuracy: 0.9066 - val_loss: 0.3301 - val_accuracy: 0.8652\n",
      "Epoch 8/20\n",
      "266/266 [==============================] - 2s 9ms/step - loss: 0.2233 - accuracy: 0.9133 - val_loss: 0.3382 - val_accuracy: 0.8629\n",
      "Epoch 9/20\n",
      "266/266 [==============================] - 2s 9ms/step - loss: 0.2063 - accuracy: 0.9208 - val_loss: 0.3509 - val_accuracy: 0.8625\n",
      "Epoch 10/20\n",
      "266/266 [==============================] - 2s 9ms/step - loss: 0.1886 - accuracy: 0.9295 - val_loss: 0.3682 - val_accuracy: 0.8612\n",
      "Epoch 11/20\n",
      "266/266 [==============================] - 2s 9ms/step - loss: 0.1715 - accuracy: 0.9368 - val_loss: 0.4031 - val_accuracy: 0.8565\n",
      "Epoch 12/20\n",
      "266/266 [==============================] - 2s 9ms/step - loss: 0.1582 - accuracy: 0.9420 - val_loss: 0.4603 - val_accuracy: 0.8598\n",
      "Epoch 13/20\n",
      "266/266 [==============================] - 2s 9ms/step - loss: 0.1415 - accuracy: 0.9501 - val_loss: 0.4587 - val_accuracy: 0.8563\n",
      "Epoch 14/20\n",
      "266/266 [==============================] - 2s 9ms/step - loss: 0.1282 - accuracy: 0.9547 - val_loss: 0.5006 - val_accuracy: 0.8573\n",
      "Epoch 15/20\n",
      "266/266 [==============================] - 2s 9ms/step - loss: 0.1166 - accuracy: 0.9594 - val_loss: 0.5286 - val_accuracy: 0.8535\n",
      "Epoch 16/20\n",
      "266/266 [==============================] - 2s 9ms/step - loss: 0.1065 - accuracy: 0.9621 - val_loss: 0.6248 - val_accuracy: 0.8557\n",
      "Epoch 17/20\n",
      "266/266 [==============================] - 2s 9ms/step - loss: 0.0967 - accuracy: 0.9661 - val_loss: 0.6726 - val_accuracy: 0.8547\n",
      "Epoch 18/20\n",
      "266/266 [==============================] - 2s 9ms/step - loss: 0.0865 - accuracy: 0.9700 - val_loss: 0.6932 - val_accuracy: 0.8557\n",
      "Epoch 19/20\n",
      "266/266 [==============================] - 2s 9ms/step - loss: 0.0802 - accuracy: 0.9727 - val_loss: 0.7096 - val_accuracy: 0.8439\n",
      "Epoch 20/20\n",
      "266/266 [==============================] - 2s 9ms/step - loss: 0.0711 - accuracy: 0.9756 - val_loss: 0.8535 - val_accuracy: 0.8506\n"
     ]
    }
   ],
   "source": [
    "# 학습의 진행\n",
    "model4.compile(optimizer='adam',\n",
    "              loss='binary_crossentropy',\n",
    "              metrics=['accuracy'])\n",
    "              \n",
    "epochs=20  # 몇 epoch를 훈련하면 좋을지 결과를 보면서 바꾸어 봅시다. \n",
    "\n",
    "history4 = model4.fit(remain_X_train,\n",
    "                    remain_y_train,\n",
    "                    epochs=epochs,\n",
    "                    batch_size=512,\n",
    "                    validation_data=(X_val, y_val),\n",
    "                    verbose=1)"
   ]
  },
  {
   "cell_type": "code",
   "execution_count": 35,
   "id": "bc765281",
   "metadata": {},
   "outputs": [
    {
     "name": "stdout",
     "output_type": "stream",
     "text": [
      "1537/1537 - 4s - loss: 0.8525 - accuracy: 0.8508\n",
      "[0.8524659872055054, 0.8508452773094177]\n"
     ]
    }
   ],
   "source": [
    "results4 = model4.evaluate(X_test,  y_test, verbose=2)\n",
    "\n",
    "print(results4)"
   ]
  },
  {
   "cell_type": "code",
   "execution_count": 36,
   "id": "99120019",
   "metadata": {},
   "outputs": [
    {
     "data": {
      "image/png": "[encoded data removed]",
      "text/plain": [
       "<Figure size 864x432 with 2 Axes>"
      ]
     },
     "metadata": {
      "needs_background": "light"
     },
     "output_type": "display_data"
    }
   ],
   "source": [
    "plot_history(history4, 'Gru')"
   ]
  },
  {
   "cell_type": "code",
   "execution_count": null,
   "id": "06533545",
   "metadata": {},
   "outputs": [],
   "source": []
  }
 ],
 "metadata": {
  "kernelspec": {
   "display_name": "Python 3 (ipykernel)",
   "language": "python",
   "name": "python3"
  },
  "language_info": {
   "codemirror_mode": {
    "name": "ipython",
    "version": 3
   },
   "file_extension": ".py",
   "mimetype": "text/x-python",
   "name": "python",
   "nbconvert_exporter": "python",
   "pygments_lexer": "ipython3",
   "version": "3.9.7"
  }
 },
 "nbformat": 4,
 "nbformat_minor": 5
}
