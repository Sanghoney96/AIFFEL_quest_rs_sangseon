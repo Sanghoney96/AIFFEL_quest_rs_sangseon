{
 "cells": [
  {
   "cell_type": "markdown",
   "id": "fe4459e0",
   "metadata": {},
   "source": [
    "# GoingDeeper NLP 프로젝트: 멋진 단어사전 만들기\n",
    "\n",
    "- [ ] SentencePiece를 이용하여 모델을 만들기까지의 과정이 정상적으로 진행되었는가?\t\n",
    "        - 코퍼스 분석, 전처리, SentencePiece 적용, 토크나이저 구현 및 동작이 빠짐없이 진행되었는가?\n",
    "- [ ] SentencePiece를 통해 만든 Tokenizer가 자연어처리 모델과 결합하여 동작하는가?\t\n",
    "        - SentencePiece 토크나이저가 적용된 Text Classifier 모델이 정상적으로 수렴하여 80% 이상의 test accuracy가 확인되었다.\n",
    "- [ ] SentencePiece의 성능을 다각도로 비교분석하였는가?\t\n",
    "        - SentencePiece 토크나이저를 활용했을 때의 성능을 다른 토크나이저 혹은 SentencePiece의 다른 옵션의 경우와 비교하여 분석을 체계적으로 진행하였다.\n"
   ]
  },
  {
   "cell_type": "code",
   "execution_count": 1,
   "id": "36744d86",
   "metadata": {},
   "outputs": [
    {
     "name": "stdout",
     "output_type": "stream",
     "text": [
      "2.6.0\n",
      "1.21.4\n",
      "3.4.3\n",
      "0.5.2\n"
     ]
    }
   ],
   "source": [
    "import tensorflow as tf\n",
    "import numpy as np\n",
    "import matplotlib as plt\n",
    "import konlpy\n",
    "\n",
    "print(tf.__version__)\n",
    "print(np.__version__)\n",
    "print(plt.__version__)\n",
    "print(konlpy.__version__)"
   ]
  },
  {
   "cell_type": "markdown",
   "id": "4c85d73c",
   "metadata": {},
   "source": [
    "### 네이버 영화리뷰 감정 분석 문제에 SentencePiece 적용해보기\n",
    "\n",
    "- 네이버 영화리뷰 감정 분석 코퍼스에 SentencePiece를 적용시킨 모델 학습하기  \n",
    "- 학습된 모델로 sp_tokenize() 메소드 구현하기  \n",
    "- 구현된 토크나이저를 적용하여 네이버 영화리뷰 감정 분석 모델을 재학습하기  \n",
    "- KoNLPy 형태소 분석기를 사용한 모델과 성능 비교하기  \n",
    "- SentencePiece 모델의 model_type, vocab_size 등을 변경해 가면서 성능 개선 여부 확인하기  "
   ]
  },
  {
   "cell_type": "code",
   "execution_count": 2,
   "id": "20f18988",
   "metadata": {},
   "outputs": [],
   "source": [
    "import sentencepiece as spm\n",
    "import pandas as pd\n",
    "import numpy as np\n",
    "import tensorflow as tf\n",
    "from tensorflow.keras.preprocessing.sequence import pad_sequences\n",
    "from tensorflow.keras.models import Sequential\n",
    "from tensorflow.keras.layers import Embedding, LSTM, Dense, Dropout, BatchNormalization\n",
    "from sklearn.model_selection import train_test_split\n",
    "from konlpy.tag import Mecab\n",
    "import os\n",
    "import matplotlib.pyplot as plt\n",
    "from sklearn.metrics import classification_report, accuracy_score"
   ]
  },
  {
   "cell_type": "markdown",
   "id": "631e631b",
   "metadata": {},
   "source": [
    "### 1.데이터 확인"
   ]
  },
  {
   "cell_type": "code",
   "execution_count": 3,
   "id": "d62d1af4",
   "metadata": {},
   "outputs": [],
   "source": [
    "def eda(file_path):\n",
    "    \"\"\"\n",
    "    데이터 파일을 로드하고 결측값을 제거한 후 기본적인 EDA 수행합니다.\n",
    "    \"\"\"\n",
    "    df = pd.read_csv(file_path, sep=\"\\t\").dropna()\n",
    "    print(\"데이터 개수:\", len(df))\n",
    "    print(\"라벨 분포:\")\n",
    "    print(df['label'].value_counts())\n",
    "    df['length'] = df['document'].apply(lambda x: len(str(x)))\n",
    "    print(\"문장 길이 통계:\")\n",
    "    print(df['length'].describe(),'\\n')\n",
    "    return df"
   ]
  },
  {
   "cell_type": "code",
   "execution_count": 4,
   "id": "cf5da503",
   "metadata": {},
   "outputs": [
    {
     "name": "stdout",
     "output_type": "stream",
     "text": [
      "데이터 개수: 149995\n",
      "라벨 분포:\n",
      "0    75170\n",
      "1    74825\n",
      "Name: label, dtype: int64\n",
      "문장 길이 통계:\n",
      "count    149995.000000\n",
      "mean         35.204527\n",
      "std          29.531890\n",
      "min           1.000000\n",
      "25%          16.000000\n",
      "50%          27.000000\n",
      "75%          42.000000\n",
      "max         146.000000\n",
      "Name: length, dtype: float64 \n",
      "\n",
      "데이터 개수: 49997\n",
      "라벨 분포:\n",
      "1    25171\n",
      "0    24826\n",
      "Name: label, dtype: int64\n",
      "문장 길이 통계:\n",
      "count    49997.000000\n",
      "mean        35.320259\n",
      "std         29.648310\n",
      "min          1.000000\n",
      "25%         16.000000\n",
      "50%         27.000000\n",
      "75%         43.000000\n",
      "max        144.000000\n",
      "Name: length, dtype: float64 \n",
      "\n"
     ]
    }
   ],
   "source": [
    "df_train = eda(\"./data/ratings_train.txt\")\n",
    "df_test = eda(\"./data/ratings_test.txt\")"
   ]
  },
  {
   "cell_type": "code",
   "execution_count": 5,
   "id": "2e3acdad",
   "metadata": {},
   "outputs": [],
   "source": [
    "# 데이터 전처리\n",
    "def preprocess_text(df):\n",
    "    df['document'] = df['document'].astype(str).str.strip()\n",
    "    df['document'] = df['document'].str.replace(\"[^가-힣0-9a-zA-Z\\s]\", \"\", regex=True)\n",
    "    return df\n",
    "\n",
    "df_train = preprocess_text(df_train)\n",
    "df_test = preprocess_text(df_test)"
   ]
  },
  {
   "cell_type": "code",
   "execution_count": 6,
   "id": "e38857de",
   "metadata": {},
   "outputs": [],
   "source": [
    "df_train = df_train.drop_duplicates(subset=['document']).reset_index(drop=True)\n",
    "df_test = df_test.drop_duplicates(subset=['document']).reset_index(drop=True)"
   ]
  },
  {
   "cell_type": "code",
   "execution_count": 7,
   "id": "a9d2787f",
   "metadata": {
    "scrolled": true
   },
   "outputs": [
    {
     "name": "stdout",
     "output_type": "stream",
     "text": [
      "143899\n"
     ]
    },
    {
     "data": {
      "text/html": [
       "<div>\n",
       "<style scoped>\n",
       "    .dataframe tbody tr th:only-of-type {\n",
       "        vertical-align: middle;\n",
       "    }\n",
       "\n",
       "    .dataframe tbody tr th {\n",
       "        vertical-align: top;\n",
       "    }\n",
       "\n",
       "    .dataframe thead th {\n",
       "        text-align: right;\n",
       "    }\n",
       "</style>\n",
       "<table border=\"1\" class=\"dataframe\">\n",
       "  <thead>\n",
       "    <tr style=\"text-align: right;\">\n",
       "      <th></th>\n",
       "      <th>id</th>\n",
       "      <th>document</th>\n",
       "      <th>label</th>\n",
       "      <th>length</th>\n",
       "    </tr>\n",
       "  </thead>\n",
       "  <tbody>\n",
       "    <tr>\n",
       "      <th>0</th>\n",
       "      <td>9976970</td>\n",
       "      <td>아 더빙 진짜 짜증나네요 목소리</td>\n",
       "      <td>0</td>\n",
       "      <td>19</td>\n",
       "    </tr>\n",
       "    <tr>\n",
       "      <th>1</th>\n",
       "      <td>3819312</td>\n",
       "      <td>흠포스터보고 초딩영화줄오버연기조차 가볍지 않구나</td>\n",
       "      <td>1</td>\n",
       "      <td>33</td>\n",
       "    </tr>\n",
       "    <tr>\n",
       "      <th>2</th>\n",
       "      <td>10265843</td>\n",
       "      <td>너무재밓었다그래서보는것을추천한다</td>\n",
       "      <td>0</td>\n",
       "      <td>17</td>\n",
       "    </tr>\n",
       "    <tr>\n",
       "      <th>3</th>\n",
       "      <td>9045019</td>\n",
       "      <td>교도소 이야기구먼 솔직히 재미는 없다평점 조정</td>\n",
       "      <td>0</td>\n",
       "      <td>29</td>\n",
       "    </tr>\n",
       "    <tr>\n",
       "      <th>4</th>\n",
       "      <td>6483659</td>\n",
       "      <td>사이몬페그의 익살스런 연기가 돋보였던 영화스파이더맨에서 늙어보이기만 했던 커스틴 던...</td>\n",
       "      <td>1</td>\n",
       "      <td>61</td>\n",
       "    </tr>\n",
       "  </tbody>\n",
       "</table>\n",
       "</div>"
      ],
      "text/plain": [
       "         id                                           document  label  length\n",
       "0   9976970                                  아 더빙 진짜 짜증나네요 목소리      0      19\n",
       "1   3819312                         흠포스터보고 초딩영화줄오버연기조차 가볍지 않구나      1      33\n",
       "2  10265843                                  너무재밓었다그래서보는것을추천한다      0      17\n",
       "3   9045019                          교도소 이야기구먼 솔직히 재미는 없다평점 조정      0      29\n",
       "4   6483659  사이몬페그의 익살스런 연기가 돋보였던 영화스파이더맨에서 늙어보이기만 했던 커스틴 던...      1      61"
      ]
     },
     "execution_count": 7,
     "metadata": {},
     "output_type": "execute_result"
    }
   ],
   "source": [
    "print(len(df_train))\n",
    "df_train.head()"
   ]
  },
  {
   "cell_type": "code",
   "execution_count": 8,
   "id": "17b09872",
   "metadata": {},
   "outputs": [
    {
     "name": "stdout",
     "output_type": "stream",
     "text": [
      "48552\n"
     ]
    },
    {
     "data": {
      "text/html": [
       "<div>\n",
       "<style scoped>\n",
       "    .dataframe tbody tr th:only-of-type {\n",
       "        vertical-align: middle;\n",
       "    }\n",
       "\n",
       "    .dataframe tbody tr th {\n",
       "        vertical-align: top;\n",
       "    }\n",
       "\n",
       "    .dataframe thead th {\n",
       "        text-align: right;\n",
       "    }\n",
       "</style>\n",
       "<table border=\"1\" class=\"dataframe\">\n",
       "  <thead>\n",
       "    <tr style=\"text-align: right;\">\n",
       "      <th></th>\n",
       "      <th>id</th>\n",
       "      <th>document</th>\n",
       "      <th>label</th>\n",
       "      <th>length</th>\n",
       "    </tr>\n",
       "  </thead>\n",
       "  <tbody>\n",
       "    <tr>\n",
       "      <th>0</th>\n",
       "      <td>6270596</td>\n",
       "      <td>굳</td>\n",
       "      <td>1</td>\n",
       "      <td>3</td>\n",
       "    </tr>\n",
       "    <tr>\n",
       "      <th>1</th>\n",
       "      <td>9274899</td>\n",
       "      <td>GDNTOPCLASSINTHECLUB</td>\n",
       "      <td>0</td>\n",
       "      <td>20</td>\n",
       "    </tr>\n",
       "    <tr>\n",
       "      <th>2</th>\n",
       "      <td>8544678</td>\n",
       "      <td>뭐야 이 평점들은 나쁘진 않지만 10점 짜리는 더더욱 아니잖아</td>\n",
       "      <td>0</td>\n",
       "      <td>38</td>\n",
       "    </tr>\n",
       "    <tr>\n",
       "      <th>3</th>\n",
       "      <td>6825595</td>\n",
       "      <td>지루하지는 않은데 완전 막장임 돈주고 보기에는</td>\n",
       "      <td>0</td>\n",
       "      <td>32</td>\n",
       "    </tr>\n",
       "    <tr>\n",
       "      <th>4</th>\n",
       "      <td>6723715</td>\n",
       "      <td>3D만 아니었어도 별 다섯 개 줬을텐데 왜 3D로 나와서 제 심기를 불편하게 하죠</td>\n",
       "      <td>0</td>\n",
       "      <td>49</td>\n",
       "    </tr>\n",
       "  </tbody>\n",
       "</table>\n",
       "</div>"
      ],
      "text/plain": [
       "        id                                       document  label  length\n",
       "0  6270596                                             굳       1       3\n",
       "1  9274899                           GDNTOPCLASSINTHECLUB      0      20\n",
       "2  8544678             뭐야 이 평점들은 나쁘진 않지만 10점 짜리는 더더욱 아니잖아      0      38\n",
       "3  6825595                      지루하지는 않은데 완전 막장임 돈주고 보기에는      0      32\n",
       "4  6723715  3D만 아니었어도 별 다섯 개 줬을텐데 왜 3D로 나와서 제 심기를 불편하게 하죠      0      49"
      ]
     },
     "execution_count": 8,
     "metadata": {},
     "output_type": "execute_result"
    }
   ],
   "source": [
    "print(len(df_test))\n",
    "df_test.head()"
   ]
  },
  {
   "cell_type": "code",
   "execution_count": 9,
   "id": "5d14234a",
   "metadata": {},
   "outputs": [],
   "source": [
    "# SentencePiece 모델 학습을 위한 데이터 준비\n",
    "def prepare_sentencepiece_data(df, output_file):\n",
    "    with open(output_file, 'w', encoding='utf-8') as f:\n",
    "        for text in df['document']:\n",
    "            if isinstance(text, str) and text.strip():  # 빈 문자열 제외\n",
    "                f.write(text + '\\n')\n",
    "prepare_sentencepiece_data(df_train, 'naver_corpus.txt')"
   ]
  },
  {
   "cell_type": "code",
   "execution_count": 10,
   "id": "be2229da",
   "metadata": {},
   "outputs": [
    {
     "name": "stdout",
     "output_type": "stream",
     "text": [
      "Sentence count in corpus (after file write): 143894\n"
     ]
    }
   ],
   "source": [
    "with open('naver_corpus.txt', 'r', encoding='utf-8') as f:\n",
    "    corpus_lines = f.readlines()\n",
    "print(f\"Sentence count in corpus (after file write): {len(corpus_lines)}\")"
   ]
  },
  {
   "cell_type": "code",
   "execution_count": 11,
   "id": "b54bcb57",
   "metadata": {},
   "outputs": [
    {
     "name": "stderr",
     "output_type": "stream",
     "text": [
      "sentencepiece_trainer.cc(177) LOG(INFO) Running command: --input=naver_corpus.txt --model_prefix=sp_model --vocab_size=5000 --model_type=bpe --minloglevel=0\n",
      "sentencepiece_trainer.cc(77) LOG(INFO) Starts training with : \n",
      "trainer_spec {\n",
      "  input: naver_corpus.txt\n",
      "  input_format: \n",
      "  model_prefix: sp_model\n",
      "  model_type: BPE\n",
      "  vocab_size: 5000\n",
      "  self_test_sample_size: 0\n",
      "  character_coverage: 0.9995\n",
      "  input_sentence_size: 0\n",
      "  shuffle_input_sentence: 1\n",
      "  seed_sentencepiece_size: 1000000\n",
      "  shrinking_factor: 0.75\n",
      "  max_sentence_length: 4192\n",
      "  num_threads: 16\n",
      "  num_sub_iterations: 2\n",
      "  max_sentencepiece_length: 16\n",
      "  split_by_unicode_script: 1\n",
      "  split_by_number: 1\n",
      "  split_by_whitespace: 1\n",
      "  split_digits: 0\n",
      "  treat_whitespace_as_suffix: 0\n",
      "  allow_whitespace_only_pieces: 0\n",
      "  required_chars: \n",
      "  byte_fallback: 0\n",
      "  vocabulary_output_piece_score: 1\n",
      "  train_extremely_large_corpus: 0\n",
      "  hard_vocab_limit: 1\n",
      "  use_all_vocab: 0\n",
      "  unk_id: 0\n",
      "  bos_id: 1\n",
      "  eos_id: 2\n",
      "  pad_id: -1\n",
      "  unk_piece: <unk>\n",
      "  bos_piece: <s>\n",
      "  eos_piece: </s>\n",
      "  pad_piece: <pad>\n",
      "  unk_surface:  ⁇ \n",
      "}\n",
      "normalizer_spec {\n",
      "  name: nmt_nfkc\n",
      "  add_dummy_prefix: 1\n",
      "  remove_extra_whitespaces: 1\n",
      "  escape_whitespaces: 1\n",
      "  normalization_rule_tsv: \n",
      "}\n",
      "denormalizer_spec {}\n",
      "trainer_interface.cc(329) LOG(INFO) SentenceIterator is not specified. Using MultiFileSentenceIterator.\n",
      "trainer_interface.cc(178) LOG(INFO) Loading corpus: naver_corpus.txt\n",
      "trainer_interface.cc(385) LOG(INFO) Loaded all 143894 sentences\n",
      "trainer_interface.cc(400) LOG(INFO) Adding meta_piece: <unk>\n",
      "trainer_interface.cc(400) LOG(INFO) Adding meta_piece: <s>\n",
      "trainer_interface.cc(400) LOG(INFO) Adding meta_piece: </s>\n",
      "trainer_interface.cc(405) LOG(INFO) Normalizing sentences...\n",
      "trainer_interface.cc(466) LOG(INFO) all chars count=4945989\n",
      "trainer_interface.cc(477) LOG(INFO) Done: 99.9501% characters are covered.\n",
      "trainer_interface.cc(487) LOG(INFO) Alphabet size=1577\n",
      "trainer_interface.cc(488) LOG(INFO) Final character coverage=0.999501\n",
      "trainer_interface.cc(520) LOG(INFO) Done! preprocessed 143894 sentences.\n",
      "trainer_interface.cc(526) LOG(INFO) Tokenizing input sentences with whitespace: 143894\n",
      "trainer_interface.cc(537) LOG(INFO) Done! 302893\n",
      "bpe_model_trainer.cc(167) LOG(INFO) Updating active symbols. max_freq=58653 min_freq=83\n",
      "bpe_model_trainer.cc(258) LOG(INFO) Added: freq=10576 size=20 all=113679 active=11031 piece=▁내\n",
      "bpe_model_trainer.cc(258) LOG(INFO) Added: freq=8114 size=40 all=118372 active=15724 piece=에서\n",
      "bpe_model_trainer.cc(258) LOG(INFO) Added: freq=5713 size=60 all=122235 active=19587 piece=▁더\n",
      "bpe_model_trainer.cc(258) LOG(INFO) Added: freq=4753 size=80 all=127285 active=24637 piece=▁같\n",
      "bpe_model_trainer.cc(258) LOG(INFO) Added: freq=3987 size=100 all=130871 active=28223 piece=보다\n",
      "bpe_model_trainer.cc(167) LOG(INFO) Updating active symbols. max_freq=3944 min_freq=68\n",
      "bpe_model_trainer.cc(258) LOG(INFO) Added: freq=3546 size=120 all=133970 active=9129 piece=▁뭐\n",
      "bpe_model_trainer.cc(258) LOG(INFO) Added: freq=2989 size=140 all=136579 active=11738 piece=▁참\n",
      "bpe_model_trainer.cc(258) LOG(INFO) Added: freq=2719 size=160 all=138958 active=14117 piece=▁상\n",
      "bpe_model_trainer.cc(258) LOG(INFO) Added: freq=2462 size=180 all=141619 active=16778 piece=지는\n",
      "bpe_model_trainer.cc(258) LOG(INFO) Added: freq=2279 size=200 all=144110 active=19269 piece=▁코\n",
      "bpe_model_trainer.cc(167) LOG(INFO) Updating active symbols. max_freq=2278 min_freq=61\n",
      "bpe_model_trainer.cc(258) LOG(INFO) Added: freq=2100 size=220 all=146853 active=9860 piece=했다\n",
      "bpe_model_trainer.cc(258) LOG(INFO) Added: freq=1933 size=240 all=150240 active=13247 piece=▁허\n",
      "bpe_model_trainer.cc(258) LOG(INFO) Added: freq=1811 size=260 all=152967 active=15974 piece=▁로\n",
      "bpe_model_trainer.cc(258) LOG(INFO) Added: freq=1725 size=280 all=155006 active=18013 piece=▁재밌게\n",
      "bpe_model_trainer.cc(258) LOG(INFO) Added: freq=1586 size=300 all=157134 active=20141 piece=▁엄\n",
      "bpe_model_trainer.cc(167) LOG(INFO) Updating active symbols. max_freq=1586 min_freq=55\n",
      "bpe_model_trainer.cc(258) LOG(INFO) Added: freq=1455 size=320 all=159205 active=9886 piece=▁단\n",
      "bpe_model_trainer.cc(258) LOG(INFO) Added: freq=1399 size=340 all=160879 active=11560 piece=아서\n",
      "bpe_model_trainer.cc(258) LOG(INFO) Added: freq=1322 size=360 all=163637 active=14318 piece=였다\n",
      "bpe_model_trainer.cc(258) LOG(INFO) Added: freq=1246 size=380 all=166202 active=16883 piece=▁OO\n",
      "bpe_model_trainer.cc(258) LOG(INFO) Added: freq=1209 size=400 all=168367 active=19048 piece=하지만\n",
      "bpe_model_trainer.cc(167) LOG(INFO) Updating active symbols. max_freq=1207 min_freq=50\n",
      "bpe_model_trainer.cc(258) LOG(INFO) Added: freq=1156 size=420 all=170350 active=10104 piece=려고\n",
      "bpe_model_trainer.cc(258) LOG(INFO) Added: freq=1096 size=440 all=172631 active=12385 piece=▁극장\n",
      "bpe_model_trainer.cc(258) LOG(INFO) Added: freq=1057 size=460 all=174294 active=14048 piece=▁억지\n",
      "bpe_model_trainer.cc(258) LOG(INFO) Added: freq=998 size=480 all=176429 active=16183 piece=▁전혀\n",
      "bpe_model_trainer.cc(258) LOG(INFO) Added: freq=956 size=500 all=177941 active=17695 piece=했던\n",
      "bpe_model_trainer.cc(167) LOG(INFO) Updating active symbols. max_freq=954 min_freq=46\n",
      "bpe_model_trainer.cc(258) LOG(INFO) Added: freq=917 size=520 all=179986 active=10676 piece=▁재밋\n",
      "bpe_model_trainer.cc(258) LOG(INFO) Added: freq=886 size=540 all=181969 active=12659 piece=▁크\n",
      "bpe_model_trainer.cc(258) LOG(INFO) Added: freq=863 size=560 all=184727 active=15417 piece=▁이걸\n",
      "bpe_model_trainer.cc(258) LOG(INFO) Added: freq=840 size=580 all=186716 active=17406 piece=영화는\n",
      "bpe_model_trainer.cc(258) LOG(INFO) Added: freq=810 size=600 all=189288 active=19978 piece=▁모습\n",
      "bpe_model_trainer.cc(167) LOG(INFO) Updating active symbols. max_freq=810 min_freq=42\n",
      "bpe_model_trainer.cc(258) LOG(INFO) Added: freq=778 size=620 all=190918 active=11050 piece=보면\n",
      "bpe_model_trainer.cc(258) LOG(INFO) Added: freq=763 size=640 all=193411 active=13543 piece=▁느껴\n",
      "bpe_model_trainer.cc(258) LOG(INFO) Added: freq=745 size=660 all=195577 active=15709 piece=들도\n",
      "bpe_model_trainer.cc(258) LOG(INFO) Added: freq=718 size=680 all=197284 active=17416 piece=▁내용도\n",
      "bpe_model_trainer.cc(258) LOG(INFO) Added: freq=693 size=700 all=198915 active=19047 piece=▁날\n",
      "bpe_model_trainer.cc(167) LOG(INFO) Updating active symbols. max_freq=693 min_freq=39\n",
      "bpe_model_trainer.cc(258) LOG(INFO) Added: freq=666 size=720 all=200411 active=11365 piece=▁싶다\n",
      "bpe_model_trainer.cc(258) LOG(INFO) Added: freq=654 size=740 all=201790 active=12744 piece=▁남는\n",
      "bpe_model_trainer.cc(258) LOG(INFO) Added: freq=637 size=760 all=203295 active=14249 piece=▁따뜻\n",
      "bpe_model_trainer.cc(258) LOG(INFO) Added: freq=624 size=780 all=204846 active=15800 piece=하는데\n",
      "bpe_model_trainer.cc(258) LOG(INFO) Added: freq=610 size=800 all=206065 active=17019 piece=▁희\n",
      "bpe_model_trainer.cc(167) LOG(INFO) Updating active symbols. max_freq=610 min_freq=37\n",
      "bpe_model_trainer.cc(258) LOG(INFO) Added: freq=599 size=820 all=207725 active=11934 piece=▁언제\n",
      "bpe_model_trainer.cc(258) LOG(INFO) Added: freq=579 size=840 all=208926 active=13135 piece=▁마지막에\n",
      "bpe_model_trainer.cc(258) LOG(INFO) Added: freq=564 size=860 all=210129 active=14338 piece=▁재미가\n",
      "bpe_model_trainer.cc(258) LOG(INFO) Added: freq=553 size=880 all=211738 active=15947 piece=▁없이\n",
      "bpe_model_trainer.cc(258) LOG(INFO) Added: freq=542 size=900 all=213160 active=17369 piece=▁흐\n",
      "bpe_model_trainer.cc(167) LOG(INFO) Updating active symbols. max_freq=540 min_freq=35\n",
      "bpe_model_trainer.cc(258) LOG(INFO) Added: freq=531 size=920 all=214364 active=11824 piece=▁함께\n",
      "bpe_model_trainer.cc(258) LOG(INFO) Added: freq=521 size=940 all=215319 active=12779 piece=▁뛰\n",
      "bpe_model_trainer.cc(258) LOG(INFO) Added: freq=513 size=960 all=216331 active=13791 piece=▁포스터\n",
      "bpe_model_trainer.cc(258) LOG(INFO) Added: freq=498 size=980 all=217835 active=15295 piece=▁맘\n",
      "bpe_model_trainer.cc(258) LOG(INFO) Added: freq=486 size=1000 all=218953 active=16413 piec"
     ]
    }
   ],
   "source": [
    "# SentencePiece 모델 학습\n",
    "VOCAB_SIZE = 5000\n",
    "MODEL_TYPE = 'bpe'  # unigram, bpe, word, char 중 선택 가능\n",
    "spm.SentencePieceTrainer.Train(f'--input=naver_corpus.txt --model_prefix=sp_model --vocab_size={VOCAB_SIZE} --model_type={MODEL_TYPE} --minloglevel=0')"
   ]
  },
  {
   "cell_type": "code",
   "execution_count": 12,
   "id": "ad47b8b3",
   "metadata": {},
   "outputs": [
    {
     "name": "stderr",
     "output_type": "stream",
     "text": [
      "e=▁돌아\n",
      "bpe_model_trainer.cc(167) LOG(INFO) Updating active symbols. max_freq=486 min_freq=34\n",
      "bpe_model_trainer.cc(258) LOG(INFO) Added: freq=476 size=1020 all=220977 active=12942 piece=▁충격\n",
      "bpe_model_trainer.cc(258) LOG(INFO) Added: freq=465 size=1040 all=222983 active=14948 piece=▁낫\n",
      "bpe_model_trainer.cc(258) LOG(INFO) Added: freq=453 size=1060 all=224050 active=16015 piece=▁따라\n",
      "bpe_model_trainer.cc(258) LOG(INFO) Added: freq=440 size=1080 all=225210 active=17175 piece=▁괴\n",
      "bpe_model_trainer.cc(258) LOG(INFO) Added: freq=431 size=1100 all=226444 active=18409 piece=수있\n",
      "bpe_model_trainer.cc(167) LOG(INFO) Updating active symbols. max_freq=431 min_freq=32\n",
      "bpe_model_trainer.cc(258) LOG(INFO) Added: freq=422 size=1120 all=227759 active=12545 piece=▁너\n",
      "bpe_model_trainer.cc(258) LOG(INFO) Added: freq=414 size=1140 all=229279 active=14065 piece=▁훨씬\n",
      "bpe_model_trainer.cc(258) LOG(INFO) Added: freq=404 size=1160 all=230953 active=15739 piece=▁갈수록\n",
      "bpe_model_trainer.cc(258) LOG(INFO) Added: freq=395 size=1180 all=232244 active=17030 piece=▁키\n",
      "bpe_model_trainer.cc(258) LOG(INFO) Added: freq=387 size=1200 all=233667 active=18453 piece=▁네이버\n",
      "bpe_model_trainer.cc(167) LOG(INFO) Updating active symbols. max_freq=387 min_freq=31\n",
      "bpe_model_trainer.cc(258) LOG(INFO) Added: freq=381 size=1220 all=234809 active=12793 piece=▁티비\n",
      "bpe_model_trainer.cc(258) LOG(INFO) Added: freq=376 size=1240 all=236094 active=14078 piece=수준\n",
      "bpe_model_trainer.cc(258) LOG(INFO) Added: freq=364 size=1260 all=237715 active=15699 piece=▁테\n",
      "bpe_model_trainer.cc(258) LOG(INFO) Added: freq=359 size=1280 all=238866 active=16850 piece=▁성룡\n",
      "bpe_model_trainer.cc(258) LOG(INFO) Added: freq=353 size=1300 all=240119 active=18103 piece=론가\n",
      "bpe_model_trainer.cc(167) LOG(INFO) Updating active symbols. max_freq=353 min_freq=30\n",
      "bpe_model_trainer.cc(258) LOG(INFO) Added: freq=349 size=1320 all=241177 active=13012 piece=▁사회\n",
      "bpe_model_trainer.cc(258) LOG(INFO) Added: freq=344 size=1340 all=242545 active=14380 piece=았던\n",
      "bpe_model_trainer.cc(258) LOG(INFO) Added: freq=339 size=1360 all=243795 active=15630 piece=▁그대로\n",
      "bpe_model_trainer.cc(258) LOG(INFO) Added: freq=333 size=1380 all=245086 active=16921 piece=잖아\n",
      "bpe_model_trainer.cc(258) LOG(INFO) Added: freq=327 size=1400 all=246477 active=18312 piece=아깝다\n",
      "bpe_model_trainer.cc(167) LOG(INFO) Updating active symbols. max_freq=327 min_freq=28\n",
      "bpe_model_trainer.cc(258) LOG(INFO) Added: freq=318 size=1420 all=247745 active=13510 piece=▁봣\n",
      "bpe_model_trainer.cc(258) LOG(INFO) Added: freq=314 size=1440 all=249393 active=15158 piece=▁이번\n",
      "bpe_model_trainer.cc(258) LOG(INFO) Added: freq=308 size=1460 all=250450 active=16215 piece=에선\n",
      "bpe_model_trainer.cc(258) LOG(INFO) Added: freq=303 size=1480 all=251853 active=17618 piece=▁머리\n",
      "bpe_model_trainer.cc(258) LOG(INFO) Added: freq=298 size=1500 all=252716 active=18481 piece=일이\n",
      "bpe_model_trainer.cc(167) LOG(INFO) Updating active symbols. max_freq=298 min_freq=27\n",
      "bpe_model_trainer.cc(258) LOG(INFO) Added: freq=293 size=1520 all=253725 active=13524 piece=스럽고\n",
      "bpe_model_trainer.cc(258) LOG(INFO) Added: freq=289 size=1540 all=254658 active=14457 piece=와서\n",
      "bpe_model_trainer.cc(258) LOG(INFO) Added: freq=286 size=1560 all=255419 active=15218 piece=▁탄탄\n",
      "bpe_model_trainer.cc(258) LOG(INFO) Added: freq=282 size=1580 all=256309 active=16108 piece=▁비해\n",
      "bpe_model_trainer.cc(258) LOG(INFO) Added: freq=278 size=1600 all=257225 active=17024 piece=▁주인공이\n",
      "bpe_model_trainer.cc(167) LOG(INFO) Updating active symbols. max_freq=277 min_freq=27\n",
      "bpe_model_trainer.cc(258) LOG(INFO) Added: freq=272 size=1620 all=258514 active=14132 piece=▁아까움\n",
      "bpe_model_trainer.cc(258) LOG(INFO) Added: freq=268 size=1640 all=259885 active=15503 piece=▁젊\n",
      "bpe_model_trainer.cc(258) LOG(INFO) Added: freq=264 size=1660 all=261024 active=16642 piece=▁소중\n",
      "bpe_model_trainer.cc(258) LOG(INFO) Added: freq=261 size=1680 all=262059 active=17677 piece=▁전개가\n",
      "bpe_model_trainer.cc(258) LOG(INFO) Added: freq=258 size=1700 all=263479 active=19097 piece=촬영\n",
      "bpe_model_trainer.cc(167) LOG(INFO) Updating active symbols. max_freq=258 min_freq=26\n",
      "bpe_model_trainer.cc(258) LOG(INFO) Added: freq=256 size=1720 all=264445 active=14040 piece=▁깔\n",
      "bpe_model_trainer.cc(258) LOG(INFO) Added: freq=252 size=1740 all=265295 active=14890 piece=▁쓴\n",
      "bpe_model_trainer.cc(258) LOG(INFO) Added: freq=249 size=1760 all=266471 active=16066 piece=▁사람들은\n",
      "bpe_model_trainer.cc(258) LOG(INFO) Added: freq=245 size=1780 all=267792 active=17387 piece=▁영화인\n",
      "bpe_model_trainer.cc(258) LOG(INFO) Added: freq=241 size=1800 all=268999 active=18594 piece=▁그래픽\n",
      "bpe_model_trainer.cc(167) LOG(INFO) Updating active symbols. max_freq=241 min_freq=25\n",
      "bpe_model_trainer.cc(258) LOG(INFO) Added: freq=238 size=1820 all=269953 active=14363 piece=▁전설\n",
      "bpe_model_trainer.cc(258) LOG(INFO) Added: freq=235 size=1840 all=271027 active=15437 piece=▁그럴\n",
      "bpe_model_trainer.cc(258) LOG(INFO) Added: freq=232 size=1860 all=271744 active=16154 piece=▁SF\n",
      "bpe_model_trainer.cc(258) LOG(INFO) Added: freq=230 size=1880 all=272411 active=16821 piece=▁입니다\n",
      "bpe_model_trainer.cc(258) LOG(INFO) Added: freq=227 size=1900 all=273595 active=18005 piece=은데\n",
      "bpe_model_trainer.cc(167) LOG(INFO) Updating active symbols. max_freq=227 min_freq=24\n",
      "bpe_model_trainer.cc(258) LOG(INFO) Added: freq=224 size=1920 all=274703 active=14727 piece=지금\n",
      "bpe_model_trainer.cc(258) LOG(INFO) Added: freq=221 size=1940 all=275822 active=15846 piece=웠던\n",
      "bpe_model_trainer.cc(258) LOG(INFO) Added: freq=219 size=1960 all=276743 active=16767 piece=▁노력\n",
      "bpe_model_trainer.cc(258) LOG(INFO) Added: freq=217 size=1980 all=277957 active=17981 piece=▁다운받\n",
      "bpe_model_trainer.cc(258) LOG(INFO) Added: freq=214 size=2000 all=278790 active=18814 piece=▁전작\n",
      "bpe_model_trainer.cc(167) LOG(INFO) Updating active symbols. max_freq=214 min_freq=23\n",
      "bpe_model_trainer.cc(258) LOG(INFO) Added: freq=211 size=2020 all=279665 active=14786 piece=▁목소리\n",
      "bpe_model_trainer.cc(258) LOG(INFO) Added: freq=207 size=2040 all=280472 active=15593 piece=▁류\n",
      "bpe_model_trainer.cc(258) LOG(INFO) Added: freq=205 size=2060 all=281273 active=16394 piece=▁합\n",
      "bpe_model_trainer.cc(258) LOG(INFO) Added: freq=203 size=2080 all=282249 active=17370 piece=최고의\n",
      "bpe_model_trainer.cc(258) LOG(INFO) Added: freq=200 size=2100 all=283143 active=18264 piece=개봉\n",
      "bpe_model_trainer.cc(167) LOG(INFO) Updating active symbols. max_freq=200 min_freq=23\n",
      "bpe_model_trainer.cc(258) LOG(INFO) Added: freq=199 size=2120 all=284012 active=14898 piece=▁생각한다\n",
      "bpe_model_trainer.cc(258) LOG(INFO) Added: freq=196 size=2140 all=284827 active=15713 piece=▁눈이\n",
      "bpe_model_trainer.cc(258) LOG(INFO) Added: freq=195 size=2160 all=285674 active=16560 piece=▁소재는\n",
      "bpe_model_trainer.cc(258) LOG(INFO) Added: freq=193 size=2180 all=286608 active=17494 piece=▁샤\n",
      "bpe_model_trainer.cc(258) LOG(INFO) Added: freq=191 size=2200 all=287525 active=18411 piece=▁늙\n",
      "bpe_model_trainer.cc(167) LOG(INFO) Updating active symbols. max_freq=191 min_freq=22\n",
      "bpe_model_trainer.cc(258) LOG(INFO) Added: freq=190 size=2220 all=288466 active=15287 piece=▁인상깊\n",
      "bpe_model_trainer.cc(258) LOG(INFO) Added: freq=187 size=2240 all=289389 active=16210 piece=▁와닿\n",
      "bpe_model_trainer.cc(258) LOG(INFO) Added: freq=185 size=2260 all=290244 active=17065 piece=사람들\n",
      "bpe_model_trainer.cc(258) LOG(INFO) Added: freq=184 size=2280 all=291443 active=18264 piece=▁영화보고\n",
      "bpe_model_trainer.cc(258) LOG(INFO) Added: freq=182 size=2300 all=292280 active=19101 piece=▁재밌었어요\n",
      "bpe_model_trainer.cc(167) LOG(INFO) Updating active symbols. max_freq=181 min_freq=22\n",
      "bpe_model_trainer.cc(258) LOG(INFO) Added: freq=180 size=2320 all=293506 active=15827 piece=▁실패\n",
      "bpe_model_trainer.cc(258) LOG(INFO) Added: freq=179 size=2340 all"
     ]
    },
    {
     "data": {
      "text/plain": [
       "True"
      ]
     },
     "execution_count": 12,
     "metadata": {},
     "output_type": "execute_result"
    },
    {
     "name": "stderr",
     "output_type": "stream",
     "text": [
      "=294400 active=16721 piece=▁카메라\n",
      "bpe_model_trainer.cc(258) LOG(INFO) Added: freq=177 size=2360 all=295283 active=17604 piece=▁드는\n",
      "bpe_model_trainer.cc(258) LOG(INFO) Added: freq=175 size=2380 all=296014 active=18335 piece=하세요\n",
      "bpe_model_trainer.cc(258) LOG(INFO) Added: freq=173 size=2400 all=296830 active=19151 piece=▁특별\n",
      "bpe_model_trainer.cc(167) LOG(INFO) Updating active symbols. max_freq=173 min_freq=21\n",
      "bpe_model_trainer.cc(258) LOG(INFO) Added: freq=172 size=2420 all=297679 active=15668 piece=▁독특한\n",
      "bpe_model_trainer.cc(258) LOG(INFO) Added: freq=171 size=2440 all=298394 active=16383 piece=▁유쾌한\n",
      "bpe_model_trainer.cc(258) LOG(INFO) Added: freq=169 size=2460 all=299075 active=17064 piece=▁기대를\n",
      "bpe_model_trainer.cc(258) LOG(INFO) Added: freq=167 size=2480 all=299874 active=17863 piece=▁악역\n",
      "bpe_model_trainer.cc(258) LOG(INFO) Added: freq=165 size=2500 all=300766 active=18755 piece=▁깔끔\n",
      "bpe_model_trainer.cc(167) LOG(INFO) Updating active symbols. max_freq=165 min_freq=21\n",
      "bpe_model_trainer.cc(258) LOG(INFO) Added: freq=164 size=2520 all=301651 active=15903 piece=▁스트\n",
      "bpe_model_trainer.cc(258) LOG(INFO) Added: freq=162 size=2540 all=302552 active=16804 piece=디어\n",
      "bpe_model_trainer.cc(258) LOG(INFO) Added: freq=161 size=2560 all=303318 active=17570 piece=▁나타\n",
      "bpe_model_trainer.cc(258) LOG(INFO) Added: freq=160 size=2580 all=303903 active=18155 piece=▁이연걸\n",
      "bpe_model_trainer.cc(258) LOG(INFO) Added: freq=158 size=2600 all=304778 active=19030 piece=▁소름끼\n",
      "bpe_model_trainer.cc(167) LOG(INFO) Updating active symbols. max_freq=158 min_freq=20\n",
      "bpe_model_trainer.cc(258) LOG(INFO) Added: freq=156 size=2620 all=305567 active=16019 piece=12\n",
      "bpe_model_trainer.cc(258) LOG(INFO) Added: freq=155 size=2640 all=306394 active=16846 piece=▁썩\n",
      "bpe_model_trainer.cc(258) LOG(INFO) Added: freq=154 size=2660 all=307346 active=17798 piece=이니\n",
      "bpe_model_trainer.cc(258) LOG(INFO) Added: freq=153 size=2680 all=308082 active=18534 piece=▁이유는\n",
      "bpe_model_trainer.cc(258) LOG(INFO) Added: freq=151 size=2700 all=308703 active=19155 piece=▁퇴\n",
      "bpe_model_trainer.cc(167) LOG(INFO) Updating active symbols. max_freq=151 min_freq=20\n",
      "bpe_model_trainer.cc(258) LOG(INFO) Added: freq=150 size=2720 all=309678 active=16388 piece=할까\n",
      "bpe_model_trainer.cc(258) LOG(INFO) Added: freq=149 size=2740 all=310193 active=16903 piece=명의\n",
      "bpe_model_trainer.cc(258) LOG(INFO) Added: freq=148 size=2760 all=310893 active=17603 piece=▁맡\n",
      "bpe_model_trainer.cc(258) LOG(INFO) Added: freq=147 size=2780 all=311779 active=18489 piece=▁컨\n",
      "bpe_model_trainer.cc(258) LOG(INFO) Added: freq=146 size=2800 all=312500 active=19210 piece=▁조잡\n",
      "bpe_model_trainer.cc(167) LOG(INFO) Updating active symbols. max_freq=146 min_freq=19\n",
      "bpe_model_trainer.cc(258) LOG(INFO) Added: freq=145 size=2820 all=313132 active=16232 piece=평점이\n",
      "bpe_model_trainer.cc(258) LOG(INFO) Added: freq=144 size=2840 all=314031 active=17131 piece=▁일부\n",
      "bpe_model_trainer.cc(258) LOG(INFO) Added: freq=142 size=2860 all=314863 active=17963 piece=▁가까\n",
      "bpe_model_trainer.cc(258) LOG(INFO) Added: freq=141 size=2880 all=315623 active=18723 piece=▁오랫\n",
      "bpe_model_trainer.cc(258) LOG(INFO) Added: freq=140 size=2900 all=316438 active=19538 piece=▁않게\n",
      "bpe_model_trainer.cc(167) LOG(INFO) Updating active symbols. max_freq=140 min_freq=19\n",
      "bpe_model_trainer.cc(258) LOG(INFO) Added: freq=139 size=2920 all=316996 active=16377 piece=▁아나\n",
      "bpe_model_trainer.cc(258) LOG(INFO) Added: freq=138 size=2940 all=317869 active=17250 piece=▁살다\n",
      "bpe_model_trainer.cc(258) LOG(INFO) Added: freq=137 size=2960 all=318440 active=17821 piece=▁폭력\n",
      "bpe_model_trainer.cc(258) LOG(INFO) Added: freq=136 size=2980 all=319204 active=18585 piece=연기도\n",
      "bpe_model_trainer.cc(258) LOG(INFO) Added: freq=135 size=3000 all=320087 active=19468 piece=▁정신병\n",
      "bpe_model_trainer.cc(167) LOG(INFO) Updating active symbols. max_freq=135 min_freq=18\n",
      "bpe_model_trainer.cc(258) LOG(INFO) Added: freq=134 size=3020 all=320667 active=16559 piece=▁어머니\n",
      "bpe_model_trainer.cc(258) LOG(INFO) Added: freq=133 size=3040 all=321384 active=17276 piece=아니라\n",
      "bpe_model_trainer.cc(258) LOG(INFO) Added: freq=132 size=3060 all=322068 active=17960 piece=랍니다\n",
      "bpe_model_trainer.cc(258) LOG(INFO) Added: freq=131 size=3080 all=322846 active=18738 piece=▁보니까\n",
      "bpe_model_trainer.cc(258) LOG(INFO) Added: freq=130 size=3100 all=323360 active=19252 piece=▁스스로\n",
      "bpe_model_trainer.cc(167) LOG(INFO) Updating active symbols. max_freq=129 min_freq=18\n",
      "bpe_model_trainer.cc(258) LOG(INFO) Added: freq=129 size=3120 all=324246 active=17045 piece=▁같아서\n",
      "bpe_model_trainer.cc(258) LOG(INFO) Added: freq=128 size=3140 all=325060 active=17859 piece=▁하하\n",
      "bpe_model_trainer.cc(258) LOG(INFO) Added: freq=127 size=3160 all=325462 active=18260 piece=▁청소년\n",
      "bpe_model_trainer.cc(258) LOG(INFO) Added: freq=126 size=3180 all=326185 active=18983 piece=아까움\n",
      "bpe_model_trainer.cc(258) LOG(INFO) Added: freq=124 size=3200 all=326854 active=19652 piece=긴다\n",
      "bpe_model_trainer.cc(167) LOG(INFO) Updating active symbols. max_freq=124 min_freq=18\n",
      "bpe_model_trainer.cc(258) LOG(INFO) Added: freq=124 size=3220 all=327330 active=16771 piece=▁대사가\n",
      "bpe_model_trainer.cc(258) LOG(INFO) Added: freq=123 size=3240 all=328146 active=17587 piece=▁믿을\n",
      "bpe_model_trainer.cc(258) LOG(INFO) Added: freq=122 size=3260 all=328959 active=18400 piece=▁볼게\n",
      "bpe_model_trainer.cc(258) LOG(INFO) Added: freq=121 size=3280 all=329911 active=19352 piece=키는\n",
      "bpe_model_trainer.cc(258) LOG(INFO) Added: freq=121 size=3300 all=330232 active=19673 piece=▁시간가는\n",
      "bpe_model_trainer.cc(167) LOG(INFO) Updating active symbols. max_freq=120 min_freq=17\n",
      "bpe_model_trainer.cc(258) LOG(INFO) Added: freq=120 size=3320 all=331072 active=17349 piece=▁이쁘고\n",
      "bpe_model_trainer.cc(258) LOG(INFO) Added: freq=118 size=3340 all=331825 active=18102 piece"
     ]
    }
   ],
   "source": [
    "# SentencePiece 모델 로드\n",
    "sp = spm.SentencePieceProcessor()\n",
    "sp.load('sp_model.model')"
   ]
  },
  {
   "cell_type": "code",
   "execution_count": 13,
   "id": "9d301630",
   "metadata": {},
   "outputs": [
    {
     "name": "stdout",
     "output_type": "stream",
     "text": [
      "Tokenized IDs: [6, 3597, 834, 3673, 3435, 1329, 3431, 3525, 3425, 0]\n",
      "Decoded Sentence: 아버지가방에들어가신다 ⁇ \n"
     ]
    },
    {
     "name": "stderr",
     "output_type": "stream",
     "text": [
      "=▁f\n",
      "bpe_model_trainer.cc(258) LOG(INFO) Added: freq=117 size=3360 all=332244 active=18521 piece=ov\n",
      "bpe_model_trainer.cc(258) LOG(INFO) Added: freq=117 size=3380 all=332868 active=19145 piece=봤습니다\n",
      "bpe_model_trainer.cc(258) LOG(INFO) Added: freq=116 size=3400 all=333436 active=19713 piece=▁최강\n",
      "bpe_model_trainer.cc(167) LOG(INFO) Updating active symbols. max_freq=116 min_freq=17\n",
      "bpe_model_trainer.cc(258) LOG(INFO) Added: freq=115 size=3420 all=334149 active=17357 piece=▁신파\n",
      "trainer_interface.cc(615) LOG(INFO) Saving model: sp_model.model\n",
      "trainer_interface.cc(626) LOG(INFO) Saving vocabs: sp_model.vocab\n"
     ]
    }
   ],
   "source": [
    "# SentencePiece를 활용한 인코딩 및 디코딩 예제\n",
    "sample_sentence = \"아버지가방에들어가신다.\"\n",
    "token_ids = sp.encode_as_ids(sample_sentence)\n",
    "print(\"Tokenized IDs:\", token_ids)\n",
    "print(\"Decoded Sentence:\", sp.decode_ids(token_ids))"
   ]
  },
  {
   "cell_type": "code",
   "execution_count": 14,
   "id": "612df8aa",
   "metadata": {},
   "outputs": [],
   "source": [
    "# SentencePiece 기반 토큰화 함수\n",
    "def sp_tokenize(s, corpus, maxlen): \n",
    "    tensor = [s.encode_as_ids(sen) for sen in corpus]\n",
    "    tensor = pad_sequences(tensor, maxlen=maxlen, padding='post')\n",
    "    return tensor"
   ]
  },
  {
   "cell_type": "code",
   "execution_count": 15,
   "id": "cef2d197",
   "metadata": {},
   "outputs": [],
   "source": [
    "# max_length를 데이터 기반으로 설정\n",
    "max_length = 65\n",
    "X = sp_tokenize(sp, df_train['document'].tolist(), max_length)\n",
    "y = np.array(df_train['label'].tolist())\n",
    "\n",
    "# 데이터셋을 학습용(90%), 검증용(10%)으로 분리 \n",
    "X_train, X_val, y_train, y_val = train_test_split(X, y, test_size=0.1, random_state=42, shuffle=True)"
   ]
  },
  {
   "cell_type": "code",
   "execution_count": 16,
   "id": "22b09549",
   "metadata": {},
   "outputs": [],
   "source": [
    "# 모델 구성\n",
    "model = Sequential([\n",
    "    Embedding(5000, 256, input_length=max_length),\n",
    "    LSTM(128, return_sequences=True),\n",
    "    LSTM(64),\n",
    "    BatchNormalization(),\n",
    "    Dense(64, activation='relu'),\n",
    "    Dropout(0.3),\n",
    "    Dense(1, activation='sigmoid')\n",
    "])"
   ]
  },
  {
   "cell_type": "code",
   "execution_count": 17,
   "id": "4db74d08",
   "metadata": {},
   "outputs": [],
   "source": [
    "model.compile(loss='binary_crossentropy', optimizer='adam', metrics=['accuracy'])"
   ]
  },
  {
   "cell_type": "code",
   "execution_count": 18,
   "id": "999d6df2",
   "metadata": {},
   "outputs": [
    {
     "name": "stdout",
     "output_type": "stream",
     "text": [
      "Epoch 1/5\n",
      "2024/2024 [==============================] - 24s 9ms/step - loss: 0.4476 - accuracy: 0.7724 - val_loss: 0.3547 - val_accuracy: 0.8418\n",
      "Epoch 2/5\n",
      "2024/2024 [==============================] - 18s 9ms/step - loss: 0.3280 - accuracy: 0.8573 - val_loss: 0.3440 - val_accuracy: 0.8416\n",
      "Epoch 3/5\n",
      "2024/2024 [==============================] - 18s 9ms/step - loss: 0.2909 - accuracy: 0.8756 - val_loss: 0.3229 - val_accuracy: 0.8571\n",
      "Epoch 4/5\n",
      "2024/2024 [==============================] - 18s 9ms/step - loss: 0.2587 - accuracy: 0.8918 - val_loss: 0.3404 - val_accuracy: 0.8572\n",
      "Epoch 5/5\n",
      "2024/2024 [==============================] - 18s 9ms/step - loss: 0.2238 - accuracy: 0.9077 - val_loss: 0.3538 - val_accuracy: 0.8477\n"
     ]
    }
   ],
   "source": [
    "# 모델 학습\n",
    "EPOCHS = 5\n",
    "BATCH_SIZE = 64\n",
    "history = model.fit(\n",
    "    X_train, y_train,\n",
    "    epochs=EPOCHS,\n",
    "    batch_size=BATCH_SIZE,\n",
    "    validation_data=(X_val, y_val),\n",
    ")"
   ]
  },
  {
   "cell_type": "code",
   "execution_count": 19,
   "id": "a556fffb",
   "metadata": {},
   "outputs": [
    {
     "data": {
      "image/png": "[encoded data removed]",
      "text/plain": [
       "<Figure size 864x360 with 2 Axes>"
      ]
     },
     "metadata": {
      "needs_background": "light"
     },
     "output_type": "display_data"
    }
   ],
   "source": [
    "# 학습 과정 시각화 (정확도 & 손실 그래프 추가)\n",
    "plt.figure(figsize=(12, 5))\n",
    "plt.subplot(1, 2, 1)\n",
    "plt.plot(history.history['accuracy'], label='Train Accuracy')\n",
    "plt.plot(history.history['val_accuracy'], label='Validation Accuracy')\n",
    "plt.xlabel('Epochs')\n",
    "plt.ylabel('Accuracy')\n",
    "plt.legend()\n",
    "plt.title('Training & Validation Accuracy')\n",
    "\n",
    "plt.subplot(1, 2, 2)\n",
    "plt.plot(history.history['loss'], label='Train Loss')\n",
    "plt.plot(history.history['val_loss'], label='Validation Loss')\n",
    "plt.xlabel('Epochs')\n",
    "plt.ylabel('Loss')\n",
    "plt.legend()\n",
    "plt.title('Training & Validation Loss')\n",
    "\n",
    "plt.show()"
   ]
  },
  {
   "cell_type": "code",
   "execution_count": 20,
   "id": "ef4a88b3",
   "metadata": {},
   "outputs": [],
   "source": [
    "# df_test를 최종 평가 데이터로 사용\n",
    "X_final_test = sp_tokenize(sp, df_test['document'].tolist(), max_length)\n",
    "y_final_test = np.array(df_test['label'].tolist())"
   ]
  },
  {
   "cell_type": "code",
   "execution_count": 21,
   "id": "5ae3c3ae",
   "metadata": {},
   "outputs": [
    {
     "name": "stdout",
     "output_type": "stream",
     "text": [
      "1518/1518 [==============================] - 6s 4ms/step - loss: 0.3594 - accuracy: 0.8454\n"
     ]
    }
   ],
   "source": [
    "# 최종 평가 수행\n",
    "final_score, final_acc = model.evaluate(X_final_test, y_final_test)\n",
    "y_final_pred = (model.predict(X_final_test) > 0.5).astype(\"int32\")"
   ]
  },
  {
   "cell_type": "code",
   "execution_count": 22,
   "id": "5e83a48f",
   "metadata": {},
   "outputs": [
    {
     "name": "stdout",
     "output_type": "stream",
     "text": [
      "Final Test Accuracy: 0.8454\n",
      "Final Classification Report:\n",
      "              precision    recall  f1-score   support\n",
      "\n",
      "           0       0.81      0.91      0.85     24181\n",
      "           1       0.90      0.78      0.84     24371\n",
      "\n",
      "    accuracy                           0.85     48552\n",
      "   macro avg       0.85      0.85      0.84     48552\n",
      "weighted avg       0.85      0.85      0.84     48552\n",
      "\n"
     ]
    }
   ],
   "source": [
    "print(f\"Final Test Accuracy: {final_acc:.4f}\")\n",
    "print(\"Final Classification Report:\")\n",
    "print(classification_report(y_final_test, y_final_pred))"
   ]
  },
  {
   "cell_type": "markdown",
   "id": "8f700c14",
   "metadata": {},
   "source": [
    "### 최종 확인"
   ]
  },
  {
   "cell_type": "code",
   "execution_count": 23,
   "id": "c23149be",
   "metadata": {},
   "outputs": [
    {
     "name": "stdout",
     "output_type": "stream",
     "text": [
      "Original: 다큐멘터리를본기분 이게과연픽션일까하는의문만들었습니다\n",
      "Tokenized: ['▁다큐멘', '터', '리를', '본', '기', '분', '▁이게', '과', '연', '픽', '션', '일까', '하는', '의', '문', '만들', '었습니다']\n",
      "Token IDs: [2495, 3557, 1174, 3523, 3437, 3536, 232, 3513, 3476, 4050, 3624, 1693, 52, 3440, 3615, 569, 799]\n",
      "--------------------------------------------------\n",
      "Original: 시작부터 끝까지 제대로 잘빠진 영화 갠적으로 락 스탁 투 스모킹 배럴즈 보다도 이 영화가 더 잘나왔다고 생각됨 가이 리치 감독이 이 감각으로는 못돌아가겠지\n",
      "Tokenized: ['▁시작', '부터', '▁끝까지', '▁제대로', '▁잘', '빠', '진', '▁영화', '▁', '갠', '적으로', '▁', '락', '▁스', '탁', '▁투', '▁스', '모', '킹', '▁배', '럴', '즈', '▁보다', '도', '▁이', '▁영화가', '▁더', '▁잘', '나왔', '다고', '▁생각', '됨', '▁가', '이', '▁리', '치', '▁감독이', '▁이', '▁감', '각', '으로', '는', '▁못', '돌아', '가', '겠지']\n",
      "Token IDs: [711, 247, 465, 651, 58, 3694, 3471, 4, 3423, 4346, 240, 3423, 3907, 39, 4152, 1094, 39, 3517, 4195, 74, 4059, 3700, 650, 3433, 5, 176, 62, 58, 2987, 201, 78, 3944, 41, 3424, 385, 3539, 712, 5, 24, 3540, 29, 3426, 83, 2659, 3431, 1198]\n",
      "--------------------------------------------------\n",
      "Original: 보다가 자다니껜\n",
      "Tokenized: ['▁보다가', '▁자', '다니', '껜']\n",
      "Token IDs: [684, 80, 471, 0]\n",
      "--------------------------------------------------\n"
     ]
    }
   ],
   "source": [
    "# 1. 샘플 문장 토큰화 결과 확인\n",
    "sample_texts = df_test['document'].sample(3).tolist()\n",
    "for text in sample_texts:\n",
    "    print(f\"Original: {text}\")\n",
    "    print(f\"Tokenized: {sp.encode_as_pieces(text)}\")\n",
    "    print(f\"Token IDs: {sp.encode_as_ids(text)}\")\n",
    "    print(\"-\" * 50)"
   ]
  },
  {
   "cell_type": "code",
   "execution_count": 24,
   "id": "7931543f",
   "metadata": {},
   "outputs": [
    {
     "name": "stdout",
     "output_type": "stream",
     "text": [
      "X_train shape: (129509, 65), X_val shape: (14390, 65), X_final_test shape: (48552, 65)\n"
     ]
    }
   ],
   "source": [
    "# 2. 데이터 패딩 확인\n",
    "print(f\"X_train shape: {X_train.shape}, X_val shape: {X_val.shape}, X_final_test shape: {X_final_test.shape}\")"
   ]
  },
  {
   "cell_type": "code",
   "execution_count": 26,
   "id": "fb7b3151",
   "metadata": {},
   "outputs": [
    {
     "name": "stdout",
     "output_type": "stream",
     "text": [
      "Sentence: 시선이나 내용이 참 기억에 오래 남는 영화 마지막 장면의 Reverse gear가 참 기분 좋았음\n",
      "Predicted: 0.9971 -> Positive (Actual: Positive)\n",
      "--------------------------------------------------\n",
      "Sentence: 잔잔하고 가슴 따뜻한 영화 한국 영화의 재발견\n",
      "Predicted: 0.9830 -> Positive (Actual: Positive)\n",
      "--------------------------------------------------\n",
      "Sentence: 5번째 보는데도 역시 최고앞으로도 평생 두고두고 볼만한 드라마\n",
      "Predicted: 0.9993 -> Positive (Actual: Positive)\n",
      "--------------------------------------------------\n",
      "Sentence: 알바 아님 잼있어요\n",
      "Predicted: 0.9304 -> Positive (Actual: Positive)\n",
      "--------------------------------------------------\n",
      "Sentence: 정말 재밌네요 오랜만에 쟈밌는영화 봤습니다 강츄\n",
      "Predicted: 0.9881 -> Positive (Actual: Positive)\n",
      "--------------------------------------------------\n",
      "Sentence: 감동의 물결이었습니다 눈물나네요 와리스 디리 화이팅\n",
      "Predicted: 0.9688 -> Positive (Actual: Positive)\n",
      "--------------------------------------------------\n",
      "Sentence: 짝퉁 찌끄레기\n",
      "Predicted: 0.0173 -> Negative (Actual: Negative)\n",
      "--------------------------------------------------\n",
      "Sentence: 박보영 이뽀다 그거 말곤 볼게 없다\n",
      "Predicted: 0.0365 -> Negative (Actual: Negative)\n",
      "--------------------------------------------------\n",
      "Sentence: 감독 시마이해라 OO\n",
      "Predicted: 0.0788 -> Negative (Actual: Negative)\n",
      "--------------------------------------------------\n",
      "Sentence: 소설을 보지 않고 영화를 본 나는 마지막 잘가라 은교야  라는 눈물주루룩 떨구며 말하는 박해일의 슬픔이 그대로 가슴에 와 박혔다 나도 나이들고 있으므로슬프다\n",
      "Predicted: 0.9994 -> Positive (Actual: Positive)\n",
      "--------------------------------------------------\n"
     ]
    }
   ],
   "source": [
    "# 3. 모델 예측 확인\n",
    "sample_indices = np.random.choice(len(X_final_test), 10, replace=False)\n",
    "for idx in sample_indices:\n",
    "    pred = model.predict(X_final_test[idx].reshape(1, -1))\n",
    "    label = y_final_test[idx]\n",
    "    print(f\"Sentence: {df_test.iloc[idx]['document']}\")\n",
    "    print(f\"Predicted: {pred[0][0]:.4f} -> {'Positive' if pred[0][0] > 0.5 else 'Negative'} (Actual: {'Positive' if label == 1 else 'Negative'})\")\n",
    "    print(\"-\" * 50)"
   ]
  },
  {
   "cell_type": "code",
   "execution_count": null,
   "id": "a85748ba",
   "metadata": {},
   "outputs": [],
   "source": []
  }
 ],
 "metadata": {
  "kernelspec": {
   "display_name": "Python 3 (ipykernel)",
   "language": "python",
   "name": "python3"
  },
  "language_info": {
   "codemirror_mode": {
    "name": "ipython",
    "version": 3
   },
   "file_extension": ".py",
   "mimetype": "text/x-python",
   "name": "python",
   "nbconvert_exporter": "python",
   "pygments_lexer": "ipython3",
   "version": "3.9.7"
  }
 },
 "nbformat": 4,
 "nbformat_minor": 5
}
