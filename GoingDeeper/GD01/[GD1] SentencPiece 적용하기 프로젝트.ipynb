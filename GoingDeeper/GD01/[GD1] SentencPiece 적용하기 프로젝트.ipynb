{
 "cells": [
  {
   "cell_type": "markdown",
   "id": "b540825a",
   "metadata": {},
   "source": [
    "# GoingDeeper NLP 프로젝트: 멋진 단어사전 만들기\n",
    "\n",
    "- [ ] SentencePiece를 이용하여 모델을 만들기까지의 과정이 정상적으로 진행되었는가?\t\n",
    "        - 코퍼스 분석, 전처리, SentencePiece 적용, 토크나이저 구현 및 동작이 빠짐없이 진행되었는가?\n",
    "- [ ] SentencePiece를 통해 만든 Tokenizer가 자연어처리 모델과 결합하여 동작하는가?\t\n",
    "        - SentencePiece 토크나이저가 적용된 Text Classifier 모델이 정상적으로 수렴하여 80% 이상의 test accuracy가 확인되었다.\n",
    "- [ ] SentencePiece의 성능을 다각도로 비교분석하였는가?\t\n",
    "        - SentencePiece 토크나이저를 활용했을 때의 성능을 다른 토크나이저 혹은 SentencePiece의 다른 옵션의 경우와 비교하여 분석을 체계적으로 진행하였다.\n"
   ]
  },
  {
   "cell_type": "code",
   "execution_count": 1,
   "id": "482afa2a",
   "metadata": {},
   "outputs": [
    {
     "name": "stdout",
     "output_type": "stream",
     "text": [
      "2.6.0\n",
      "1.21.4\n",
      "3.4.3\n",
      "0.5.2\n"
     ]
    }
   ],
   "source": [
    "import tensorflow as tf\n",
    "import numpy as np\n",
    "import matplotlib as plt\n",
    "import konlpy\n",
    "\n",
    "print(tf.__version__)\n",
    "print(np.__version__)\n",
    "print(plt.__version__)\n",
    "print(konlpy.__version__)"
   ]
  },
  {
   "cell_type": "markdown",
   "id": "9a180ee1",
   "metadata": {},
   "source": [
    "### 네이버 영화리뷰 감정 분석 문제에 SentencePiece 적용해보기\n",
    "\n",
    "- 네이버 영화리뷰 감정 분석 코퍼스에 SentencePiece를 적용시킨 모델 학습하기  \n",
    "- 학습된 모델로 sp_tokenize() 메소드 구현하기  \n",
    "- 구현된 토크나이저를 적용하여 네이버 영화리뷰 감정 분석 모델을 재학습하기  \n",
    "- KoNLPy 형태소 분석기를 사용한 모델과 성능 비교하기  \n",
    "- SentencePiece 모델의 model_type, vocab_size 등을 변경해 가면서 성능 개선 여부 확인하기  "
   ]
  },
  {
   "cell_type": "code",
   "execution_count": 2,
   "id": "be46ac95",
   "metadata": {},
   "outputs": [],
   "source": [
    "import sentencepiece as spm\n",
    "import pandas as pd\n",
    "import numpy as np\n",
    "import tensorflow as tf\n",
    "from tensorflow.keras.preprocessing.sequence import pad_sequences\n",
    "from tensorflow.keras.models import Sequential\n",
    "from tensorflow.keras.layers import Embedding, LSTM, Dense, Dropout, BatchNormalization\n",
    "from sklearn.model_selection import train_test_split\n",
    "from konlpy.tag import Mecab\n",
    "import os\n",
    "import matplotlib.pyplot as plt\n",
    "from sklearn.metrics import classification_report, accuracy_score"
   ]
  },
  {
   "cell_type": "markdown",
   "id": "5d0e88bb",
   "metadata": {},
   "source": [
    "### 1.데이터 확인"
   ]
  },
  {
   "cell_type": "code",
   "execution_count": 3,
   "id": "33e7f213",
   "metadata": {},
   "outputs": [],
   "source": [
    "def eda(file_path):\n",
    "    \"\"\"\n",
    "    데이터 파일을 로드하고 결측값을 제거한 후 기본적인 EDA 수행합니다.\n",
    "    \"\"\"\n",
    "    df = pd.read_csv(file_path, sep=\"\\t\").dropna()\n",
    "    print(\"데이터 개수:\", len(df))\n",
    "    print(\"라벨 분포:\")\n",
    "    print(df['label'].value_counts())\n",
    "    df['length'] = df['document'].apply(lambda x: len(str(x)))\n",
    "    print(\"문장 길이 통계:\")\n",
    "    print(df['length'].describe(),'\\n')\n",
    "    return df"
   ]
  },
  {
   "cell_type": "code",
   "execution_count": 4,
   "id": "e3647355",
   "metadata": {},
   "outputs": [
    {
     "name": "stdout",
     "output_type": "stream",
     "text": [
      "데이터 개수: 149995\n",
      "라벨 분포:\n",
      "0    75170\n",
      "1    74825\n",
      "Name: label, dtype: int64\n",
      "문장 길이 통계:\n",
      "count    149995.000000\n",
      "mean         35.204527\n",
      "std          29.531890\n",
      "min           1.000000\n",
      "25%          16.000000\n",
      "50%          27.000000\n",
      "75%          42.000000\n",
      "max         146.000000\n",
      "Name: length, dtype: float64 \n",
      "\n",
      "데이터 개수: 49997\n",
      "라벨 분포:\n",
      "1    25171\n",
      "0    24826\n",
      "Name: label, dtype: int64\n",
      "문장 길이 통계:\n",
      "count    49997.000000\n",
      "mean        35.320259\n",
      "std         29.648310\n",
      "min          1.000000\n",
      "25%         16.000000\n",
      "50%         27.000000\n",
      "75%         43.000000\n",
      "max        144.000000\n",
      "Name: length, dtype: float64 \n",
      "\n"
     ]
    }
   ],
   "source": [
    "df_train = eda(\"./data/ratings_train.txt\")\n",
    "df_test = eda(\"./data/ratings_test.txt\")"
   ]
  },
  {
   "cell_type": "code",
   "execution_count": 5,
   "id": "98331f41",
   "metadata": {},
   "outputs": [],
   "source": [
    "# 데이터 전처리\n",
    "def preprocess_text(df):\n",
    "    df['document'] = df['document'].astype(str).str.strip()\n",
    "    df['document'] = df['document'].str.replace(\"[^가-힣0-9a-zA-Z\\s]\", \"\", regex=True)\n",
    "    return df\n",
    "\n",
    "df_train = preprocess_text(df_train)\n",
    "df_test = preprocess_text(df_test)"
   ]
  },
  {
   "cell_type": "code",
   "execution_count": 6,
   "id": "03a6475c",
   "metadata": {},
   "outputs": [],
   "source": [
    "df_train = df_train.drop_duplicates(subset=['document']).reset_index(drop=True)\n",
    "df_test = df_test.drop_duplicates(subset=['document']).reset_index(drop=True)"
   ]
  },
  {
   "cell_type": "code",
   "execution_count": 7,
   "id": "1fcdec4d",
   "metadata": {
    "scrolled": true
   },
   "outputs": [
    {
     "name": "stdout",
     "output_type": "stream",
     "text": [
      "143899\n"
     ]
    },
    {
     "data": {
      "text/html": [
       "<div>\n",
       "<style scoped>\n",
       "    .dataframe tbody tr th:only-of-type {\n",
       "        vertical-align: middle;\n",
       "    }\n",
       "\n",
       "    .dataframe tbody tr th {\n",
       "        vertical-align: top;\n",
       "    }\n",
       "\n",
       "    .dataframe thead th {\n",
       "        text-align: right;\n",
       "    }\n",
       "</style>\n",
       "<table border=\"1\" class=\"dataframe\">\n",
       "  <thead>\n",
       "    <tr style=\"text-align: right;\">\n",
       "      <th></th>\n",
       "      <th>id</th>\n",
       "      <th>document</th>\n",
       "      <th>label</th>\n",
       "      <th>length</th>\n",
       "    </tr>\n",
       "  </thead>\n",
       "  <tbody>\n",
       "    <tr>\n",
       "      <th>0</th>\n",
       "      <td>9976970</td>\n",
       "      <td>아 더빙 진짜 짜증나네요 목소리</td>\n",
       "      <td>0</td>\n",
       "      <td>19</td>\n",
       "    </tr>\n",
       "    <tr>\n",
       "      <th>1</th>\n",
       "      <td>3819312</td>\n",
       "      <td>흠포스터보고 초딩영화줄오버연기조차 가볍지 않구나</td>\n",
       "      <td>1</td>\n",
       "      <td>33</td>\n",
       "    </tr>\n",
       "    <tr>\n",
       "      <th>2</th>\n",
       "      <td>10265843</td>\n",
       "      <td>너무재밓었다그래서보는것을추천한다</td>\n",
       "      <td>0</td>\n",
       "      <td>17</td>\n",
       "    </tr>\n",
       "    <tr>\n",
       "      <th>3</th>\n",
       "      <td>9045019</td>\n",
       "      <td>교도소 이야기구먼 솔직히 재미는 없다평점 조정</td>\n",
       "      <td>0</td>\n",
       "      <td>29</td>\n",
       "    </tr>\n",
       "    <tr>\n",
       "      <th>4</th>\n",
       "      <td>6483659</td>\n",
       "      <td>사이몬페그의 익살스런 연기가 돋보였던 영화스파이더맨에서 늙어보이기만 했던 커스틴 던...</td>\n",
       "      <td>1</td>\n",
       "      <td>61</td>\n",
       "    </tr>\n",
       "  </tbody>\n",
       "</table>\n",
       "</div>"
      ],
      "text/plain": [
       "         id                                           document  label  length\n",
       "0   9976970                                  아 더빙 진짜 짜증나네요 목소리      0      19\n",
       "1   3819312                         흠포스터보고 초딩영화줄오버연기조차 가볍지 않구나      1      33\n",
       "2  10265843                                  너무재밓었다그래서보는것을추천한다      0      17\n",
       "3   9045019                          교도소 이야기구먼 솔직히 재미는 없다평점 조정      0      29\n",
       "4   6483659  사이몬페그의 익살스런 연기가 돋보였던 영화스파이더맨에서 늙어보이기만 했던 커스틴 던...      1      61"
      ]
     },
     "execution_count": 7,
     "metadata": {},
     "output_type": "execute_result"
    }
   ],
   "source": [
    "print(len(df_train))\n",
    "df_train.head()"
   ]
  },
  {
   "cell_type": "code",
   "execution_count": 8,
   "id": "5ff3de3a",
   "metadata": {},
   "outputs": [
    {
     "name": "stdout",
     "output_type": "stream",
     "text": [
      "48552\n"
     ]
    },
    {
     "data": {
      "text/html": [
       "<div>\n",
       "<style scoped>\n",
       "    .dataframe tbody tr th:only-of-type {\n",
       "        vertical-align: middle;\n",
       "    }\n",
       "\n",
       "    .dataframe tbody tr th {\n",
       "        vertical-align: top;\n",
       "    }\n",
       "\n",
       "    .dataframe thead th {\n",
       "        text-align: right;\n",
       "    }\n",
       "</style>\n",
       "<table border=\"1\" class=\"dataframe\">\n",
       "  <thead>\n",
       "    <tr style=\"text-align: right;\">\n",
       "      <th></th>\n",
       "      <th>id</th>\n",
       "      <th>document</th>\n",
       "      <th>label</th>\n",
       "      <th>length</th>\n",
       "    </tr>\n",
       "  </thead>\n",
       "  <tbody>\n",
       "    <tr>\n",
       "      <th>0</th>\n",
       "      <td>6270596</td>\n",
       "      <td>굳</td>\n",
       "      <td>1</td>\n",
       "      <td>3</td>\n",
       "    </tr>\n",
       "    <tr>\n",
       "      <th>1</th>\n",
       "      <td>9274899</td>\n",
       "      <td>GDNTOPCLASSINTHECLUB</td>\n",
       "      <td>0</td>\n",
       "      <td>20</td>\n",
       "    </tr>\n",
       "    <tr>\n",
       "      <th>2</th>\n",
       "      <td>8544678</td>\n",
       "      <td>뭐야 이 평점들은 나쁘진 않지만 10점 짜리는 더더욱 아니잖아</td>\n",
       "      <td>0</td>\n",
       "      <td>38</td>\n",
       "    </tr>\n",
       "    <tr>\n",
       "      <th>3</th>\n",
       "      <td>6825595</td>\n",
       "      <td>지루하지는 않은데 완전 막장임 돈주고 보기에는</td>\n",
       "      <td>0</td>\n",
       "      <td>32</td>\n",
       "    </tr>\n",
       "    <tr>\n",
       "      <th>4</th>\n",
       "      <td>6723715</td>\n",
       "      <td>3D만 아니었어도 별 다섯 개 줬을텐데 왜 3D로 나와서 제 심기를 불편하게 하죠</td>\n",
       "      <td>0</td>\n",
       "      <td>49</td>\n",
       "    </tr>\n",
       "  </tbody>\n",
       "</table>\n",
       "</div>"
      ],
      "text/plain": [
       "        id                                       document  label  length\n",
       "0  6270596                                             굳       1       3\n",
       "1  9274899                           GDNTOPCLASSINTHECLUB      0      20\n",
       "2  8544678             뭐야 이 평점들은 나쁘진 않지만 10점 짜리는 더더욱 아니잖아      0      38\n",
       "3  6825595                      지루하지는 않은데 완전 막장임 돈주고 보기에는      0      32\n",
       "4  6723715  3D만 아니었어도 별 다섯 개 줬을텐데 왜 3D로 나와서 제 심기를 불편하게 하죠      0      49"
      ]
     },
     "execution_count": 8,
     "metadata": {},
     "output_type": "execute_result"
    }
   ],
   "source": [
    "print(len(df_test))\n",
    "df_test.head()"
   ]
  },
  {
   "cell_type": "code",
   "execution_count": 9,
   "id": "ac86e6d3",
   "metadata": {},
   "outputs": [],
   "source": [
    "# SentencePiece 모델 학습을 위한 데이터 준비\n",
    "def prepare_sentencepiece_data(df, output_file):\n",
    "    with open(output_file, 'w', encoding='utf-8') as f:\n",
    "        for text in df['document']:\n",
    "            if isinstance(text, str) and text.strip():  # 빈 문자열 제외\n",
    "                f.write(text + '\\n')\n",
    "prepare_sentencepiece_data(df_train, 'naver_corpus.txt')"
   ]
  },
  {
   "cell_type": "code",
   "execution_count": 10,
   "id": "41304542",
   "metadata": {},
   "outputs": [
    {
     "name": "stdout",
     "output_type": "stream",
     "text": [
      "Sentence count in corpus (after file write): 143894\n"
     ]
    }
   ],
   "source": [
    "with open('naver_corpus.txt', 'r', encoding='utf-8') as f:\n",
    "    corpus_lines = f.readlines()\n",
    "print(f\"Sentence count in corpus (after file write): {len(corpus_lines)}\")"
   ]
  },
  {
   "cell_type": "markdown",
   "id": "5bf63b33",
   "metadata": {},
   "source": [
    "- Semtecepiece 모델 학습을 위해서 데이터 준비할때, 오류 발생... \n",
    "- 이유는 모르겠는데, 챗지피티와 함께 해결..\n",
    "- 빈 열에 대해서 정확히 한줄씩 문장 단위로 처리를 못해서 그런 것 같음. => 암튼 해결"
   ]
  },
  {
   "cell_type": "code",
   "execution_count": 11,
   "id": "8bbd696a",
   "metadata": {},
   "outputs": [
    {
     "name": "stderr",
     "output_type": "stream",
     "text": [
      "sentencepiece_trainer.cc(177) LOG(INFO) Running command: --input=naver_corpus.txt --model_prefix=sp_model --vocab_size=5000 --model_type=bpe --minloglevel=0\n",
      "sentencepiece_trainer.cc(77) LOG(INFO) Starts training with : \n",
      "trainer_spec {\n",
      "  input: naver_corpus.txt\n",
      "  input_format: \n",
      "  model_prefix: sp_model\n",
      "  model_type: BPE\n",
      "  vocab_size: 5000\n",
      "  self_test_sample_size: 0\n",
      "  character_coverage: 0.9995\n",
      "  input_sentence_size: 0\n",
      "  shuffle_input_sentence: 1\n",
      "  seed_sentencepiece_size: 1000000\n",
      "  shrinking_factor: 0.75\n",
      "  max_sentence_length: 4192\n",
      "  num_threads: 16\n",
      "  num_sub_iterations: 2\n",
      "  max_sentencepiece_length: 16\n",
      "  split_by_unicode_script: 1\n",
      "  split_by_number: 1\n",
      "  split_by_whitespace: 1\n",
      "  split_digits: 0\n",
      "  treat_whitespace_as_suffix: 0\n",
      "  allow_whitespace_only_pieces: 0\n",
      "  required_chars: \n",
      "  byte_fallback: 0\n",
      "  vocabulary_output_piece_score: 1\n",
      "  train_extremely_large_corpus: 0\n",
      "  hard_vocab_limit: 1\n",
      "  use_all_vocab: 0\n",
      "  unk_id: 0\n",
      "  bos_id: 1\n",
      "  eos_id: 2\n",
      "  pad_id: -1\n",
      "  unk_piece: <unk>\n",
      "  bos_piece: <s>\n",
      "  eos_piece: </s>\n",
      "  pad_piece: <pad>\n",
      "  unk_surface:  ⁇ \n",
      "}\n",
      "normalizer_spec {\n",
      "  name: nmt_nfkc\n",
      "  add_dummy_prefix: 1\n",
      "  remove_extra_whitespaces: 1\n",
      "  escape_whitespaces: 1\n",
      "  normalization_rule_tsv: \n",
      "}\n",
      "denormalizer_spec {}\n",
      "trainer_interface.cc(329) LOG(INFO) SentenceIterator is not specified. Using MultiFileSentenceIterator.\n",
      "trainer_interface.cc(178) LOG(INFO) Loading corpus: naver_corpus.txt\n",
      "trainer_interface.cc(385) LOG(INFO) Loaded all 143894 sentences\n",
      "trainer_interface.cc(400) LOG(INFO) Adding meta_piece: <unk>\n",
      "trainer_interface.cc(400) LOG(INFO) Adding meta_piece: <s>\n",
      "trainer_interface.cc(400) LOG(INFO) Adding meta_piece: </s>\n",
      "trainer_interface.cc(405) LOG(INFO) Normalizing sentences...\n",
      "trainer_interface.cc(466) LOG(INFO) all chars count=4945989\n",
      "trainer_interface.cc(477) LOG(INFO) Done: 99.9501% characters are covered.\n",
      "trainer_interface.cc(487) LOG(INFO) Alphabet size=1577\n",
      "trainer_interface.cc(488) LOG(INFO) Final character coverage=0.999501\n",
      "trainer_interface.cc(520) LOG(INFO) Done! preprocessed 143894 sentences.\n",
      "trainer_interface.cc(526) LOG(INFO) Tokenizing input sentences with whitespace: 143894\n",
      "trainer_interface.cc(537) LOG(INFO) Done! 302893\n",
      "bpe_model_trainer.cc(167) LOG(INFO) Updating active symbols. max_freq=58653 min_freq=83\n",
      "bpe_model_trainer.cc(258) LOG(INFO) Added: freq=10576 size=20 all=113679 active=11031 piece=▁내\n",
      "bpe_model_trainer.cc(258) LOG(INFO) Added: freq=8114 size=40 all=118372 active=15724 piece=에서\n",
      "bpe_model_trainer.cc(258) LOG(INFO) Added: freq=5713 size=60 all=122235 active=19587 piece=▁더\n",
      "bpe_model_trainer.cc(258) LOG(INFO) Added: freq=4753 size=80 all=127285 active=24637 piece=▁같\n",
      "bpe_model_trainer.cc(258) LOG(INFO) Added: freq=3987 size=100 all=130871 active=28223 piece=보다\n",
      "bpe_model_trainer.cc(167) LOG(INFO) Updating active symbols. max_freq=3944 min_freq=68\n",
      "bpe_model_trainer.cc(258) LOG(INFO) Added: freq=3546 size=120 all=133970 active=9129 piece=▁뭐\n",
      "bpe_model_trainer.cc(258) LOG(INFO) Added: freq=2989 size=140 all=136579 active=11738 piece=▁참\n",
      "bpe_model_trainer.cc(258) LOG(INFO) Added: freq=2719 size=160 all=138958 active=14117 piece=▁상\n",
      "bpe_model_trainer.cc(258) LOG(INFO) Added: freq=2462 size=180 all=141619 active=16778 piece=지는\n",
      "bpe_model_trainer.cc(258) LOG(INFO) Added: freq=2279 size=200 all=144110 active=19269 piece=▁코\n",
      "bpe_model_trainer.cc(167) LOG(INFO) Updating active symbols. max_freq=2278 min_freq=61\n",
      "bpe_model_trainer.cc(258) LOG(INFO) Added: freq=2100 size=220 all=146853 active=9860 piece=했다\n",
      "bpe_model_trainer.cc(258) LOG(INFO) Added: freq=1933 size=240 all=150240 active=13247 piece=▁허\n",
      "bpe_model_trainer.cc(258) LOG(INFO) Added: freq=1811 size=260 all=152967 active=15974 piece=▁로\n",
      "bpe_model_trainer.cc(258) LOG(INFO) Added: freq=1725 size=280 all=155006 active=18013 piece=▁재밌게\n",
      "bpe_model_trainer.cc(258) LOG(INFO) Added: freq=1586 size=300 all=157134 active=20141 piece=▁엄\n",
      "bpe_model_trainer.cc(167) LOG(INFO) Updating active symbols. max_freq=1586 min_freq=55\n",
      "bpe_model_trainer.cc(258) LOG(INFO) Added: freq=1455 size=320 all=159205 active=9886 piece=▁단\n",
      "bpe_model_trainer.cc(258) LOG(INFO) Added: freq=1399 size=340 all=160879 active=11560 piece=아서\n",
      "bpe_model_trainer.cc(258) LOG(INFO) Added: freq=1322 size=360 all=163637 active=14318 piece=였다\n",
      "bpe_model_trainer.cc(258) LOG(INFO) Added: freq=1246 size=380 all=166202 active=16883 piece=▁OO\n",
      "bpe_model_trainer.cc(258) LOG(INFO) Added: freq=1209 size=400 all=168367 active=19048 piece=하지만\n",
      "bpe_model_trainer.cc(167) LOG(INFO) Updating active symbols. max_freq=1207 min_freq=50\n",
      "bpe_model_trainer.cc(258) LOG(INFO) Added: freq=1156 size=420 all=170350 active=10104 piece=려고\n",
      "bpe_model_trainer.cc(258) LOG(INFO) Added: freq=1096 size=440 all=172631 active=12385 piece=▁극장\n",
      "bpe_model_trainer.cc(258) LOG(INFO) Added: freq=1057 size=460 all=174294 active=14048 piece=▁억지\n",
      "bpe_model_trainer.cc(258) LOG(INFO) Added: freq=998 size=480 all=176429 active=16183 piece=▁전혀\n",
      "bpe_model_trainer.cc(258) LOG(INFO) Added: freq=956 size=500 all=177941 active=17695 piece=했던\n",
      "bpe_model_trainer.cc(167) LOG(INFO) Updating active symbols. max_freq=954 min_freq=46\n",
      "bpe_model_trainer.cc(258) LOG(INFO) Added: freq=917 size=520 all=179986 active=10676 piece=▁재밋\n",
      "bpe_model_trainer.cc(258) LOG(INFO) Added: freq=886 size=540 all=181969 active=12659 piece=▁크\n",
      "bpe_model_trainer.cc(258) LOG(INFO) Added: freq=863 size=560 all=184727 active=15417 piece=▁이걸\n",
      "bpe_model_trainer.cc(258) LOG(INFO) Added: freq=840 size=580 all=186716 active=17406 piece=영화는\n",
      "bpe_model_trainer.cc(258) LOG(INFO) Added: freq=810 size=600 all=189288 active=19978 piece=▁모습\n",
      "bpe_model_trainer.cc(167) LOG(INFO) Updating active symbols. max_freq=810 min_freq=42\n",
      "bpe_model_trainer.cc(258) LOG(INFO) Added: freq=778 size=620 all=190918 active=11050 piece=보면\n",
      "bpe_model_trainer.cc(258) LOG(INFO) Added: freq=763 size=640 all=193411 active=13543 piece=▁느껴\n",
      "bpe_model_trainer.cc(258) LOG(INFO) Added: freq=745 size=660 all=195577 active=15709 piece=들도\n",
      "bpe_model_trainer.cc(258) LOG(INFO) Added: freq=718 size=680 all=197284 active=17416 piece=▁내용도\n",
      "bpe_model_trainer.cc(258) LOG(INFO) Added: freq=693 size=700 all=198915 active=19047 piece=▁날\n",
      "bpe_model_trainer.cc(167) LOG(INFO) Updating active symbols. max_freq=693 min_freq=39\n",
      "bpe_model_trainer.cc(258) LOG(INFO) Added: freq=666 size=720 all=200411 active=11365 piece=▁싶다\n",
      "bpe_model_trainer.cc(258) LOG(INFO) Added: freq=654 size=740 all=201790 active=12744 piece=▁남는\n",
      "bpe_model_trainer.cc(258) LOG(INFO) Added: freq=637 size=760 all=203295 active=14249 piece=▁따뜻\n",
      "bpe_model_trainer.cc(258) LOG(INFO) Added: freq=624 size=780 all=204846 active=15800 piece=하는데\n",
      "bpe_model_trainer.cc(258) LOG(INFO) Added: freq=610 size=800 all=206065 active=17019 piece=▁희\n",
      "bpe_model_trainer.cc(167) LOG(INFO) Updating active symbols. max_freq=610 min_freq=37\n",
      "bpe_model_trainer.cc(258) LOG(INFO) Added: freq=599 size=820 all=207725 active=11934 piece=▁언"
     ]
    }
   ],
   "source": [
    "# SentencePiece 모델 학습\n",
    "VOCAB_SIZE = 5000\n",
    "MODEL_TYPE = 'bpe'  # unigram, bpe, word, char 중 선택 가능\n",
    "spm.SentencePieceTrainer.Train(f'--input=naver_corpus.txt --model_prefix=sp_model --vocab_size={VOCAB_SIZE} --model_type={MODEL_TYPE} --minloglevel=0')"
   ]
  },
  {
   "cell_type": "code",
   "execution_count": 12,
   "id": "3eec2912",
   "metadata": {},
   "outputs": [
    {
     "data": {
      "text/plain": [
       "True"
      ]
     },
     "execution_count": 12,
     "metadata": {},
     "output_type": "execute_result"
    }
   ],
   "source": [
    "# SentencePiece 모델 로드\n",
    "sp = spm.SentencePieceProcessor()\n",
    "sp.load('sp_model.model')"
   ]
  },
  {
   "cell_type": "code",
   "execution_count": 13,
   "id": "06cd52c6",
   "metadata": {},
   "outputs": [
    {
     "name": "stdout",
     "output_type": "stream",
     "text": [
      "Tokenized IDs: [6, 3597, 834, 3673, 3435, 1329, 3431, 3525, 3425, 0]\n",
      "Decoded Sentence: 아버지가방에들어가신다 ⁇ \n"
     ]
    }
   ],
   "source": [
    "# SentencePiece를 활용한 인코딩 및 디코딩 예제\n",
    "sample_sentence = \"아버지가방에들어가신다.\"\n",
    "token_ids = sp.encode_as_ids(sample_sentence)\n",
    "print(\"Tokenized IDs:\", token_ids)\n",
    "print(\"Decoded Sentence:\", sp.decode_ids(token_ids))"
   ]
  },
  {
   "cell_type": "code",
   "execution_count": 14,
   "id": "bd1668c6",
   "metadata": {},
   "outputs": [],
   "source": [
    "# SentencePiece 기반 토큰화 함수\n",
    "def sp_tokenize(s, corpus, maxlen): \n",
    "    tensor = [s.encode_as_ids(sen) for sen in corpus]\n",
    "    tensor = pad_sequences(tensor, maxlen=maxlen, padding='post')\n",
    "    return tensor"
   ]
  },
  {
   "cell_type": "code",
   "execution_count": 15,
   "id": "1d007442",
   "metadata": {},
   "outputs": [],
   "source": [
    "# max_length를 데이터 기반으로 설정\n",
    "max_length = 65\n",
    "X = sp_tokenize(sp, df_train['document'].tolist(), max_length)\n",
    "y = np.array(df_train['label'].tolist())\n",
    "\n",
    "# 데이터셋 분리 \n",
    "X_train, X_val, y_train, y_val = train_test_split(X, y, test_size=0.1, random_state=42, shuffle=True)"
   ]
  },
  {
   "cell_type": "code",
   "execution_count": 16,
   "id": "8e4bab85",
   "metadata": {},
   "outputs": [],
   "source": [
    "# 모델 구성\n",
    "model = Sequential([\n",
    "    Embedding(5000, 256, input_length=max_length),\n",
    "    LSTM(128, return_sequences=True),\n",
    "    LSTM(64),\n",
    "    BatchNormalization(),\n",
    "    Dense(64, activation='relu'),\n",
    "    Dropout(0.3),\n",
    "    Dense(1, activation='sigmoid')\n",
    "])"
   ]
  },
  {
   "cell_type": "code",
   "execution_count": 17,
   "id": "0a7ad705",
   "metadata": {},
   "outputs": [],
   "source": [
    "model.compile(loss='binary_crossentropy', optimizer='adam', metrics=['accuracy'])"
   ]
  },
  {
   "cell_type": "code",
   "execution_count": 18,
   "id": "72f0c09c",
   "metadata": {},
   "outputs": [
    {
     "name": "stdout",
     "output_type": "stream",
     "text": [
      "Epoch 1/8\n",
      "2024/2024 [==============================] - 24s 10ms/step - loss: 0.4405 - accuracy: 0.7796 - val_loss: 0.3679 - val_accuracy: 0.8241\n",
      "Epoch 2/8\n",
      "2024/2024 [==============================] - 20s 10ms/step - loss: 0.3279 - accuracy: 0.8571 - val_loss: 0.3514 - val_accuracy: 0.8546\n",
      "Epoch 3/8\n",
      "2024/2024 [==============================] - 19s 9ms/step - loss: 0.2912 - accuracy: 0.8744 - val_loss: 0.3371 - val_accuracy: 0.8454\n",
      "Epoch 4/8\n",
      "2024/2024 [==============================] - 19s 9ms/step - loss: 0.2591 - accuracy: 0.8903 - val_loss: 0.3410 - val_accuracy: 0.8547\n",
      "Epoch 5/8\n",
      "2024/2024 [==============================] - 19s 9ms/step - loss: 0.2273 - accuracy: 0.9054 - val_loss: 0.3527 - val_accuracy: 0.8513\n",
      "Epoch 6/8\n",
      "2024/2024 [==============================] - 19s 9ms/step - loss: 0.1959 - accuracy: 0.9199 - val_loss: 0.4170 - val_accuracy: 0.8500\n",
      "Epoch 7/8\n",
      "2024/2024 [==============================] - 19s 9ms/step - loss: 0.1655 - accuracy: 0.9333 - val_loss: 0.4479 - val_accuracy: 0.8452\n",
      "Epoch 8/8\n",
      "2024/2024 [==============================] - 19s 9ms/step - loss: 0.1389 - accuracy: 0.9450 - val_loss: 0.5631 - val_accuracy: 0.8484\n"
     ]
    }
   ],
   "source": [
    "# 모델 학습\n",
    "EPOCHS = 8\n",
    "BATCH_SIZE = 64\n",
    "history = model.fit(\n",
    "    X_train, y_train,\n",
    "    epochs=EPOCHS,\n",
    "    batch_size=BATCH_SIZE,\n",
    "    validation_data=(X_val, y_val),\n",
    ")"
   ]
  },
  {
   "cell_type": "code",
   "execution_count": 19,
   "id": "254426a0",
   "metadata": {},
   "outputs": [
    {
     "data": {
      "image/png": "[encoded data removed]",
      "text/plain": [
       "<Figure size 864x360 with 2 Axes>"
      ]
     },
     "metadata": {
      "needs_background": "light"
     },
     "output_type": "display_data"
    }
   ],
   "source": [
    "# 학습 과정 시각화 (정확도 & 손실 그래프 추가)\n",
    "plt.figure(figsize=(12, 5))\n",
    "plt.subplot(1, 2, 1)\n",
    "plt.plot(history.history['accuracy'], label='Train Accuracy')\n",
    "plt.plot(history.history['val_accuracy'], label='Validation Accuracy')\n",
    "plt.xlabel('Epochs')\n",
    "plt.ylabel('Accuracy')\n",
    "plt.legend()\n",
    "plt.title('Training & Validation Accuracy')\n",
    "\n",
    "plt.subplot(1, 2, 2)\n",
    "plt.plot(history.history['loss'], label='Train Loss')\n",
    "plt.plot(history.history['val_loss'], label='Validation Loss')\n",
    "plt.xlabel('Epochs')\n",
    "plt.ylabel('Loss')\n",
    "plt.legend()\n",
    "plt.title('Training & Validation Loss')\n",
    "\n",
    "plt.show()"
   ]
  },
  {
   "cell_type": "code",
   "execution_count": 20,
   "id": "a4904ab4",
   "metadata": {},
   "outputs": [],
   "source": [
    "# df_test를 최종 평가 데이터로 사용\n",
    "X_final_test = sp_tokenize(sp, df_test['document'].tolist(), max_length)\n",
    "y_final_test = np.array(df_test['label'].tolist())"
   ]
  },
  {
   "cell_type": "code",
   "execution_count": 21,
   "id": "ff8961cc",
   "metadata": {},
   "outputs": [
    {
     "name": "stdout",
     "output_type": "stream",
     "text": [
      "1518/1518 [==============================] - 6s 4ms/step - loss: 0.5852 - accuracy: 0.8445\n"
     ]
    }
   ],
   "source": [
    "# 최종 평가 수행\n",
    "final_score, final_acc = model.evaluate(X_final_test, y_final_test)\n",
    "y_final_pred = (model.predict(X_final_test) > 0.5).astype(\"int32\")"
   ]
  },
  {
   "cell_type": "code",
   "execution_count": 22,
   "id": "00c47561",
   "metadata": {},
   "outputs": [
    {
     "name": "stdout",
     "output_type": "stream",
     "text": [
      "Final Test Accuracy: 0.8445\n",
      "Final Classification Report:\n",
      "              precision    recall  f1-score   support\n",
      "\n",
      "           0       0.81      0.89      0.85     24181\n",
      "           1       0.88      0.80      0.84     24371\n",
      "\n",
      "    accuracy                           0.84     48552\n",
      "   macro avg       0.85      0.84      0.84     48552\n",
      "weighted avg       0.85      0.84      0.84     48552\n",
      "\n"
     ]
    }
   ],
   "source": [
    "print(f\"Final Test Accuracy: {final_acc:.4f}\")\n",
    "print(\"Final Classification Report:\")\n",
    "print(classification_report(y_final_test, y_final_pred))"
   ]
  },
  {
   "cell_type": "markdown",
   "id": "7bca34c6",
   "metadata": {},
   "source": [
    "### 최종 확인"
   ]
  },
  {
   "cell_type": "code",
   "execution_count": 23,
   "id": "fcc57134",
   "metadata": {},
   "outputs": [
    {
     "name": "stdout",
     "output_type": "stream",
     "text": [
      "Original: 내용이 없음\n",
      "Tokenized: ['▁내용이', '▁없음']\n",
      "Token IDs: [610, 857]\n",
      "--------------------------------------------------\n",
      "Original: 서극이 진짜 감독을 했나\n",
      "Tokenized: ['▁서', '극', '이', '▁진짜', '▁감독', '을', '▁했', '나']\n",
      "Token IDs: [350, 3643, 3424, 49, 130, 3447, 273, 3436]\n",
      "--------------------------------------------------\n",
      "Original: 영화 필름이 아까움 최고의 졸작\n",
      "Tokenized: ['▁영화', '▁필', '름', '이', '▁아까움', '▁최고의', '▁졸작']\n",
      "Token IDs: [4, 1592, 3610, 3424, 1622, 200, 951]\n",
      "--------------------------------------------------\n"
     ]
    }
   ],
   "source": [
    "# 1. 샘플 문장 토큰화 결과 확인\n",
    "sample_texts = df_test['document'].sample(3).tolist()\n",
    "for text in sample_texts:\n",
    "    print(f\"Original: {text}\")\n",
    "    print(f\"Tokenized: {sp.encode_as_pieces(text)}\")\n",
    "    print(f\"Token IDs: {sp.encode_as_ids(text)}\")\n",
    "    print(\"-\" * 50)"
   ]
  },
  {
   "cell_type": "code",
   "execution_count": 24,
   "id": "2daf2ecc",
   "metadata": {},
   "outputs": [
    {
     "name": "stdout",
     "output_type": "stream",
     "text": [
      "X_train shape: (129509, 65), X_val shape: (14390, 65), X_final_test shape: (48552, 65)\n"
     ]
    }
   ],
   "source": [
    "# 2. 데이터 패딩 확인\n",
    "print(f\"X_train shape: {X_train.shape}, X_val shape: {X_val.shape}, X_final_test shape: {X_final_test.shape}\")"
   ]
  },
  {
   "cell_type": "code",
   "execution_count": 25,
   "id": "bce1e1ce",
   "metadata": {},
   "outputs": [
    {
     "name": "stdout",
     "output_type": "stream",
     "text": [
      "Sentence: 최악 지루함의 극치는 둘째쳐 대체 이렇게 잡스러운 영화는 또 뭐니\n",
      "Predicted: 0.0001 -> Negative (Actual: Negative)\n",
      "--------------------------------------------------\n",
      "Sentence: 1개 주는것도 영광으로 알길\n",
      "Predicted: 0.4080 -> Negative (Actual: Negative)\n",
      "--------------------------------------------------\n",
      "Sentence: 우와 유치하다 처음부터 끝까지\n",
      "Predicted: 0.0002 -> Negative (Actual: Negative)\n",
      "--------------------------------------------------\n",
      "Sentence: 문채원 짱 너무나 사랑스럽고 귀엽고 문채원의 매력에 푹 빠져보세요\n",
      "Predicted: 0.9997 -> Positive (Actual: Positive)\n",
      "--------------------------------------------------\n",
      "Sentence: 다시 본 나쁜 남자는 나쁘기만 한 남자는 아니네요이해하기 어렵지만 짠하고 슬픈 사람들\n",
      "Predicted: 0.9943 -> Positive (Actual: Positive)\n",
      "--------------------------------------------------\n",
      "Sentence: 어휴이런글첨써보네요무슨 싸이코패스드라마도 아니고아무리 돈이전부라지만 너무하네요말도 안되는 소재로 질질 끄는것도 어느정도지시청자를 우롱하네요 이드라마배우전부 보기도싫을정도\n",
      "Predicted: 0.0000 -> Negative (Actual: Negative)\n",
      "--------------------------------------------------\n",
      "Sentence: 투자자들은 제발 투자할만한 영화에 투자좀 해라 뭐니 이게\n",
      "Predicted: 0.0001 -> Negative (Actual: Negative)\n",
      "--------------------------------------------------\n",
      "Sentence: 굿잼꿀잼개잼존잼\n",
      "Predicted: 0.9986 -> Positive (Actual: Positive)\n",
      "--------------------------------------------------\n",
      "Sentence: 그닥볼가치없는3류만화인듯\n",
      "Predicted: 0.0005 -> Negative (Actual: Negative)\n",
      "--------------------------------------------------\n",
      "Sentence: 평소에 발견하지 못했던 것들을 한번 챙겨보게 한는 작품\n",
      "Predicted: 0.9986 -> Positive (Actual: Positive)\n",
      "--------------------------------------------------\n"
     ]
    }
   ],
   "source": [
    "# 3. 모델 예측 확인\n",
    "sample_indices = np.random.choice(len(X_final_test), 10, replace=False)\n",
    "for idx in sample_indices:\n",
    "    pred = model.predict(X_final_test[idx].reshape(1, -1))\n",
    "    label = y_final_test[idx]\n",
    "    print(f\"Sentence: {df_test.iloc[idx]['document']}\")\n",
    "    print(f\"Predicted: {pred[0][0]:.4f} -> {'Positive' if pred[0][0] > 0.5 else 'Negative'} (Actual: {'Positive' if label == 1 else 'Negative'})\")\n",
    "    print(\"-\" * 50)"
   ]
  },
  {
   "cell_type": "markdown",
   "id": "02f68552",
   "metadata": {},
   "source": [
    "### 의문점.\n",
    "- 왜 돌릴때마다 accuracy가 다르게 나오지..\n",
    "- 데이터를 자세히 안보긴했느데,, 전처리를 더 잘해야 하나.."
   ]
  },
  {
   "cell_type": "markdown",
   "id": "d1b63682",
   "metadata": {},
   "source": [
    "## 회고\n",
    "- 사실 어떤 데이터에 어떤 토크나이저를 써야되는지는 정확하게 정리가 되어있지는 않는다.  \n",
    "- 하지만 이번 기회에 다양한 토크나이저를 알게 되면서, 다음 프로젝트에서 여러 토크나이저를 활용해서 모델에 적용해볼 수 있겠다는 생각을 했다.\n",
    "- 당연히 한국어 데이터이기 때문에 형태소 토크나이저가 더 좋을 것이라고 생각했지만, 당연한건 없다는 것을 알게되었다."
   ]
  }
 ],
 "metadata": {
  "kernelspec": {
   "display_name": "Python 3 (ipykernel)",
   "language": "python",
   "name": "python3"
  },
  "language_info": {
   "codemirror_mode": {
    "name": "ipython",
    "version": 3
   },
   "file_extension": ".py",
   "mimetype": "text/x-python",
   "name": "python",
   "nbconvert_exporter": "python",
   "pygments_lexer": "ipython3",
   "version": "3.9.7"
  }
 },
 "nbformat": 4,
 "nbformat_minor": 5
}
